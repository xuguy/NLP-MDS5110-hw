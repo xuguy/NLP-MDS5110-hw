{
  "cells": [
    {
      "cell_type": "markdown",
      "metadata": {
        "id": "9yFFKuDZB_ow"
      },
      "source": [
        "\n",
        "# Assignment 1: Exploring Word Embeddings\n",
        "**Course Name:** Natural Language Processing (CSC6052/5051/4100/DDA6307/MDS5110)\n",
        "\n",
        "\n",
        "\n"
      ]
    },
    {
      "cell_type": "markdown",
      "metadata": {
        "id": "Y_qFy6J9EgJe"
      },
      "source": [
        "*Please enter your personal information (make sure you have copied this colab)*\n",
        "\n",
        "**Name:**\n",
        "\n",
        "**Student ID:**\n",
        "\n",
        "\n",
        "\n",
        "\n"
      ]
    },
    {
      "cell_type": "code",
      "execution_count": 1,
      "metadata": {
        "colab": {
          "base_uri": "https://localhost:8080/"
        },
        "id": "AbC_Md4Gicaz",
        "outputId": "8161f3ca-1482-4e85-edfc-a9eff0370abf"
      },
      "outputs": [
        {
          "name": "stdout",
          "output_type": "stream",
          "text": [
            "student id: 224040074\n"
          ]
        }
      ],
      "source": [
        "# test\n",
        "print(f'student id: 224040074')"
      ]
    },
    {
      "cell_type": "markdown",
      "metadata": {
        "id": "nQDMk5Uu1niv"
      },
      "source": [
        "## Assignment Requirements\n",
        "\n",
        "This Colab file includes all contents for Assignment 1.\n",
        "\n",
        "#### You are required to:\n",
        "\n",
        "1. **Make a copy of the provided Google Colab file.**  \n",
        "   First, you need to make a copy of the provided file into your own Google Drive. To accomplish this, open the Colab file link, navigate to `File` → `Save a copy in Drive`.\n",
        "\n",
        "2. **Execute the notebook to generate results.**  \n",
        "   You can click on \"Connect to GPU\" to apply for a free T4 GPU. Then, you can press the large play button to run a code cell.\n",
        "\n",
        "3. **Complete the Necessary Parts.**  \n",
        "   Some sections of the code are incomplete and require your input, especially pay attention to the parts marked with **<font color=\"red\">[Task]</font>**. These sections are critical for scoring the assignment.\n",
        "\n",
        "For more detailed instructions, refer to [Working with Google Colab](https://docs.google.com/document/d/1vMe8kC-oSyP3w7rIurDbG3NqfyQw7sZJ2C_S2ngtQnk/edit?usp=sharing).\n",
        "\n",
        "## Submission Guidelines\n",
        "\n",
        "Follow these steps to submit your assignment:\n",
        "\n",
        "1. **Export the Notebook:** Navigate to `File` → `Download .ipynb` to download your notebook.\n",
        "\n",
        "2. **Upload Your File:** Access the [Blackboard system](https://bb.cuhk.edu.cn/) and upload your `.ipynb` file."
      ]
    },
    {
      "cell_type": "markdown",
      "metadata": {
        "id": "H0gO12GJE06O"
      },
      "source": [
        "\n",
        "## Overview\n",
        "\n",
        "*Assignment 1* consists of two tasks:\n",
        "- Task 1: Train Word Embeddings with Word2Vec (5 points)\n",
        "- Task 2: Explore word embeddings (3 ponits)\n",
        "- Task 3: Utilize word embeddings (2 points)\n",
        "\n",
        "Your task is to **run all the code in this script** and complete the parts marked with <font color=\"red\">[task]</font>.\n",
        "\n",
        "## Prerequisite\n",
        "If you're new to Python, Numpy, or PyTorch, consider these tutorials for a quick start:\n",
        "- [Python-Numpy-Tutorial](https://cs231n.github.io/python-numpy-tutorial/)\n",
        "- [Introduction to PyTorch](https://colab.research.google.com/drive/1obAmmGHsMizB38aiZJ_-L1bVMT5KOLMd?usp=sharing)"
      ]
    },
    {
      "cell_type": "markdown",
      "metadata": {
        "id": "SwAJjpp-K8RQ"
      },
      "source": [
        "## Task 1: Train Word Embeddings with Word2Vec\n",
        "\n",
        "**In this task, you will implement and train your own Word2Vec model.**\n",
        "\n",
        "Before diving in, let's clarify what Word2Vec is.\n",
        "\n",
        "Its core concept is straightforward: you can infer the meaning of a word from its neighbors - the words that frequently appear in the same context. Consider this illustration:\n",
        "![Contexts](https://image.ibb.co/mnQ2uz/2018_09_17_21_07_08.png)\n",
        "\n",
        "A basic approach is to use the context word counts as meaningful word vectors. Take this simple corpus for example:\n",
        "\n",
        "```\n",
        "The red fox jumped\n",
        "The brown fox jumped\n",
        "```\n",
        "\n",
        "The count vectors would look like this:\n",
        "```\n",
        "        the fox jumped red brown\n",
        "red   = (1   1    1     0    0)\n",
        "brown = (1   1    1     0    0)\n",
        "```\n",
        "\n",
        "Notice how `red` and `brown` have similar vectors! We're close to solving the problem, but the goal is to obtain more compact embedding vectors.\n",
        "\n",
        "This is where Word2Vec algorithms come into play. They construct embedding vectors based on the word's neighbors in the corpus.\n",
        "\n",
        "For a more detailed introduction, check out this post: [king - man + woman = queen; but why?](http://p.migdal.pl/2017/01/06/king-man-woman-queen-why.html).\n",
        "\n",
        "Let's do some preparation work before moving to the interesting stuff.\n",
        "\n"
      ]
    },
    {
      "cell_type": "code",
      "execution_count": 1,
      "metadata": {
        "colab": {
          "base_uri": "https://localhost:8080/"
        },
        "id": "buz0YOV5WrDL",
        "outputId": "c9e710a4-16eb-4309-e32a-894df98f66ed"
      },
      "outputs": [
        {
          "name": "stdout",
          "output_type": "stream",
          "text": [
            "Python 3.12.3\n"
          ]
        }
      ],
      "source": [
        "!python --version"
      ]
    },
    {
      "cell_type": "markdown",
      "metadata": {
        "id": "8rK5IxppLRHM"
      },
      "source": [
        "### **1.1 Preparation**"
      ]
    },
    {
      "cell_type": "markdown",
      "metadata": {
        "id": "blHR2OjyO5mg"
      },
      "source": [
        "Environment installation and data download"
      ]
    },
    {
      "cell_type": "code",
      "execution_count": 1,
      "metadata": {
        "colab": {
          "base_uri": "https://localhost:8080/"
        },
        "id": "9vacV4BIFI8l",
        "outputId": "97bb9e6d-2019-4d7f-9890-c67a6e3637e0"
      },
      "outputs": [],
      "source": [
        "# i disabled some packages because no need of them\n",
        "\n",
        "# !pip3 -qq install torch==1.1\n",
        "# !pip -qq install nltk==3.8 #3.2.5\n",
        "\n",
        "!pip -qq install nltk==3.8\n",
        "!pip -qq install gensim\n",
        "!pip -qq install bokeh==3.2.0\n",
        "\n",
        "# !pip install nltk\n",
        "# !pip install gensim\n",
        "# !pip install bokeh\n",
        "\n",
        "# -qq means: do not print message while executing command\n",
        "!wget -O quora.zip -qq --no-check-certificate \"https://drive.google.com/uc?export=download&id=1ERtxpdWOgGQ3HOigqAMHTJjmOE_tWvoF\"\n",
        "!unzip -o quora.zip\n",
        "\n",
        "import nltk\n",
        "nltk.download('punkt')\n",
        "import time\n",
        "import math\n",
        "import numpy as np\n",
        "import matplotlib.pyplot as plt\n",
        "\n",
        "import torch\n",
        "import torch.autograd as autograd\n",
        "import torch.nn as nn\n",
        "import torch.nn.functional as F\n",
        "import torch.optim as optim\n",
        "\n",
        "from IPython.display import clear_output\n",
        "%matplotlib inline\n",
        "np.random.seed(42)\n",
        "\n",
        "import pandas as pd\n",
        "from nltk.tokenize import word_tokenize\n",
        "from tqdm import tqdm\n",
        "\n",
        "# please ignore ERROR of package version conflict"
      ]
    },
    {
      "cell_type": "markdown",
      "metadata": {
        "id": "wgSYdy30O_UZ"
      },
      "source": [
        "1. Tokenize and lower-case texts."
      ]
    },
    {
      "cell_type": "code",
      "execution_count": 2,
      "metadata": {
        "colab": {
          "base_uri": "https://localhost:8080/"
        },
        "id": "t27TcJKJO-ry",
        "outputId": "590d1f54-5fd3-4c4c-b600-1d85e20d0e84"
      },
      "outputs": [
        {
          "name": "stdout",
          "output_type": "stream",
          "text": [
            "50000\n"
          ]
        },
        {
          "name": "stderr",
          "output_type": "stream",
          "text": [
            "100%|██████████| 50000/50000 [00:02<00:00, 24295.42it/s]\n"
          ]
        }
      ],
      "source": [
        "quora_data = pd.read_csv('train.csv')\n",
        "\n",
        "quora_data.question1 = quora_data.question1.replace(np.nan, '', regex=True)\n",
        "quora_data.question2 = quora_data.question2.replace(np.nan, '', regex=True)\n",
        "\n",
        "texts = list(pd.concat([quora_data.question1, quora_data.question2]).unique())\n",
        "texts = texts[:50000] # Accelerated operation\n",
        "print(len(texts))\n",
        "\n",
        "tokenized_texts = [word_tokenize(text.lower()) for text in tqdm(texts)]\n",
        "\n",
        "assert len(tokenized_texts) == len(texts)\n",
        "assert isinstance(tokenized_texts[0], list)\n",
        "assert isinstance(tokenized_texts[0][0], str)"
      ]
    },
    {
      "cell_type": "code",
      "execution_count": 3,
      "metadata": {
        "colab": {
          "base_uri": "https://localhost:8080/"
        },
        "id": "C9K7y4mD2UK2",
        "outputId": "1be68bcf-823c-4a16-f770-2a91e28b5859"
      },
      "outputs": [
        {
          "data": {
            "text/plain": [
              "['what',\n",
              " 'is',\n",
              " 'the',\n",
              " 'step',\n",
              " 'by',\n",
              " 'step',\n",
              " 'guide',\n",
              " 'to',\n",
              " 'invest',\n",
              " 'in',\n",
              " 'share',\n",
              " 'market',\n",
              " 'in',\n",
              " 'india',\n",
              " '?']"
            ]
          },
          "execution_count": 3,
          "metadata": {},
          "output_type": "execute_result"
        }
      ],
      "source": [
        "tokenized_texts[0]"
      ]
    },
    {
      "cell_type": "markdown",
      "metadata": {
        "id": "QYoj91iDDDfT"
      },
      "source": [
        "2. Collect the indices of the words:"
      ]
    },
    {
      "cell_type": "code",
      "execution_count": 4,
      "metadata": {
        "colab": {
          "base_uri": "https://localhost:8080/"
        },
        "id": "5PL471pGjuVN",
        "outputId": "af461a4e-c258-4e1c-f2d6-f76e8f241ddb"
      },
      "outputs": [
        {
          "name": "stdout",
          "output_type": "stream",
          "text": [
            "Vocabulary size: 7226\n",
            "Tokens count: 623563\n",
            "Unknown tokens appeared: 35607\n",
            "Most freq words: ['?', 'the', 'what', 'is', 'how', 'i', 'a', 'to', 'in', 'do', 'of', 'are', 'and', 'can', 'for', ',', 'you', 'why', 'it', 'best']\n"
          ]
        }
      ],
      "source": [
        "from collections import Counter\n",
        "\n",
        "MIN_COUNT = 5\n",
        "\n",
        "words_counter = Counter(token for tokens in tokenized_texts for token in tokens)\n",
        "word2index = {\n",
        "    '<unk>': 0\n",
        "}\n",
        "\n",
        "for word, count in words_counter.most_common():\n",
        "    if count < MIN_COUNT:\n",
        "        break\n",
        "\n",
        "    word2index[word] = len(word2index)\n",
        "\n",
        "index2word = [word for word, _ in sorted(word2index.items(), key=lambda x: x[1])]\n",
        "\n",
        "print('Vocabulary size:', len(word2index))\n",
        "print('Tokens count:', sum(len(tokens) for tokens in tokenized_texts))\n",
        "print('Unknown tokens appeared:', sum(1 for tokens in tokenized_texts for token in tokens if token not in word2index))\n",
        "print('Most freq words:', index2word[1:21])"
      ]
    },
    {
      "cell_type": "code",
      "execution_count": 14,
      "metadata": {},
      "outputs": [
        {
          "data": {
            "text/plain": [
              "['<unk>', '?', 'the', 'what', 'is']"
            ]
          },
          "execution_count": 14,
          "metadata": {},
          "output_type": "execute_result"
        }
      ],
      "source": [
        "# 0-5 represent words ['<unk>', '?', 'the', 'what', 'is']\n",
        "index2word[:5]"
      ]
    },
    {
      "cell_type": "markdown",
      "metadata": {
        "id": "jHEQOelqQwqP"
      },
      "source": [
        "3. collect the context words\n",
        "\n",
        "First of all, we need to collect all the contexts from our corpus."
      ]
    },
    {
      "cell_type": "code",
      "execution_count": 5,
      "metadata": {
        "id": "ocrsXgaynYPG"
      },
      "outputs": [],
      "source": [
        "# i think this is the most important part of training a word embedding network\n",
        "# skipgram and cbow differs mostly in training/label data structure.\n",
        "\n",
        "def build_contexts(tokenized_texts, window_size):\n",
        "    contexts = []\n",
        "    for tokens in tokenized_texts:\n",
        "        for i in range(len(tokens)):\n",
        "            central_word = tokens[i]\n",
        "            context = [tokens[i + delta] for delta in range(-window_size, window_size + 1)\n",
        "                       if delta != 0 and i + delta >= 0 and i + delta < len(tokens)]\n",
        "\n",
        "            contexts.append((central_word, context))\n",
        "\n",
        "    return contexts\n",
        "\n",
        "contexts = build_contexts(tokenized_texts, window_size=2)\n",
        "# save a copy of contexts for later visualization purpose\n",
        "contexts_copy = contexts"
      ]
    },
    {
      "cell_type": "code",
      "execution_count": 6,
      "metadata": {},
      "outputs": [
        {
          "name": "stdout",
          "output_type": "stream",
          "text": [
            "('what', ['is', 'the'])\n",
            "('is', ['what', 'the', 'step'])\n",
            "('the', ['what', 'is', 'step', 'by'])\n",
            "('step', ['is', 'the', 'by', 'step'])\n",
            "('by', ['the', 'step', 'step', 'guide'])\n",
            "('step', ['step', 'by', 'guide', 'to'])\n",
            "('guide', ['by', 'step', 'to', 'invest'])\n",
            "('to', ['step', 'guide', 'invest', 'in'])\n",
            "('invest', ['guide', 'to', 'in', 'share'])\n",
            "('in', ['to', 'invest', 'share', 'market'])\n"
          ]
        }
      ],
      "source": [
        "# check contexts data:\n",
        "for i in contexts[:10]:\n",
        "    print(i)"
      ]
    },
    {
      "cell_type": "markdown",
      "metadata": {
        "id": "8o_ePiZ7wfpT"
      },
      "source": [
        "Check, what you got:"
      ]
    },
    {
      "cell_type": "code",
      "execution_count": 7,
      "metadata": {
        "colab": {
          "base_uri": "https://localhost:8080/"
        },
        "id": "KyQNK-9SBdb9",
        "outputId": "3d46cf7f-5d62-4636-c139-a91c7531b893"
      },
      "outputs": [
        {
          "data": {
            "text/plain": [
              "[('what', ['is', 'the']),\n",
              " ('is', ['what', 'the', 'step']),\n",
              " ('the', ['what', 'is', 'step', 'by']),\n",
              " ('step', ['is', 'the', 'by', 'step']),\n",
              " ('by', ['the', 'step', 'step', 'guide'])]"
            ]
          },
          "execution_count": 7,
          "metadata": {},
          "output_type": "execute_result"
        }
      ],
      "source": [
        "contexts[:5]"
      ]
    },
    {
      "cell_type": "markdown",
      "metadata": {
        "id": "pbQKln_6yC4l"
      },
      "source": [
        "4. Convert to indices\n",
        "\n",
        "Let's convert words to indices:"
      ]
    },
    {
      "cell_type": "code",
      "execution_count": 8,
      "metadata": {
        "id": "hOPRlKlLvUBA"
      },
      "outputs": [],
      "source": [
        "# dict.get(keyname, value): return value if keyname not found in dict\n",
        "# here, unknown words are all assign to indice 0\n",
        "contexts = [(word2index.get(central_word, 0), [word2index.get(word, 0) for word in context])\n",
        "            for central_word, context in contexts]"
      ]
    },
    {
      "cell_type": "code",
      "execution_count": 9,
      "metadata": {},
      "outputs": [
        {
          "name": "stdout",
          "output_type": "stream",
          "text": [
            "('what', ['is', 'the']) - (3, [4, 2])\n",
            "('is', ['what', 'the', 'step']) - (4, [3, 2, 1310])\n",
            "('the', ['what', 'is', 'step', 'by']) - (2, [3, 4, 1310, 65])\n",
            "('step', ['is', 'the', 'by', 'step']) - (1310, [4, 2, 65, 1310])\n",
            "('by', ['the', 'step', 'step', 'guide']) - (65, [2, 1310, 1310, 2105])\n",
            "('step', ['step', 'by', 'guide', 'to']) - (1310, [1310, 65, 2105, 8])\n",
            "('guide', ['by', 'step', 'to', 'invest']) - (2105, [65, 1310, 8, 629])\n",
            "('to', ['step', 'guide', 'invest', 'in']) - (8, [1310, 2105, 629, 9])\n",
            "('invest', ['guide', 'to', 'in', 'share']) - (629, [2105, 8, 9, 696])\n",
            "('in', ['to', 'invest', 'share', 'market']) - (9, [8, 629, 696, 399])\n"
          ]
        }
      ],
      "source": [
        "# check word-to-indices data structures\n",
        "for context, indices  in zip(contexts_copy[:10], contexts[:10]):\n",
        "    print(f'{context} - {indices}')\n",
        "    "
      ]
    },
    {
      "cell_type": "markdown",
      "metadata": {
        "id": "XGfhLR6x8D3r"
      },
      "source": [
        "### **1.2 Continuous Bag of Words (CBoW) Word2vec**"
      ]
    },
    {
      "cell_type": "markdown",
      "metadata": {
        "id": "3UuVr2IsaYhX"
      },
      "source": [
        "We have learn skip-gram model in tutorial. Now, we will explore another popular Word2Vec paradigm called Continuous Bag of Words (CBoW). *CBoW* offers faster processing and slightly better accuracy for common words compared to the *Skip-Gram*, which is more effective with rare words.\n",
        "\n",
        "**CBoW Structure**\n",
        "\n",
        "Below is the CBoW model architecture:\n",
        "\n",
        "![](https://i.ibb.co/StXTMFH/CBOW.png)\n",
        "\n",
        "In CBoW, the goal is to predict a target word from its surrounding context, represented by the sum of context vectors.\n",
        "\n",
        "We will leverage our understanding from the *Skip-Gram* model to implement *CBoW*."
      ]
    },
    {
      "cell_type": "markdown",
      "metadata": {
        "id": "5ENsl-sbox1m"
      },
      "source": [
        "1. **Batches Generations**\n",
        "**<font color=\"red\">[Task]</font>** : Implement the batch generator. **DONE**\n",
        "\n",
        "**Hint**: The generator should produce a input matrix `(batch_size, 2 * window_size)` containing context word indices and a target matrix `(batch_size)` with central word indices."
      ]
    },
    {
      "cell_type": "code",
      "execution_count": 10,
      "metadata": {
        "id": "VNaP0uaU7T2-"
      },
      "outputs": [
        {
          "data": {
            "text/plain": [
              "'\\nwe use yield at the end of for loop because of the next() function in the cell below\\n'"
            ]
          },
          "execution_count": 10,
          "metadata": {},
          "output_type": "execute_result"
        }
      ],
      "source": [
        "def make_cbow_batches_iter(contexts, window_size, batch_size):\n",
        "    # why word != 0? word[0] = kohinoor\n",
        "    central_words = np.array([word for word, context in contexts if len(context) == 2 * window_size and word != 0])\n",
        "    contexts = np.array([context for word, context in contexts if len(context) == 2 * window_size and word != 0])\n",
        "\n",
        "\n",
        "    batches_count = int(math.ceil(len(contexts) / batch_size))\n",
        "    print(f'central_words: {central_words.shape}, contexts: {contexts.shape}\\n')\n",
        "    # batch_size=32，那么就需要 12380个batch以后才完整地过了一遍数据集\n",
        "    print('Initializing batches generator with {} batches per epoch'.format(batches_count))\n",
        "\n",
        "    indices = np.arange(len(contexts))\n",
        "    np.random.shuffle(indices)\n",
        "\n",
        "    for i in range(batches_count):\n",
        "      # 最后一个batch可能不够batch_size个数据, 取到最后一个indices\n",
        "      batch_begin, batch_end = i * batch_size, min((i + 1) * batch_size, len(contexts))\n",
        "      batch_indices = indices[batch_begin: batch_end]\n",
        "\n",
        "      # ------------------\n",
        "      # Write your implementation here.\n",
        "\n",
        "      contexts_batch = torch.LongTensor(contexts[batch_indices])\n",
        "      central_word_batch = torch.LongTensor(central_words[batch_indices])\n",
        "\n",
        "      batch = {'tokens': contexts_batch, 'labels': central_word_batch}\n",
        "\n",
        "      # yied: avoid producing all batch at once/help save ram usage, this is to improv effi\n",
        "      yield batch\n",
        "      # ------------------\n",
        "'''\n",
        "we use yield at the end of for loop because of the next() function in the cell below\n",
        "'''"
      ]
    },
    {
      "cell_type": "markdown",
      "metadata": {
        "id": "wBF7xiik7ZaN"
      },
      "source": [
        "Check it:"
      ]
    },
    {
      "cell_type": "code",
      "execution_count": 13,
      "metadata": {
        "colab": {
          "base_uri": "https://localhost:8080/"
        },
        "id": "0IVrQl8S4L9j",
        "outputId": "0d74297b-d2b9-49d7-e5b9-3d5fb533b721"
      },
      "outputs": [
        {
          "name": "stdout",
          "output_type": "stream",
          "text": [
            "central_words: (396154,), contexts: (396154, 4)\n",
            "\n",
            "Initializing batches generator with 12380 batches per epoch\n"
          ]
        },
        {
          "data": {
            "text/plain": [
              "{'tokens': tensor([[  58,   94,   48, 1362],\n",
              "         [1903,   23,   16,   55],\n",
              "         [  22,   57,  140,    2],\n",
              "         [  41, 2878,    0,   40],\n",
              "         [  12,    2,   13,  658],\n",
              "         [   3,  136,   17,   82],\n",
              "         [  82,    0,    0,    9],\n",
              "         [   9,    2,   16, 1300],\n",
              "         [   7, 2822,   65,  285],\n",
              "         [  13,  251,  341,  359],\n",
              "         [  51,  137,  825,   16],\n",
              "         [ 174,    8,    2,  279],\n",
              "         [   1,   49,   96,   82],\n",
              "         [1344,    7,  718,   15],\n",
              "         [  32,   12,   52, 1255],\n",
              "         [ 919,   37,    3,  439],\n",
              "         [   3,  101,   90,    1],\n",
              "         [1625,   16,  286, 1798],\n",
              "         [  31,    2,    0, 2535],\n",
              "         [  94,    2,    9,  678],\n",
              "         [3557, 6082,    2,  222],\n",
              "         [  23,  157,    2,  132],\n",
              "         [   3,    4, 1567,    9],\n",
              "         [5965, 2500,    4,   44],\n",
              "         [  19,  129,  567, 1077],\n",
              "         [  27,    2,   11,    7],\n",
              "         [  24,   56, 1962,    9],\n",
              "         [ 942,   34,   98, 1000],\n",
              "         [   2,   20,  501,    9],\n",
              "         [  23,   25,   14,   61],\n",
              "         [ 184,  273,  180,  789],\n",
              "         [  82,    7,  802, 1501]]),\n",
              " 'labels': tensor([   7,  280, 4004,   33,  634,   10,   13,  133,  107,    2,  198, 6020,\n",
              "           17,   48, 1526,    1,   46,  101, 1528,   20,    9,   33,  319,  895,\n",
              "            8, 1847,  172,    6,  321,  413,   13, 2025])}"
            ]
          },
          "execution_count": 13,
          "metadata": {},
          "output_type": "execute_result"
        }
      ],
      "source": [
        "window_size = 2\n",
        "batch_size = 32\n",
        "\n",
        "batch = next(make_cbow_batches_iter(contexts, window_size=window_size, batch_size=batch_size))\n",
        "\n",
        "batch\n",
        "\n",
        "# check how is the training batch of CBoW model looks like"
      ]
    },
    {
      "cell_type": "code",
      "execution_count": 12,
      "metadata": {},
      "outputs": [
        {
          "name": "stdout",
          "output_type": "stream",
          "text": [
            "\n",
            "all good so far, proceed.\n"
          ]
        }
      ],
      "source": [
        "assert isinstance(batch, dict)\n",
        "assert 'labels' in batch and 'tokens' in batch\n",
        "\n",
        "assert isinstance(batch['tokens'], torch.LongTensor)\n",
        "assert isinstance(batch['labels'], torch.LongTensor)\n",
        "\n",
        "assert batch['tokens'].shape == (batch_size, 2 * window_size)\n",
        "assert batch['labels'].shape == (batch_size,)\n",
        "\n",
        "# ======\n",
        "print('\\nall good so far, proceed.')"
      ]
    },
    {
      "cell_type": "markdown",
      "metadata": {},
      "source": [
        "### Here we attach the `make_skip_gram_batches_iter` from Tutorials for reference"
      ]
    },
    {
      "cell_type": "code",
      "execution_count": 15,
      "metadata": {},
      "outputs": [],
      "source": [
        "import random\n",
        "\n",
        "def make_skip_gram_batches_iter(contexts, window_size, num_skips, batch_size):\n",
        "\n",
        "    '''\n",
        "    params 含义\n",
        "    - contexts: 原始数据，假设为 (central_word<str>, context_words<tuple>) 的列表\n",
        "    - window_size: 上下文窗口半径（总窗口大小为 2 * window_size）\n",
        "    - num_skips: 每个中心词sample的上下文词的数量（每个中心词生成 num_skips 个样本）,2, 每个中心词在2*window_size的范围内随机采样num_skips个上下文词，因此你可以在最后生成的batch中观察到，tokens总是重复num_skips遍\n",
        "    - batch_size: 每个批次的总样本数, 32\n",
        "\n",
        "    assert 检查\n",
        "    - batch_size 必须是 num_skips 的倍数，保证每个中心词生成的样本能均匀分配到批次中。\n",
        "    - num_skips 不能超过总上下文词数量（2 * window_size）。\n",
        "\n",
        "    '''\n",
        "    assert batch_size % num_skips == 0\n",
        "    assert num_skips <= 2 * window_size\n",
        "\n",
        "    # len(context) == 2 : avoid context that is not full-size of 2*window_size\n",
        "    # typically words of start/end\n",
        "\n",
        "    # word != 0 : avoid using <unk> words as central word\n",
        "    central_words = [word for word, context in contexts if len(context) == 2 * window_size and word != 0]\n",
        "    contexts = [context for word, context in contexts if len(context) == 2 * window_size and word != 0]\n",
        "\n",
        "    batch_size = int(batch_size / num_skips)\n",
        "    batches_count = int(math.ceil(len(contexts) / batch_size))\n",
        "\n",
        "    print('Initializing batches generator with {} batches per epoch'.format(batches_count))\n",
        "\n",
        "    indices = np.arange(len(contexts))\n",
        "    np.random.shuffle(indices)\n",
        "\n",
        "    for i in range(batches_count):\n",
        "        batch_begin, batch_end = i * batch_size, min((i + 1) * batch_size, len(contexts))\n",
        "        batch_indices = indices[batch_begin: batch_end]\n",
        "\n",
        "        # major difference from CBoW starts here\n",
        "        batch_data, batch_labels = [], []\n",
        "\n",
        "        for data_ind in batch_indices:\n",
        "            central_word, context = central_words[data_ind], contexts[data_ind]\n",
        "            \n",
        "            # sample num_skips amount of contexts words around central words\n",
        "            words_to_use = random.sample(context, num_skips)\n",
        "            batch_data.extend([central_word] * num_skips)\n",
        "            batch_labels.extend(words_to_use)\n",
        "        \n",
        "        # major difference ends\n",
        "        yield {\n",
        "            'tokens': torch.LongTensor(batch_data),\n",
        "            'labels': torch.LongTensor(batch_labels)\n",
        "        }"
      ]
    },
    {
      "cell_type": "code",
      "execution_count": 16,
      "metadata": {},
      "outputs": [
        {
          "name": "stdout",
          "output_type": "stream",
          "text": [
            "Initializing batches generator with 24760 batches per epoch\n"
          ]
        },
        {
          "data": {
            "text/plain": [
              "{'tokens': tensor([ 592,  592,    3,    3,    6,    6,   24,   24, 2061, 2061,    9,    9,\n",
              "          773,  773,  528,  528,   21,   21,   66,   66,    8,    8,   70,   70,\n",
              "           11,   11,    8,    8,    2,    2, 1847, 1847]),\n",
              " 'labels': tensor([  83,    5,   34,  132,  763,   14,    1, 1621,   11,    0,    1, 2965,\n",
              "           15, 4108,   46,   56, 1925,   13,  478,   21,   20,  574,    5,   92,\n",
              "           30,    2,   30,   66,   35,    0,  169,  214])}"
            ]
          },
          "execution_count": 16,
          "metadata": {},
          "output_type": "execute_result"
        }
      ],
      "source": [
        "batch_skip_gram = next(make_skip_gram_batches_iter(contexts, window_size=2, num_skips=2, batch_size=32))\n",
        "\n",
        "batch_skip_gram\n",
        "\n",
        "# check how is the training data of skip-gram model looks like"
      ]
    },
    {
      "cell_type": "markdown",
      "metadata": {
        "id": "nbKbZ_4E7T3U"
      },
      "source": [
        "2. **Model**\n",
        "**<font color=\"red\">[Task]</font>**: Build the `CBoWModel`.\n",
        "\n",
        "**Hint**: You need to implement the `forward` method based on the CBoW architecture. The context embedding is represented as the average of their context embeddings."
      ]
    },
    {
      "cell_type": "code",
      "execution_count": 34,
      "metadata": {
        "id": "Mkawxwe77T3V"
      },
      "outputs": [],
      "source": [
        "# implement CBoW:\n",
        "class CBoWModel(nn.Module):\n",
        "    def __init__(self, vocab_size, embedding_dim):\n",
        "        super().__init__()\n",
        "        self.embeddings = nn.Embedding(vocab_size, embedding_dim)\n",
        "        self.out_layer = nn.Linear(embedding_dim, vocab_size)\n",
        "\n",
        "    def forward(self, inputs):\n",
        "        # ------------------\n",
        "        # Write your implementation here.\n",
        "\n",
        "        embedded = self.embeddings(inputs)  # shape: (batch_size, 2*window_size, embedding_dim)\n",
        "\n",
        "        # averaging 4 contexts words (window_size = 2) vectors\n",
        "        mean_embedded = torch.mean(embedded, dim=1)  # (batch_size, embedding_dim)\n",
        "\n",
        "        outputs = self.out_layer(mean_embedded)  # (batch_size, vocab_size)\n",
        "\n",
        "        return outputs\n",
        "        # ------------------\n",
        "# here cbow and skipgram shares the same structure of nn"
      ]
    },
    {
      "cell_type": "markdown",
      "metadata": {
        "id": "DHhTDxya7a3S"
      },
      "source": [
        "Check it:"
      ]
    },
    {
      "cell_type": "code",
      "execution_count": 38,
      "metadata": {
        "id": "nh_mNh__6lG2"
      },
      "outputs": [
        {
          "name": "stdout",
          "output_type": "stream",
          "text": [
            "so far all good, proceed\n"
          ]
        }
      ],
      "source": [
        "'''\n",
        "line marked with 'cuda #' in case codes are tested in a cpu local machine, you can safely ignore and run\n",
        "'''\n",
        "# automatically adapt to different device.\n",
        "device = torch.device(\"cuda:0\" if torch.cuda.is_available() else \"cpu\") # device(type='cpu')\n",
        "# cuda #1\n",
        "model = CBoWModel(vocab_size=len(word2index), embedding_dim=32)#.cuda()\n",
        "model.to(device)\n",
        "\n",
        "# cuda #2\n",
        "# outputs = model(batch['tokens'].cuda())\n",
        "outputs = model(batch['tokens'].to(device))\n",
        "\n",
        "# outputs = model(batch['tokens'])\n",
        "\n",
        "# cuda #3\n",
        "# no need to check if outputs is cuda.FloatTensor dtype\n",
        "# assert isinstance(outputs, torch.cuda.FloatTensor)\n",
        "# assert isinstance(outputs, torch.FloatTensor)\n",
        "\n",
        "assert outputs.shape == (batch_size, len(word2index))\n",
        "print('so far all good, proceed')"
      ]
    },
    {
      "cell_type": "markdown",
      "metadata": {
        "id": "hmn56yki7T3a"
      },
      "source": [
        "3. **Training**\n",
        "**<font color=\"red\">[Task]</font>** : Train the CBoW.\n",
        "\n",
        "**Hint**: Consider referring to the training code of the previously mentioned *Skip-gram* model."
      ]
    },
    {
      "cell_type": "code",
      "execution_count": 39,
      "metadata": {
        "colab": {
          "base_uri": "https://localhost:8080/"
        },
        "id": "OzKLP9bs7T3b",
        "outputId": "ad273805-d00e-493c-a058-92bffec22cbe"
      },
      "outputs": [
        {
          "name": "stdout",
          "output_type": "stream",
          "text": [
            "central_words: (396154,), contexts: (396154, 4)\n",
            "\n",
            "Initializing batches generator with 3095 batches per epoch\n",
            "Epoch = 0, Step = 2999, Avg Loss = 6.4702, Time = 16.62s\n",
            "central_words: (396154,), contexts: (396154, 4)\n",
            "\n",
            "Initializing batches generator with 3095 batches per epoch\n",
            "Epoch = 1, Step = 2904, Avg Loss = 5.5461, Time = 32.94s\n",
            "central_words: (396154,), contexts: (396154, 4)\n",
            "\n",
            "Initializing batches generator with 3095 batches per epoch\n",
            "Epoch = 2, Step = 2809, Avg Loss = 5.2384, Time = 35.12s\n",
            "central_words: (396154,), contexts: (396154, 4)\n",
            "\n",
            "Initializing batches generator with 3095 batches per epoch\n",
            "Epoch = 3, Step = 2714, Avg Loss = 5.0436, Time = 33.21s\n",
            "central_words: (396154,), contexts: (396154, 4)\n",
            "\n",
            "Initializing batches generator with 3095 batches per epoch\n",
            "Epoch = 4, Step = 2619, Avg Loss = 4.9075, Time = 19.65s\n",
            "central_words: (396154,), contexts: (396154, 4)\n",
            "\n",
            "Initializing batches generator with 3095 batches per epoch\n",
            "Epoch = 5, Step = 2524, Avg Loss = 4.7910, Time = 29.10s\n",
            "central_words: (396154,), contexts: (396154, 4)\n",
            "\n",
            "Initializing batches generator with 3095 batches per epoch\n",
            "Epoch = 6, Step = 2429, Avg Loss = 4.7095, Time = 37.40s\n",
            "central_words: (396154,), contexts: (396154, 4)\n",
            "\n",
            "Initializing batches generator with 3095 batches per epoch\n",
            "Epoch = 7, Step = 2334, Avg Loss = 4.6365, Time = 33.45s\n",
            "central_words: (396154,), contexts: (396154, 4)\n",
            "\n",
            "Initializing batches generator with 3095 batches per epoch\n",
            "Epoch = 8, Step = 2239, Avg Loss = 4.5725, Time = 32.93s\n",
            "central_words: (396154,), contexts: (396154, 4)\n",
            "\n",
            "Initializing batches generator with 3095 batches per epoch\n",
            "Epoch = 9, Step = 2144, Avg Loss = 4.5143, Time = 30.04s\n"
          ]
        }
      ],
      "source": [
        "# Here are the hyperparameters you can adjust\n",
        "embedding_dim = 32\n",
        "learning_rate = 0.001\n",
        "epoch_num = 10 # default 5, can attempt more epochs num\n",
        "batch_size = 128\n",
        "\n",
        "# len(word2index) = 7226\n",
        "model = CBoWModel(len(word2index),embedding_dim)\n",
        "# Getting model to GPU\n",
        "# cuda #3 ===\n",
        "model.to(device)\n",
        "# loss function\n",
        "criterion = nn.CrossEntropyLoss()\n",
        "# use Adam optimizer\n",
        "optimizer = optim.Adam(model.parameters(), lr=learning_rate)\n",
        "\n",
        "loss_every_nsteps = 3000 # report loss every 3000 steps\n",
        "total_loss = 0\n",
        "start_time = time.time()\n",
        "global_step = 0\n",
        "\n",
        "for ep in range(epoch_num):\n",
        "  for step, batch in enumerate(make_cbow_batches_iter(contexts, window_size=2, batch_size=batch_size)):\n",
        "      global_step += 1\n",
        "\n",
        "      # ------------------\n",
        "      # Write your implementation here.\n",
        "\n",
        "      # cuda #4 ====\n",
        "      inputs = batch['tokens'].to(device)  # contexts\n",
        "      labels = batch['labels'].to(device)  # central_words\n",
        "\n",
        "      # forward\n",
        "      outputs = model(inputs)  # shape: (batch_size, vocab_size)\n",
        "\n",
        "      # cal loss\n",
        "      loss = criterion(outputs, labels)\n",
        "\n",
        "      # bp\n",
        "      optimizer.zero_grad()  # zero out grad every new batch\n",
        "      loss.backward()        # bp\n",
        "      optimizer.step()       # update weights\n",
        "      # ------------------\n",
        "\n",
        "      total_loss += loss.item()\n",
        "\n",
        "      if global_step != 0 and global_step % loss_every_nsteps == 0:\n",
        "          print(\"Epoch = {}, Step = {}, Avg Loss = {:.4f}, Time = {:.2f}s\".format(ep, step, total_loss / loss_every_nsteps,time.time() - start_time))\n",
        "\n",
        "          # reset diameter for next epochs\n",
        "          total_loss = 0\n",
        "          start_time = time.time()\n"
      ]
    },
    {
      "cell_type": "markdown",
      "metadata": {
        "id": "bcdVwk_gtiC8"
      },
      "source": [
        "**Obtaining word embeddings**\n",
        "\n",
        "Word embeddings are contained within the embeddings layer of the model. We just need to move them from the GPU to the CPU and convert them to a numpy array."
      ]
    },
    {
      "cell_type": "code",
      "execution_count": 48,
      "metadata": {
        "id": "YRu-WeMbtivr"
      },
      "outputs": [
        {
          "name": "stdout",
          "output_type": "stream",
          "text": [
            "embedding size: (7226, 32)\n",
            "what:\n",
            " [ 0.96052194  0.05893503 -1.3039774  -0.88900465  0.677495    0.19581018\n",
            "  0.8522649   0.42557326  0.2250157  -0.7901772   0.07134378  1.7866141\n",
            "  0.50178045 -0.42438436  0.8282317  -0.68094814 -1.931252    0.6259549\n",
            "  0.4067984   1.0212533  -0.5563819   1.480883   -0.94625306  0.03295426\n",
            "  0.86704636 -1.0502287   0.38664585 -1.1708677   0.11243499 -1.7395645\n",
            "  1.154449   -0.61125165]\n",
            "is:\n",
            " [ 1.4916081  -1.3526965   0.8027263  -0.72304356  0.3714146  -0.68197644\n",
            " -2.487755   -2.1356645   0.7412488   0.2170881   2.030554   -1.1919757\n",
            "  1.7313095  -0.6281554  -1.902759    2.85017     0.253746    1.1202734\n",
            " -1.7669542  -0.73531795 -1.9330088   1.1174059  -1.718955   -0.13146304\n",
            " -1.762283    1.2027557  -2.6531742   2.3456078   0.5439756   0.7073023\n",
            "  3.780317    1.3381276 ]\n",
            "the:\n",
            " [-1.7554145   0.29734474  5.097264    2.0101798  -0.06181643 -1.794369\n",
            " -1.2909542   1.9649345  -0.3047359  -0.12137443 -1.235201    2.4657967\n",
            " -1.3481038   0.39234203 -0.21756071  0.86974037  0.01673725  4.2924957\n",
            " -1.1193606  -0.48889542  0.18732627 -1.4205573   1.0990207  -5.4046335\n",
            " -0.47877344  0.13305612  3.6237068  -0.39748105 -0.12638693  0.53067905\n",
            "  1.4416606  -1.0391207 ]\n"
          ]
        }
      ],
      "source": [
        "embeddings = model.embeddings.weight.data.cpu().numpy()\n",
        "# if you dont convert tensor from cuda to cpu, error:\n",
        "# TypeError: can't convert cuda:0 device type tensor to numpy. Use Tensor.cpu() to copy the tensor to host memory first.\n",
        "print(f'embedding size: {embeddings.shape}')\n",
        "for i in range(len(embeddings[:3])):\n",
        "    print(f'{contexts_copy[i][0]}:\\n {embeddings[i]}')"
      ]
    },
    {
      "cell_type": "markdown",
      "metadata": {
        "id": "X-GyEW7s76-Q"
      },
      "source": [
        "**Testing Trained Word Embeddings**"
      ]
    },
    {
      "cell_type": "markdown",
      "metadata": {
        "id": "AqRo0WHOtrpu"
      },
      "source": [
        "Let's check how adequate are similarities that the model learnt."
      ]
    },
    {
      "cell_type": "code",
      "execution_count": 52,
      "metadata": {
        "colab": {
          "base_uri": "https://localhost:8080/"
        },
        "id": "mjZ4Ki8RtXZH",
        "outputId": "d95dfd70-7d2e-4b7d-8271-b734a370c01f"
      },
      "outputs": [
        {
          "name": "stdout",
          "output_type": "stream",
          "text": [
            "most similar words to 'my':\n"
          ]
        },
        {
          "data": {
            "text/plain": [
              "['my',\n",
              " 'his',\n",
              " 'your',\n",
              " 'her',\n",
              " 'reader',\n",
              " 'their',\n",
              " 'someones',\n",
              " 'believing',\n",
              " 'tweets',\n",
              " 'pandora']"
            ]
          },
          "execution_count": 52,
          "metadata": {},
          "output_type": "execute_result"
        }
      ],
      "source": [
        "from sklearn.metrics.pairwise import cosine_similarity\n",
        "\n",
        "def most_similar(embeddings, index2word, word2index, word):\n",
        "    word_emb = embeddings[word2index[word]]\n",
        "\n",
        "    similarities = cosine_similarity([word_emb], embeddings)[0]\n",
        "    top10 = np.argsort(similarities)[-10:]\n",
        "\n",
        "    return [index2word[index] for index in reversed(top10)]\n",
        "\n",
        "print(f'most similar words to \\'my\\':')\n",
        "most_similar(embeddings, index2word, word2index, 'my')"
      ]
    },
    {
      "cell_type": "markdown",
      "metadata": {
        "id": "HQW4PBdF96xC"
      },
      "source": [
        "**Visualization of our embeddings**"
      ]
    },
    {
      "cell_type": "code",
      "execution_count": 55,
      "metadata": {
        "colab": {
          "base_uri": "https://localhost:8080/",
          "height": 628
        },
        "id": "5utoAUjltQZ6",
        "outputId": "dde46e17-9971-4034-c72a-e8bfa93692e4"
      },
      "outputs": [
        {
          "name": "stdout",
          "output_type": "stream",
          "text": [
            "[t-SNE] Computing 91 nearest neighbors...\n",
            "[t-SNE] Indexed 100 samples in 0.001s...\n",
            "[t-SNE] Computed neighbors for 100 samples in 0.083s...\n",
            "[t-SNE] Computed conditional probabilities for sample 100 / 100\n",
            "[t-SNE] Mean sigma: 4.839828\n",
            "[t-SNE] KL divergence after 250 iterations with early exaggeration: 62.675255\n",
            "[t-SNE] KL divergence after 1000 iterations: 0.546376\n"
          ]
        },
        {
          "name": "stderr",
          "output_type": "stream",
          "text": [
            "d:\\Anaconda3\\Lib\\site-packages\\sklearn\\preprocessing\\_data.py:261: UserWarning: Numerical issues were encountered when centering the data and might not be solved. Dataset may contain too large values. You may need to prescale your features.\n",
            "  warnings.warn(\n"
          ]
        },
        {
          "data": {
            "text/html": [
              "<style>\n",
              "        .bk-notebook-logo {\n",
              "            display: block;\n",
              "            width: 20px;\n",
              "            height: 20px;\n",
              "            background-image: url(data:image/png;base64,iVBORw0KGgoAAAANSUhEUgAAABQAAAAUCAYAAACNiR0NAAAABHNCSVQICAgIfAhkiAAAAAlwSFlzAAALEgAACxIB0t1+/AAAABx0RVh0U29mdHdhcmUAQWRvYmUgRmlyZXdvcmtzIENTNui8sowAAAOkSURBVDiNjZRtaJVlGMd/1/08zzln5zjP1LWcU9N0NkN8m2CYjpgQYQXqSs0I84OLIC0hkEKoPtiH3gmKoiJDU7QpLgoLjLIQCpEsNJ1vqUOdO7ppbuec5+V+rj4ctwzd8IIbbi6u+8f1539dt3A78eXC7QizUF7gyV1fD1Yqg4JWz84yffhm0qkFqBogB9rM8tZdtwVsPUhWhGcFJngGeWrPzHm5oaMmkfEg1usvLFyc8jLRqDOMru7AyC8saQr7GG7f5fvDeH7Ej8CM66nIF+8yngt6HWaKh7k49Soy9nXurCi1o3qUbS3zWfrYeQDTB/Qj6kX6Ybhw4B+bOYoLKCC9H3Nu/leUTZ1JdRWkkn2ldcCamzrcf47KKXdAJllSlxAOkRgyHsGC/zRday5Qld9DyoM4/q/rUoy/CXh3jzOu3bHUVZeU+DEn8FInkPBFlu3+nW3Nw0mk6vCDiWg8CeJaxEwuHS3+z5RgY+YBR6V1Z1nxSOfoaPa4LASWxxdNp+VWTk7+4vzaou8v8PN+xo+KY2xsw6une2frhw05CTYOmQvsEhjhWjn0bmXPjpE1+kplmmkP3suftwTubK9Vq22qKmrBhpY4jvd5afdRA3wGjFAgcnTK2s4hY0/GPNIb0nErGMCRxWOOX64Z8RAC4oCXdklmEvcL8o0BfkNK4lUg9HTl+oPlQxdNo3Mg4Nv175e/1LDGzZen30MEjRUtmXSfiTVu1kK8W4txyV6BMKlbgk3lMwYCiusNy9fVfvvwMxv8Ynl6vxoByANLTWplvuj/nF9m2+PDtt1eiHPBr1oIfhCChQMBw6Aw0UulqTKZdfVvfG7VcfIqLG9bcldL/+pdWTLxLUy8Qq38heUIjh4XlzZxzQm19lLFlr8vdQ97rjZVOLf8nclzckbcD4wxXMidpX30sFd37Fv/GtwwhzhxGVAprjbg0gCAEeIgwCZyTV2Z1REEW8O4py0wsjeloKoMr6iCY6dP92H6Vw/oTyICIthibxjm/DfN9lVz8IqtqKYLUXfoKVMVQVVJOElGjrnnUt9T9wbgp8AyYKaGlqingHZU/uG2NTZSVqwHQTWkx9hxjkpWDaCg6Ckj5qebgBVbT3V3NNXMSiWSDdGV3hrtzla7J+duwPOToIg42ChPQOQjspnSlp1V+Gjdged7+8UN5CRAV7a5EdFNwCjEaBR27b3W890TE7g24NAP/mMDXRWrGoFPQI9ls/MWO2dWFAar/xcOIImbbpA3zgAAAABJRU5ErkJggg==);\n",
              "        }\n",
              "    </style>\n",
              "    <div>\n",
              "        <a href=\"https://bokeh.org\" target=\"_blank\" class=\"bk-notebook-logo\"></a>\n",
              "        <span id=\"aabde111-72b0-40a3-b958-5906a33f8ac3\">Loading BokehJS ...</span>\n",
              "    </div>\n"
            ]
          },
          "metadata": {},
          "output_type": "display_data"
        },
        {
          "data": {
            "application/javascript": "(function(root) {\n  function now() {\n    return new Date();\n  }\n\n  const force = true;\n\n  if (typeof root._bokeh_onload_callbacks === \"undefined\" || force === true) {\n    root._bokeh_onload_callbacks = [];\n    root._bokeh_is_loading = undefined;\n  }\n\nconst JS_MIME_TYPE = 'application/javascript';\n  const HTML_MIME_TYPE = 'text/html';\n  const EXEC_MIME_TYPE = 'application/vnd.bokehjs_exec.v0+json';\n  const CLASS_NAME = 'output_bokeh rendered_html';\n\n  /**\n   * Render data to the DOM node\n   */\n  function render(props, node) {\n    const script = document.createElement(\"script\");\n    node.appendChild(script);\n  }\n\n  /**\n   * Handle when an output is cleared or removed\n   */\n  function handleClearOutput(event, handle) {\n    const cell = handle.cell;\n\n    const id = cell.output_area._bokeh_element_id;\n    const server_id = cell.output_area._bokeh_server_id;\n    // Clean up Bokeh references\n    if (id != null && id in Bokeh.index) {\n      Bokeh.index[id].model.document.clear();\n      delete Bokeh.index[id];\n    }\n\n    if (server_id !== undefined) {\n      // Clean up Bokeh references\n      const cmd_clean = \"from bokeh.io.state import curstate; print(curstate().uuid_to_server['\" + server_id + \"'].get_sessions()[0].document.roots[0]._id)\";\n      cell.notebook.kernel.execute(cmd_clean, {\n        iopub: {\n          output: function(msg) {\n            const id = msg.content.text.trim();\n            if (id in Bokeh.index) {\n              Bokeh.index[id].model.document.clear();\n              delete Bokeh.index[id];\n            }\n          }\n        }\n      });\n      // Destroy server and session\n      const cmd_destroy = \"import bokeh.io.notebook as ion; ion.destroy_server('\" + server_id + \"')\";\n      cell.notebook.kernel.execute(cmd_destroy);\n    }\n  }\n\n  /**\n   * Handle when a new output is added\n   */\n  function handleAddOutput(event, handle) {\n    const output_area = handle.output_area;\n    const output = handle.output;\n\n    // limit handleAddOutput to display_data with EXEC_MIME_TYPE content only\n    if ((output.output_type != \"display_data\") || (!Object.prototype.hasOwnProperty.call(output.data, EXEC_MIME_TYPE))) {\n      return\n    }\n\n    const toinsert = output_area.element.find(\".\" + CLASS_NAME.split(' ')[0]);\n\n    if (output.metadata[EXEC_MIME_TYPE][\"id\"] !== undefined) {\n      toinsert[toinsert.length - 1].firstChild.textContent = output.data[JS_MIME_TYPE];\n      // store reference to embed id on output_area\n      output_area._bokeh_element_id = output.metadata[EXEC_MIME_TYPE][\"id\"];\n    }\n    if (output.metadata[EXEC_MIME_TYPE][\"server_id\"] !== undefined) {\n      const bk_div = document.createElement(\"div\");\n      bk_div.innerHTML = output.data[HTML_MIME_TYPE];\n      const script_attrs = bk_div.children[0].attributes;\n      for (let i = 0; i < script_attrs.length; i++) {\n        toinsert[toinsert.length - 1].firstChild.setAttribute(script_attrs[i].name, script_attrs[i].value);\n        toinsert[toinsert.length - 1].firstChild.textContent = bk_div.children[0].textContent\n      }\n      // store reference to server id on output_area\n      output_area._bokeh_server_id = output.metadata[EXEC_MIME_TYPE][\"server_id\"];\n    }\n  }\n\n  function register_renderer(events, OutputArea) {\n\n    function append_mime(data, metadata, element) {\n      // create a DOM node to render to\n      const toinsert = this.create_output_subarea(\n        metadata,\n        CLASS_NAME,\n        EXEC_MIME_TYPE\n      );\n      this.keyboard_manager.register_events(toinsert);\n      // Render to node\n      const props = {data: data, metadata: metadata[EXEC_MIME_TYPE]};\n      render(props, toinsert[toinsert.length - 1]);\n      element.append(toinsert);\n      return toinsert\n    }\n\n    /* Handle when an output is cleared or removed */\n    events.on('clear_output.CodeCell', handleClearOutput);\n    events.on('delete.Cell', handleClearOutput);\n\n    /* Handle when a new output is added */\n    events.on('output_added.OutputArea', handleAddOutput);\n\n    /**\n     * Register the mime type and append_mime function with output_area\n     */\n    OutputArea.prototype.register_mime_type(EXEC_MIME_TYPE, append_mime, {\n      /* Is output safe? */\n      safe: true,\n      /* Index of renderer in `output_area.display_order` */\n      index: 0\n    });\n  }\n\n  // register the mime type if in Jupyter Notebook environment and previously unregistered\n  if (root.Jupyter !== undefined) {\n    const events = require('base/js/events');\n    const OutputArea = require('notebook/js/outputarea').OutputArea;\n\n    if (OutputArea.prototype.mime_types().indexOf(EXEC_MIME_TYPE) == -1) {\n      register_renderer(events, OutputArea);\n    }\n  }\n  if (typeof (root._bokeh_timeout) === \"undefined\" || force === true) {\n    root._bokeh_timeout = Date.now() + 5000;\n    root._bokeh_failed_load = false;\n  }\n\n  const NB_LOAD_WARNING = {'data': {'text/html':\n     \"<div style='background-color: #fdd'>\\n\"+\n     \"<p>\\n\"+\n     \"BokehJS does not appear to have successfully loaded. If loading BokehJS from CDN, this \\n\"+\n     \"may be due to a slow or bad network connection. Possible fixes:\\n\"+\n     \"</p>\\n\"+\n     \"<ul>\\n\"+\n     \"<li>re-rerun `output_notebook()` to attempt to load from CDN again, or</li>\\n\"+\n     \"<li>use INLINE resources instead, as so:</li>\\n\"+\n     \"</ul>\\n\"+\n     \"<code>\\n\"+\n     \"from bokeh.resources import INLINE\\n\"+\n     \"output_notebook(resources=INLINE)\\n\"+\n     \"</code>\\n\"+\n     \"</div>\"}};\n\n  function display_loaded() {\n    const el = document.getElementById(\"aabde111-72b0-40a3-b958-5906a33f8ac3\");\n    if (el != null) {\n      el.textContent = \"BokehJS is loading...\";\n    }\n    if (root.Bokeh !== undefined) {\n      if (el != null) {\n        el.textContent = \"BokehJS \" + root.Bokeh.version + \" successfully loaded.\";\n      }\n    } else if (Date.now() < root._bokeh_timeout) {\n      setTimeout(display_loaded, 100)\n    }\n  }\n\n  function run_callbacks() {\n    try {\n      root._bokeh_onload_callbacks.forEach(function(callback) {\n        if (callback != null)\n          callback();\n      });\n    } finally {\n      delete root._bokeh_onload_callbacks\n    }\n    console.debug(\"Bokeh: all callbacks have finished\");\n  }\n\n  function load_libs(css_urls, js_urls, callback) {\n    if (css_urls == null) css_urls = [];\n    if (js_urls == null) js_urls = [];\n\n    root._bokeh_onload_callbacks.push(callback);\n    if (root._bokeh_is_loading > 0) {\n      console.debug(\"Bokeh: BokehJS is being loaded, scheduling callback at\", now());\n      return null;\n    }\n    if (js_urls == null || js_urls.length === 0) {\n      run_callbacks();\n      return null;\n    }\n    console.debug(\"Bokeh: BokehJS not loaded, scheduling load and callback at\", now());\n    root._bokeh_is_loading = css_urls.length + js_urls.length;\n\n    function on_load() {\n      root._bokeh_is_loading--;\n      if (root._bokeh_is_loading === 0) {\n        console.debug(\"Bokeh: all BokehJS libraries/stylesheets loaded\");\n        run_callbacks()\n      }\n    }\n\n    function on_error(url) {\n      console.error(\"failed to load \" + url);\n    }\n\n    for (let i = 0; i < css_urls.length; i++) {\n      const url = css_urls[i];\n      const element = document.createElement(\"link\");\n      element.onload = on_load;\n      element.onerror = on_error.bind(null, url);\n      element.rel = \"stylesheet\";\n      element.type = \"text/css\";\n      element.href = url;\n      console.debug(\"Bokeh: injecting link tag for BokehJS stylesheet: \", url);\n      document.body.appendChild(element);\n    }\n\n    for (let i = 0; i < js_urls.length; i++) {\n      const url = js_urls[i];\n      const element = document.createElement('script');\n      element.onload = on_load;\n      element.onerror = on_error.bind(null, url);\n      element.async = false;\n      element.src = url;\n      console.debug(\"Bokeh: injecting script tag for BokehJS library: \", url);\n      document.head.appendChild(element);\n    }\n  };\n\n  function inject_raw_css(css) {\n    const element = document.createElement(\"style\");\n    element.appendChild(document.createTextNode(css));\n    document.body.appendChild(element);\n  }\n\n  const js_urls = [\"https://cdn.bokeh.org/bokeh/release/bokeh-3.2.0.min.js\", \"https://cdn.bokeh.org/bokeh/release/bokeh-gl-3.2.0.min.js\", \"https://cdn.bokeh.org/bokeh/release/bokeh-widgets-3.2.0.min.js\", \"https://cdn.bokeh.org/bokeh/release/bokeh-tables-3.2.0.min.js\", \"https://cdn.bokeh.org/bokeh/release/bokeh-mathjax-3.2.0.min.js\"];\n  const css_urls = [];\n\n  const inline_js = [    function(Bokeh) {\n      Bokeh.set_log_level(\"info\");\n    },\nfunction(Bokeh) {\n    }\n  ];\n\n  function run_inline_js() {\n    if (root.Bokeh !== undefined || force === true) {\n          for (let i = 0; i < inline_js.length; i++) {\n      inline_js[i].call(root, root.Bokeh);\n    }\nif (force === true) {\n        display_loaded();\n      }} else if (Date.now() < root._bokeh_timeout) {\n      setTimeout(run_inline_js, 100);\n    } else if (!root._bokeh_failed_load) {\n      console.log(\"Bokeh: BokehJS failed to load within specified timeout.\");\n      root._bokeh_failed_load = true;\n    } else if (force !== true) {\n      const cell = $(document.getElementById(\"aabde111-72b0-40a3-b958-5906a33f8ac3\")).parents('.cell').data().cell;\n      cell.output_area.append_execute_result(NB_LOAD_WARNING)\n    }\n  }\n\n  if (root._bokeh_is_loading === 0) {\n    console.debug(\"Bokeh: BokehJS loaded, going straight to plotting\");\n    run_inline_js();\n  } else {\n    load_libs(css_urls, js_urls, function() {\n      console.debug(\"Bokeh: BokehJS plotting callback run at\", now());\n      run_inline_js();\n    });\n  }\n}(window));",
            "application/vnd.bokehjs_load.v0+json": ""
          },
          "metadata": {},
          "output_type": "display_data"
        },
        {
          "data": {
            "text/html": [
              "\n",
              "  <div id=\"a980662d-2df5-470f-9f5c-7c78d0486ebd\" data-root-id=\"p1090\" style=\"display: contents;\"></div>\n"
            ]
          },
          "metadata": {},
          "output_type": "display_data"
        },
        {
          "data": {
            "application/javascript": "(function(root) {\n  function embed_document(root) {\n  const docs_json = {\"c1fb591f-1ac3-46d7-8f4f-ce41c9435c83\":{\"version\":\"3.2.0\",\"title\":\"Bokeh Application\",\"roots\":[{\"type\":\"object\",\"name\":\"Figure\",\"id\":\"p1090\",\"attributes\":{\"height\":400,\"x_range\":{\"type\":\"object\",\"name\":\"DataRange1d\",\"id\":\"p1091\"},\"y_range\":{\"type\":\"object\",\"name\":\"DataRange1d\",\"id\":\"p1092\"},\"x_scale\":{\"type\":\"object\",\"name\":\"LinearScale\",\"id\":\"p1099\"},\"y_scale\":{\"type\":\"object\",\"name\":\"LinearScale\",\"id\":\"p1100\"},\"title\":{\"type\":\"object\",\"name\":\"Title\",\"id\":\"p1097\"},\"renderers\":[{\"type\":\"object\",\"name\":\"GlyphRenderer\",\"id\":\"p1124\",\"attributes\":{\"data_source\":{\"type\":\"object\",\"name\":\"ColumnDataSource\",\"id\":\"p1087\",\"attributes\":{\"selected\":{\"type\":\"object\",\"name\":\"Selection\",\"id\":\"p1088\",\"attributes\":{\"indices\":[],\"line_indices\":[]}},\"selection_policy\":{\"type\":\"object\",\"name\":\"UnionRenderers\",\"id\":\"p1089\"},\"data\":{\"type\":\"map\",\"entries\":[[\"x\",{\"type\":\"ndarray\",\"array\":{\"type\":\"bytes\",\"data\":\"0gOiv63cd77zac6/lzukP8XIw7/CIKo/mykJv5U4vj+LYd++FNQQQCvLRb9juJo/L7Iav34PCkBTsCO+FIN9v41YlT8R7P2/LBopPzvbPz8ug789pxv1P1Em9L5sI/6+KCmlv40wfL+CL0Y/ZX8rP5hBbL7yU6C/kB2RPxspSb9gr5a/tLAMQPtkoj6Kkhi/fkUVv2m01j0liyy/IS6cPA7KMr/XiC+/TYhyvyUtiT1+Wo6++6NVPxqh/D/987e+rLX5PxdbDr+rpgPAyNPIPiTBhz+RMfm+vQJNPmc+rj7zifc+U6SNvu/IAkAQk56//kyUP9euk7+405E/wCPgvi8pab/w+Ds9YczbP2m8BL6RcfG+jPqZPwT7UL6Efw4+L5Oev3P9qr8r7xg/EXxkvsuDfD+YPPs+q5IQPmHAOz6ojh8+f2yOPYo8l7/0Nam/qWEQP/mzXz+rOxA/NScKv6Q/Br8vhsS/jydKPnPKHz6rbju/h9a2Pl0NQr6tJO0+QEfcv+Vafz790JY9RBmSvg==\"},\"shape\":[100],\"dtype\":\"float32\",\"order\":\"little\"}],[\"y\",{\"type\":\"ndarray\",\"array\":{\"type\":\"bytes\",\"data\":\"gSZEvzkD0j8SArQ+WfuJvwtAJz6Mxn0/gC0GQL+3rz4FuHu/iScpv+9P1L9xZty/3TOjvp8VLr69v7G/gUimvmicmD+G548+mujlP3lKXr03kQNALpMqv7U7Y79YTja+HVeaPgw1rD4CG5m/NzBGv9C9q79dNME/Ggtxv+Ls4z5ARN++SHekvRN4kr8em/I/tuOwv011BECDcKA/iB0gvez9Or9g3O8+TGStPtXA3L/dMre/at00P6uzp75QQY6+iV6dvt11Fb1bp7a+ymUivpfu3705MzI/sfGYP9vJ5D4NUio/NVUzP4g9EL/BYqs/iUmDP8SEUz7hjnG/6Ku7P71air9l33K/zzFYP4nCnj4Y4Le/LHGgP7kQlT9JTEM/uHTJvml7v79ZCqQ/I1mvPwFiYL/sB+y+AWcNv7224j7dQ8w/FWARv4hjUz/ShWi+QdTFP/6nBz+YzcS/k2n9PpNhA8Cd2mA/DmNnv3WKV77GXXG/pm5kv8T2R74TKCU+54uMv/IXHb95iKY+mrTvvQ==\"},\"shape\":[100],\"dtype\":\"float32\",\"order\":\"little\"}],[\"color\",[\"blue\",\"blue\",\"blue\",\"blue\",\"blue\",\"blue\",\"blue\",\"blue\",\"blue\",\"blue\",\"blue\",\"blue\",\"blue\",\"blue\",\"blue\",\"blue\",\"blue\",\"blue\",\"blue\",\"blue\",\"blue\",\"blue\",\"blue\",\"blue\",\"blue\",\"blue\",\"blue\",\"blue\",\"blue\",\"blue\",\"blue\",\"blue\",\"blue\",\"blue\",\"blue\",\"blue\",\"blue\",\"blue\",\"blue\",\"blue\",\"blue\",\"blue\",\"blue\",\"blue\",\"blue\",\"blue\",\"blue\",\"blue\",\"blue\",\"blue\",\"blue\",\"blue\",\"blue\",\"blue\",\"blue\",\"blue\",\"blue\",\"blue\",\"blue\",\"blue\",\"blue\",\"blue\",\"blue\",\"blue\",\"blue\",\"blue\",\"blue\",\"blue\",\"blue\",\"blue\",\"blue\",\"blue\",\"blue\",\"blue\",\"blue\",\"blue\",\"blue\",\"blue\",\"blue\",\"blue\",\"blue\",\"blue\",\"blue\",\"blue\",\"blue\",\"blue\",\"blue\",\"blue\",\"blue\",\"blue\",\"blue\",\"blue\",\"blue\",\"blue\",\"blue\",\"blue\",\"blue\",\"blue\",\"blue\",\"blue\"]],[\"token\",[\"?\",\"the\",\"what\",\"is\",\"how\",\"i\",\"a\",\"to\",\"in\",\"do\",\"of\",\"are\",\"and\",\"can\",\"for\",\",\",\"you\",\"why\",\"it\",\"best\",\"my\",\"does\",\"on\",\"or\",\"which\",\"if\",\"be\",\"have\",\"with\",\"some\",\"'s\",\"that\",\".\",\"should\",\"get\",\"an\",\"from\",\"your\",\"india\",\")\",\"(\",\"who\",\"when\",\"like\",\"at\",\"people\",\"will\",\"good\",\"would\",\"there\",\"between\",\"as\",\"about\",\"``\",\"''\",\"not\",\"n't\",\"one\",\"did\",\"most\",\"we\",\"where\",\"was\",\"any\",\"by\",\"make\",\"way\",\"so\",\"after\",\"they\",\"quora\",\"life\",\":\",\"difference\",\"me\",\"this\",\"has\",\"know\",\"learn\",\"time\",\"their\",\"use\",\"many\",\"much\",\"someone\",\"money\",\"am\",\"all\",\"new\",\"think\",\"find\",\"work\",\"without\",\"become\",\"indian\",\"ever\",\"than\",\"start\",\"more\",\"better\"]]]}}},\"view\":{\"type\":\"object\",\"name\":\"CDSView\",\"id\":\"p1125\",\"attributes\":{\"filter\":{\"type\":\"object\",\"name\":\"AllIndices\",\"id\":\"p1126\"}}},\"glyph\":{\"type\":\"object\",\"name\":\"Scatter\",\"id\":\"p1121\",\"attributes\":{\"x\":{\"type\":\"field\",\"field\":\"x\"},\"y\":{\"type\":\"field\",\"field\":\"y\"},\"size\":{\"type\":\"value\",\"value\":10},\"line_color\":{\"type\":\"field\",\"field\":\"color\"},\"line_alpha\":{\"type\":\"value\",\"value\":0.25},\"fill_color\":{\"type\":\"field\",\"field\":\"color\"},\"fill_alpha\":{\"type\":\"value\",\"value\":0.25},\"hatch_color\":{\"type\":\"field\",\"field\":\"color\"},\"hatch_alpha\":{\"type\":\"value\",\"value\":0.25}}},\"nonselection_glyph\":{\"type\":\"object\",\"name\":\"Scatter\",\"id\":\"p1122\",\"attributes\":{\"x\":{\"type\":\"field\",\"field\":\"x\"},\"y\":{\"type\":\"field\",\"field\":\"y\"},\"size\":{\"type\":\"value\",\"value\":10},\"line_color\":{\"type\":\"field\",\"field\":\"color\"},\"line_alpha\":{\"type\":\"value\",\"value\":0.1},\"fill_color\":{\"type\":\"field\",\"field\":\"color\"},\"fill_alpha\":{\"type\":\"value\",\"value\":0.1},\"hatch_color\":{\"type\":\"field\",\"field\":\"color\"},\"hatch_alpha\":{\"type\":\"value\",\"value\":0.1}}},\"muted_glyph\":{\"type\":\"object\",\"name\":\"Scatter\",\"id\":\"p1123\",\"attributes\":{\"x\":{\"type\":\"field\",\"field\":\"x\"},\"y\":{\"type\":\"field\",\"field\":\"y\"},\"size\":{\"type\":\"value\",\"value\":10},\"line_color\":{\"type\":\"field\",\"field\":\"color\"},\"line_alpha\":{\"type\":\"value\",\"value\":0.2},\"fill_color\":{\"type\":\"field\",\"field\":\"color\"},\"fill_alpha\":{\"type\":\"value\",\"value\":0.2},\"hatch_color\":{\"type\":\"field\",\"field\":\"color\"},\"hatch_alpha\":{\"type\":\"value\",\"value\":0.2}}}}}],\"toolbar\":{\"type\":\"object\",\"name\":\"Toolbar\",\"id\":\"p1098\",\"attributes\":{\"tools\":[{\"type\":\"object\",\"name\":\"PanTool\",\"id\":\"p1111\"},{\"type\":\"object\",\"name\":\"WheelZoomTool\",\"id\":\"p1112\"},{\"type\":\"object\",\"name\":\"BoxZoomTool\",\"id\":\"p1113\",\"attributes\":{\"overlay\":{\"type\":\"object\",\"name\":\"BoxAnnotation\",\"id\":\"p1114\",\"attributes\":{\"syncable\":false,\"level\":\"overlay\",\"visible\":false,\"left_units\":\"canvas\",\"right_units\":\"canvas\",\"bottom_units\":\"canvas\",\"top_units\":\"canvas\",\"line_color\":\"black\",\"line_alpha\":1.0,\"line_width\":2,\"line_dash\":[4,4],\"fill_color\":\"lightgrey\",\"fill_alpha\":0.5}}}},{\"type\":\"object\",\"name\":\"SaveTool\",\"id\":\"p1115\"},{\"type\":\"object\",\"name\":\"ResetTool\",\"id\":\"p1116\"},{\"type\":\"object\",\"name\":\"HelpTool\",\"id\":\"p1117\"},{\"type\":\"object\",\"name\":\"HoverTool\",\"id\":\"p1127\",\"attributes\":{\"renderers\":\"auto\",\"tooltips\":[[\"token\",\"@token\"]]}}],\"active_scroll\":{\"id\":\"p1112\"}}},\"left\":[{\"type\":\"object\",\"name\":\"LinearAxis\",\"id\":\"p1106\",\"attributes\":{\"ticker\":{\"type\":\"object\",\"name\":\"BasicTicker\",\"id\":\"p1107\",\"attributes\":{\"mantissas\":[1,2,5]}},\"formatter\":{\"type\":\"object\",\"name\":\"BasicTickFormatter\",\"id\":\"p1108\"},\"major_label_policy\":{\"type\":\"object\",\"name\":\"AllLabels\",\"id\":\"p1109\"}}}],\"below\":[{\"type\":\"object\",\"name\":\"LinearAxis\",\"id\":\"p1101\",\"attributes\":{\"ticker\":{\"type\":\"object\",\"name\":\"BasicTicker\",\"id\":\"p1102\",\"attributes\":{\"mantissas\":[1,2,5]}},\"formatter\":{\"type\":\"object\",\"name\":\"BasicTickFormatter\",\"id\":\"p1103\"},\"major_label_policy\":{\"type\":\"object\",\"name\":\"AllLabels\",\"id\":\"p1104\"}}}],\"center\":[{\"type\":\"object\",\"name\":\"Grid\",\"id\":\"p1105\",\"attributes\":{\"axis\":{\"id\":\"p1101\"}}},{\"type\":\"object\",\"name\":\"Grid\",\"id\":\"p1110\",\"attributes\":{\"dimension\":1,\"axis\":{\"id\":\"p1106\"}}}]}}]}};\n  const render_items = [{\"docid\":\"c1fb591f-1ac3-46d7-8f4f-ce41c9435c83\",\"roots\":{\"p1090\":\"a980662d-2df5-470f-9f5c-7c78d0486ebd\"},\"root_ids\":[\"p1090\"]}];\n  root.Bokeh.embed.embed_items_notebook(docs_json, render_items);\n  }\n  if (root.Bokeh !== undefined) {\n    embed_document(root);\n  } else {\n    let attempts = 0;\n    const timer = setInterval(function(root) {\n      if (root.Bokeh !== undefined) {\n        clearInterval(timer);\n        embed_document(root);\n      } else {\n        attempts++;\n        if (attempts > 100) {\n          clearInterval(timer);\n          console.log(\"Bokeh: ERROR: Unable to run BokehJS code because BokehJS library is missing\");\n        }\n      }\n    }, 10, root)\n  }\n})(window);",
            "application/vnd.bokehjs_exec.v0+json": ""
          },
          "metadata": {
            "application/vnd.bokehjs_exec.v0+json": {
              "id": "p1090"
            }
          },
          "output_type": "display_data"
        }
      ],
      "source": [
        "import bokeh.models as bm, bokeh.plotting as pl\n",
        "from bokeh.io import output_notebook\n",
        "\n",
        "from sklearn.manifold import TSNE\n",
        "from sklearn.preprocessing import scale\n",
        "\n",
        "\n",
        "def draw_vectors(x, y, radius=10, alpha=0.25, color='blue',\n",
        "                 width=600, height=400, show=True, **kwargs):\n",
        "    \"\"\" draws an interactive plot for data points with auxilirary info on hover \"\"\"\n",
        "    output_notebook()\n",
        "\n",
        "    if isinstance(color, str):\n",
        "        color = [color] * len(x)\n",
        "    data_source = bm.ColumnDataSource({ 'x' : x, 'y' : y, 'color': color, **kwargs })\n",
        "\n",
        "    fig = pl.figure(active_scroll='wheel_zoom', width=width, height=height)\n",
        "    fig.scatter('x', 'y', size=radius, color='color', alpha=alpha, source=data_source)\n",
        "\n",
        "    fig.add_tools(bm.HoverTool(tooltips=[(key, \"@\" + key) for key in kwargs.keys()]))\n",
        "    if show:\n",
        "        pl.show(fig)\n",
        "    return fig\n",
        "\n",
        "\n",
        "def get_tsne_projection(word_vectors):\n",
        "    tsne = TSNE(n_components=2, verbose=1)\n",
        "    return scale(tsne.fit_transform(word_vectors))\n",
        "\n",
        "\n",
        "def visualize_embeddings(embeddings, index2word, word_count):\n",
        "    word_vectors = embeddings[1: word_count + 1]\n",
        "    words = index2word[1: word_count + 1]\n",
        "\n",
        "    word_tsne = get_tsne_projection(word_vectors)\n",
        "    draw_vectors(word_tsne[:, 0], word_tsne[:, 1], color='blue', token=words)\n",
        "\n",
        "\n",
        "visualize_embeddings(embeddings, index2word, 100)"
      ]
    },
    {
      "cell_type": "markdown",
      "metadata": {
        "id": "dkidM73PdLva"
      },
      "source": [
        "## Task 2： Explore Word Embeddings with Word2Vec\n",
        "In this task, we shall explore the embeddings produced by word2vec. Please revisit the lecture slides or tutorials for more details on the word2vec algorithm. If you're feeling adventurous, challenge yourself and try reading the original [paper](https://proceedings.neurips.cc/paper_files/paper/2013/file/9aa42b31882ec039965f3c4923ce901b-Paper.pdf).\n",
        "\n",
        "Then run the following cells to load the word2vec vectors into memory. **Note**: This might take several minutes."
      ]
    },
    {
      "cell_type": "code",
      "execution_count": 56,
      "metadata": {
        "id": "GI3v_EcWf9nW"
      },
      "outputs": [],
      "source": [
        "def load_word2vec():\n",
        "    \"\"\" Load GloVe Twitter Vectors\n",
        "        Return:\n",
        "            wv_from_bin: Pre-trained embeddings with 25 dimensions for 1.2M vocabulary.\n",
        "    \"\"\"\n",
        "    import gensim.downloader as api\n",
        "    wv_from_bin = api.load(\"glove-twitter-25\")\n",
        "    vocab = list(wv_from_bin.key_to_index.keys())  # Updated for Gensim 4.x\n",
        "    print(\"Loaded vocab size %i\" % len(vocab))\n",
        "    return wv_from_bin"
      ]
    },
    {
      "cell_type": "code",
      "execution_count": 1,
      "metadata": {
        "colab": {
          "base_uri": "https://localhost:8080/"
        },
        "id": "9n7coG7kgHwU",
        "outputId": "cc0b46b5-6eed-4192-822f-3541eaf01a43"
      },
      "outputs": [],
      "source": [
        "# # -----------------------------------\n",
        "# # Run Cell to Load Word Vectors\n",
        "# # Note: This may take several minutes\n",
        "# # -----------------------------------\n",
        "\n",
        "wv_from_bin = load_word2vec()\n",
        "\n",
        "# save to local\n",
        "import pickle\n",
        "# # dump\n",
        "file_name = 'wv_from_bin.pkl'\n",
        "with open(file_name, 'wb') as f:\n",
        "    pickle.dump(wv_from_bin, f)\n",
        "\n",
        "# re-load\n",
        "with open(file_name, 'rb') as f:\n",
        "    wv_from_bin = pickle.load(f)\n"
      ]
    },
    {
      "cell_type": "code",
      "execution_count": 9,
      "metadata": {},
      "outputs": [
        {
          "name": "stdout",
          "output_type": "stream",
          "text": [
            "('<user>', 0)\n",
            "('.', 1)\n",
            "(':', 2)\n",
            "('rt', 3)\n",
            "(',', 4)\n",
            "('<repeat>', 5)\n",
            "('<hashtag>', 6)\n",
            "('<number>', 7)\n",
            "('<url>', 8)\n",
            "('!', 9)\n",
            "vector (embedding) size: 25\n",
            "exmaple of embedded vector: \n",
            "[[ 0.62415   0.62476  -0.082335  0.20101  -0.13741  -0.11431   0.77909\n",
            "   2.6356   -0.46351   0.57465  -0.024888 -0.015466 -2.9696   -0.49876\n",
            "   0.095034 -0.94879  -0.017336 -0.86349  -1.3348    0.046811  0.36999\n",
            "  -0.57663  -0.48469   0.40078   0.75345 ]\n",
            " [ 0.69586  -1.1469   -0.41797  -0.022311 -0.023801  0.82358   1.2228\n",
            "   1.741    -0.90979   1.3725    0.1153   -0.63906  -3.2252    0.61269\n",
            "   0.33544  -0.57058  -0.50861  -0.16575  -0.98153  -0.8213    0.24333\n",
            "  -0.14482  -0.67877   0.7061    0.40833 ]]\n"
          ]
        }
      ],
      "source": [
        "# we want to check the structure of 'wv_from_bin', but wv_from_bin.key_to_index is a huge dictionary, so we adapt \"yield\" to iter 10 random items from the dict (dict is not ordered)\n",
        "def list_10items_from_dict(dic):\n",
        "    for i in dic.items():\n",
        "        yield i\n",
        "\n",
        "items_from_dict = list_10items_from_dict(wv_from_bin.key_to_index)\n",
        "for i in range(10):\n",
        "    print(next(items_from_dict))\n",
        "\n",
        "print(f'vector (embedding) size: {wv_from_bin.vector_size}')\n",
        "print(f'exmaple of embedded vector: \\n{wv_from_bin.vectors[:2]}')"
      ]
    },
    {
      "cell_type": "markdown",
      "metadata": {
        "id": "N3ONN2P8z9yA"
      },
      "source": [
        "\n",
        "**Reducing dimensionality of Word2Vec Word Embeddings**\n",
        "\n",
        "Let's directly compare the word2vec embeddings to those of the co-occurrence matrix. Run the following cells to:\n",
        "\n",
        "- Put the 1.2 million word2vec vectors into a matrix M\n",
        "- Run reduce_to_k_dim (your Truncated SVD function) to reduce the vectors from 25-dimensional to 2-dimensional.\n",
        "\n"
      ]
    },
    {
      "cell_type": "code",
      "execution_count": 10,
      "metadata": {
        "id": "Cmx7pKhhh1Qj"
      },
      "outputs": [],
      "source": [
        "def get_matrix_of_vectors(wv_from_bin, required_words=['barrels', 'bpd', 'ecuador', 'energy', 'industry', 'kuwait', 'oil', 'output', 'petroleum', 'venezuela']):\n",
        "    \"\"\" Put the word2vec vectors into a matrix M.\n",
        "        Param:\n",
        "            wv_from_bin: KeyedVectors object; the 1.2 million word2vec vectors loaded from file\n",
        "        Return:\n",
        "            M: numpy matrix shape (num words, 300) containing the vectors\n",
        "            word2Ind: dictionary mapping each word to its row number in M\n",
        "    \"\"\"\n",
        "    import random\n",
        "    words = list(wv_from_bin.key_to_index.keys())\n",
        "    print(\"Shuffling words ...\")\n",
        "    random.shuffle(words)\n",
        "    words = words[:10000]\n",
        "    print(\"Putting %i words into word2Ind and matrix M...\" % len(words))\n",
        "    word2Ind = {}\n",
        "    M = []\n",
        "    curInd = 0\n",
        "    for w in words:\n",
        "        try:\n",
        "            M.append(wv_from_bin.word_vec(w))\n",
        "            word2Ind[w] = curInd\n",
        "            curInd += 1\n",
        "        except KeyError:\n",
        "            continue\n",
        "    for w in required_words:\n",
        "        try:\n",
        "            M.append(wv_from_bin.word_vec(w))\n",
        "            word2Ind[w] = curInd\n",
        "            curInd += 1\n",
        "        except KeyError:\n",
        "            continue\n",
        "    M = np.stack(M)\n",
        "    print(\"Done.\")\n",
        "    return M, word2Ind"
      ]
    },
    {
      "cell_type": "markdown",
      "metadata": {
        "id": "NwG7p3MepE6P"
      },
      "source": [
        "**Implement reduce_to_k_dim**\n",
        "\n",
        "Construct a method that performs dimensionality reduction on the matrix to produce k-dimensional embeddings. Use SVD to take the top k components and produce a new matrix of k-dimensional embeddings.\n",
        "\n",
        "Note: All of numpy, scipy, and scikit-learn (sklearn) provide some implementation of SVD, but only scipy and sklearn provide an implementation of Truncated SVD, and only sklearn provides an efficient randomized algorithm for calculating large-scale Truncated SVD. So please use [sklearn.decomposition.TruncatedSVD](https://scikit-learn.org/stable/modules/generated/sklearn.decomposition.TruncatedSVD.html).\n",
        "\n",
        "**<font color=\"red\">[Task]</font>**: Complete reduce_to_k_dim function"
      ]
    },
    {
      "cell_type": "code",
      "execution_count": 11,
      "metadata": {
        "id": "ggHnG5EcidGm"
      },
      "outputs": [],
      "source": [
        "from sklearn.decomposition import TruncatedSVD\n",
        "def reduce_to_k_dim(M, k=2):\n",
        "    \"\"\" Reduce a co-occurrence count matrix of dimensionality (num_corpus_words, num_corpus_words to a matrix of dimensionality (num_corpus_words, k) using TruncatedSVD.\n",
        "\n",
        "    truncated svd check: http://scikit-learn.org/stable/modules/generated/sklearn.decomposition.TruncatedSVD.html\n",
        "        \n",
        "        Params:\n",
        "            M (numpy matrix of shape (num_corpus_words, num_corpus_words)): co-occurrence matrix of word counts\n",
        "            k (int): embedding size of each word after dimension reduction\n",
        "        Return:\n",
        "            M_reduced (numpy matrix of shape (num_corpus_words, k)): matrix of k-dimensional word embeddings.\n",
        "    \"\"\"\n",
        "    n_iters = 10  # Number of iterations for SVD\n",
        "    print(\"Running Truncated SVD over %i words...\" % (M.shape[0]))\n",
        "\n",
        "    # ------------------\n",
        "    # Write your implementation here.\n",
        "    svd = TruncatedSVD(n_components=k, n_iter=n_iters, random_state=0)  # truncated svd\n",
        "    M_reduced = svd.fit_transform(M)  # dimensionality reduction\n",
        "\n",
        "    # ------------------\n",
        "    print(\"Done.\")\n",
        "    return M_reduced"
      ]
    },
    {
      "cell_type": "code",
      "execution_count": 21,
      "metadata": {
        "id": "hDG1rO_wh2zP"
      },
      "outputs": [
        {
          "name": "stdout",
          "output_type": "stream",
          "text": [
            "Shuffling words ...\n",
            "Putting 10000 words into word2Ind and matrix M...\n",
            "Done.\n",
            "Running Truncated SVD over 10010 words...\n",
            "Done.\n",
            "M_reduced: [[ 2.4653165  -0.01928564]\n",
            " [ 2.8954818   0.09360451]\n",
            " [ 3.0669835   1.3508444 ]\n",
            " ...\n",
            " [ 0.19509113  0.46137983]\n",
            " [ 1.1864849   0.37794757]\n",
            " [-2.094064   -0.9062391 ]]\n"
          ]
        },
        {
          "name": "stderr",
          "output_type": "stream",
          "text": [
            "C:\\Users\\xuguy\\AppData\\Local\\Temp\\ipykernel_24880\\3415616940.py:20: DeprecationWarning: Call to deprecated `word_vec` (Use get_vector instead).\n",
            "  M.append(wv_from_bin.word_vec(w))\n",
            "C:\\Users\\xuguy\\AppData\\Local\\Temp\\ipykernel_24880\\3415616940.py:27: DeprecationWarning: Call to deprecated `word_vec` (Use get_vector instead).\n",
            "  M.append(wv_from_bin.word_vec(w))\n"
          ]
        }
      ],
      "source": [
        "# -----------------------------------------------------------------\n",
        "# Run Cell to Reduce 25-Dimensinal Word Embeddings to k Dimensions\n",
        "# Note: This may take several minutes\n",
        "# -----------------------------------------------------------------\n",
        "import numpy as np\n",
        "M, word2Ind = get_matrix_of_vectors(wv_from_bin)\n",
        "M_reduced = reduce_to_k_dim(M, k=2)\n",
        "print(f'M_reduced: {M_reduced}')"
      ]
    },
    {
      "cell_type": "markdown",
      "metadata": {
        "id": "_0fGsfm-oZG7"
      },
      "source": [
        "**Here is a helper function to plot a set of 2D vectors in 2D space. For graphs, we will use Matplotlib (plt).**"
      ]
    },
    {
      "cell_type": "code",
      "execution_count": 16,
      "metadata": {
        "id": "bMXt_-QPn0C0"
      },
      "outputs": [],
      "source": [
        "import matplotlib.pyplot as plt\n",
        "\n",
        "def plot_embeddings(M_reduced, word2Ind, words):\n",
        "    \"\"\" Plot in a scatterplot the embeddings of the words specified in the list \"words\".\n",
        "        Include a label next to each point.\n",
        "\n",
        "        Params:\n",
        "            M_reduced (numpy matrix of shape (number of unique words in the corpus, k)): matrix of k-dimensional word embeddings\n",
        "            word2Ind (dict): dictionary that maps word to indices for matrix M\n",
        "            words (list of strings): words whose embeddings we want to visualize\n",
        "    \"\"\"\n",
        "    plt.figure(figsize=(10, 10))\n",
        "    for word in words:\n",
        "        if word in word2Ind:\n",
        "            idx = word2Ind[word]\n",
        "            x, y = M_reduced[idx, 0], M_reduced[idx, 1]\n",
        "            plt.scatter(x, y, marker='o', color='blue')\n",
        "            plt.text(x + 0.02, y + 0.02, word, fontsize=9)\n",
        "        else:\n",
        "            print(f\"Word '{word}' not found in word2Ind dictionary.\")\n",
        "\n",
        "    plt.title(\"Word Embeddings Visualization\")\n",
        "    plt.xlabel(\"Dimension 1\")\n",
        "    plt.ylabel(\"Dimension 2\")\n",
        "    plt.grid(True)\n",
        "    plt.show()"
      ]
    },
    {
      "cell_type": "markdown",
      "metadata": {
        "id": "wBbtacQhorHe"
      },
      "source": [
        "### 2.1: Word2Vec Plot Analysis\n",
        "Run the cell below to plot the 2D word2vec embeddings for ['barrels', 'bpd', 'ecuador', 'energy', 'industry', 'kuwait', 'oil', 'output', 'petroleum', 'venezuela'].\n",
        "\n",
        "What clusters together in 2-dimensional embedding space? What doesn't cluster together that you might think should have? How is the plot different from the one generated earlier from the co-occurrence matrix?"
      ]
    },
    {
      "cell_type": "code",
      "execution_count": 22,
      "metadata": {
        "colab": {
          "base_uri": "https://localhost:8080/",
          "height": 1000
        },
        "id": "usSSq_x3llW6",
        "outputId": "2a9b872b-b7c1-4956-8db7-17b1aa8211e6"
      },
      "outputs": [
        {
          "data": {
            "image/png": "[encoded data removed]",
            "text/plain": [
              "<Figure size 1000x1000 with 1 Axes>"
            ]
          },
          "metadata": {},
          "output_type": "display_data"
        },
        {
          "data": {
            "text/plain": [
              "'\\ndue to the randomness of truncated SVD, the plot will be different for each run of this cell\\n'"
            ]
          },
          "execution_count": 22,
          "metadata": {},
          "output_type": "execute_result"
        }
      ],
      "source": [
        "words = ['barrels', 'bpd', 'ecuador', 'energy', 'industry', 'kuwait', 'oil', 'output', 'petroleum', 'venezuela']\n",
        "plot_embeddings(M_reduced, word2Ind, words)\n",
        "\n",
        "'''\n",
        "due to the randomness of truncated SVD, the plot will be different for each run of this cell\n",
        "'''"
      ]
    },
    {
      "cell_type": "markdown",
      "metadata": {
        "id": "Swps7Nsqo0Q5"
      },
      "source": [
        "**<font color=\"red\">[Task]</font>**:Write your answer here."
      ]
    },
    {
      "cell_type": "markdown",
      "metadata": {},
      "source": [
        "1. What clusters together in 2-dimensional embedding space?\n",
        "   - oil/patro production countries, like **ecuador**, **kuwait** etc, cluster together with **oil** and **patro**\n",
        "2. What doesn't cluster together that you might think should have? \n",
        "   - **venezuela** should cluster with those mentioned above because **venuzuela** is a oil production country so it is closely related to **oil** or **patro**, but it doesn't\n",
        "3. How is the plot different from the one generated earlier from the co-occurrence matrix?\n",
        "   - ? wdym co-occurrence matrix? we have never dealed with co-occurence matrix before in this hw. do you mean the plot of matrix generated by cbow(Word2Vec)?\n",
        "   - difference of the matrix generated before and this one: they use different dimension-reduction algo, the one before use t-SNE from sklearn, this one use truncated-svd. can't see any significant difference from these 2."
      ]
    },
    {
      "cell_type": "markdown",
      "metadata": {
        "id": "3mbzLnAwdOth"
      },
      "source": [
        "### 2.2 Polysemous Words\n",
        "Find a [polysemous](https://en.wikipedia.org/wiki/Polysemy) word (for example, \"leaves\" or \"scoop\") such that the top-10 most similar words (according to cosine similarity) contains related words from both meanings. For example, \"leaves\" has both \"turns\" and \"ground\" in the top 10, and \"scoop\" has both \"buckets\" and \"pops\". You will probably need to try several polysemous words before you find one. Please state the polysemous word you discover and the multiple meanings that occur in the top 10. Why do you think many of the polysemous words you tried didn't work?\n",
        "\n",
        "Note: You should use the wv_from_bin.most_similar(word) function to get the top 10 similar words. This function ranks all other words in the vocabulary with respect to their cosine similarity to the given word. For further assistance please check the GenSim [documentation](https://radimrehurek.com/gensim/models/keyedvectors.html#gensim.models.keyedvectors.FastTextKeyedVectors.most_similar)."
      ]
    },
    {
      "cell_type": "code",
      "execution_count": 23,
      "metadata": {
        "colab": {
          "base_uri": "https://localhost:8080/"
        },
        "id": "gQdi-3zJ3JSt",
        "outputId": "03a46118-9ca5-404d-ddc3-3da09838010c"
      },
      "outputs": [
        {
          "name": "stdout",
          "output_type": "stream",
          "text": [
            "['follow', 'people', 'really', 'please', 'twitter', 'hahaha', 'someone', 'always', 'because', 'thanks']\n"
          ]
        }
      ],
      "source": [
        "# ------------------\n",
        "# Write your polysemous word exploration code here.\n",
        "'''\n",
        "思路：1. 筛选出长度大于6的词，这些长词大部分都是名词、形容词、副词，这些词才好判断词义 2. 重点考察名词、形容词\n",
        "'''\n",
        "# 获取vocab\n",
        "vocabList = list(wv_from_bin.key_to_index.keys())\n",
        "len(vocabList) # 1193514\n",
        "\n",
        "def find_alpha(vocab, word_length=4):\n",
        "    wordsAlpha = []\n",
        "    # 找出前1000词中，由纯字母构成的词：str.isalpha()\n",
        "    for word in vocab[:1000]:\n",
        "        if word.isalpha() and len(word) >=word_length:\n",
        "            wordsAlpha.append(word)\n",
        "    return wordsAlpha\n",
        "# 筛选出长度大于或等于5的词，因为大多数非形容词长度都比较小\n",
        "alpha = find_alpha(vocabList[:1000], word_length = 6)\n",
        "\n",
        "# 打印出前10个看看\n",
        "print(alpha[:10])\n"
      ]
    },
    {
      "cell_type": "code",
      "execution_count": 24,
      "metadata": {
        "colab": {
          "base_uri": "https://localhost:8080/"
        },
        "id": "f1pUnbtZq-ST",
        "outputId": "a09e8bbe-42fc-4fd9-851e-5deb8876e2b9"
      },
      "outputs": [
        {
          "name": "stdout",
          "output_type": "stream",
          "text": [
            "Testing word: hard\n",
            "Top 10 similar words: \n",
            "['even', 'bad', 'fall', 'shit', 'its', 'harder', 'it', 'nothing', 'way', 'fast']\n",
            "\n",
            "Testing word: summit\n",
            "Top 10 similar words: \n",
            "['conference', 'alliance', 'convention', 'international', 'district', 'academy', 'development', 'chamber', 'arts', 'center']\n",
            "\n",
            "Testing word: tomorrow\n",
            "Top 10 similar words: \n",
            "['saturday', 'monday', 'friday', 'tonight', 'thursday', 'wednesday', 'today', 'soon', 'tuesday', 'coming']\n",
            "\n",
            "Testing word: little\n",
            "Top 10 similar words: \n",
            "['look', 'girl', 'like', 'pretty', 'kid', 'big', 'old', 'my', 'lady', 'one']\n",
            "\n",
            "Testing word: believe\n",
            "Top 10 similar words: \n",
            "['remember', 'never', 'one', 'wanted', 'forget', 'we', 'see', 'let', 'rush', 'meet']\n",
            "\n"
          ]
        }
      ],
      "source": [
        "# 给定候选词，找出每个候选词的10个most_similar words，然后人工判断polysemous words\n",
        "def polysemous(candidate_words):\n",
        "\n",
        "    for word in candidate_words:\n",
        "        try:\n",
        "            top_10_similar = wv_from_bin.most_similar(word, topn=10)\n",
        "            top_10_words = [w for w, _ in top_10_similar]\n",
        "\n",
        "            # Check if the top-10 similar words contain evidence of multiple meanings\n",
        "            # (e.g., related words from both senses)\n",
        "            # This is a heuristic and may need adjustment based on the word.\n",
        "            if len(set(top_10_words)) >= 2:  # At least two distinct meanings\n",
        "                print(f\"Testing word: {word}\")\n",
        "                print(f\"Top 10 similar words: \\n{top_10_words}\\n\")\n",
        "\n",
        "        except KeyError:\n",
        "            print('words not found in vocab')\n",
        "            continue\n",
        "\n",
        "# 随意选择了一些候选词：\n",
        "candidate_words = ['hard', 'summit' ,'tomorrow', 'little', 'believe']\n",
        "polysemous(candidate_words)\n",
        "\n",
        "# ------------------\n",
        "\n"
      ]
    },
    {
      "cell_type": "markdown",
      "metadata": {
        "id": "EIiwx3NLrHnV"
      },
      "source": [
        "**<font color=\"red\">[Task]</font>**:Write your answer here."
      ]
    },
    {
      "cell_type": "markdown",
      "metadata": {},
      "source": [
        "1. state the polysemous word you discover and the multiple meanings that occur in the top 10. \n",
        "   - **hard** has similar words **bad**, **nothing** etc, they are polysemous word of **hard**\n",
        "   - check above cell outputs for details.\n",
        "2. Why do you think many of the polysemous words you tried didn't work?\n",
        "   - i dont't get it, what do you want to ask? all the words i tried have polysemous words, so they all work\n",
        "   - if you are asking **why some of the words from the top 10 most similar might not be a polysemous word?**: do you mean why there are totally **irrelevant** words like **shit**, **it** appear in the top 10 most similar to **hard**, it may be because\n",
        "     - the CBoW model(as well as skip-gram) is trained by predicting a word given its context words, so words that frequently appear in similar contexts may have similar embeddings, even if they are unrelated in meaning.\n",
        "     - In a high-dimensional vector space, there can be accidental closeness between words that do not have a meaningful relationship.\n",
        "     - Training data have bias and may not have sufficient context"
      ]
    },
    {
      "cell_type": "markdown",
      "metadata": {
        "id": "k8vhD0k0dQ-z"
      },
      "source": [
        "### 2.3: Synonyms & Antonyms\n",
        "\n",
        "When considering Cosine Similarity, it's often more convenient to think of Cosine Distance, which is simply 1 - Cosine Similarity.\n",
        "\n",
        "Find three words (w1,w2,w3) where w1 and w2 are synonyms and w1 and w3 are antonyms, but Cosine Distance(w1,w3) < Cosine Distance(w1,w2). For example, w1=\"happy\" is closer to w3=\"sad\" than to w2=\"cheerful\".\n",
        "\n",
        "Once you have found your example, please give a possible explanation for why this counter-intuitive result may have happened.\n",
        "\n",
        "You should use the the wv_from_bin.distance(w1, w2) function here in order to compute the cosine distance between two words. Please see the GenSim documentation for further assistance.\n"
      ]
    },
    {
      "cell_type": "code",
      "execution_count": 25,
      "metadata": {
        "colab": {
          "base_uri": "https://localhost:8080/",
          "height": 70
        },
        "id": "Wli3CumGs50-",
        "outputId": "bd54a131-3f87-4813-e5cc-5c145bdb19f2"
      },
      "outputs": [
        {
          "name": "stdout",
          "output_type": "stream",
          "text": [
            "Synonyms hard, difficult have cosine distance: 0.24550330638885498\n",
            "Antonyms hard, easy have cosine distance: 0.1183176040649414\n"
          ]
        },
        {
          "data": {
            "text/plain": [
              "'\\nSynonyms hard, difficult have cosine distance: 0.24550330638885498\\nAntonyms hard, easy have cosine distance: 0.1183176040649414\\n'"
            ]
          },
          "execution_count": 25,
          "metadata": {},
          "output_type": "execute_result"
        }
      ],
      "source": [
        "\n",
        "# ------------------\n",
        "# Write your synonym & antonym exploration code here.\n",
        "\n",
        "# example\n",
        "w1 = \"hard\"\n",
        "w2 = \"difficult\"\n",
        "w3 = \"easy\"\n",
        "w1_w2_dist = wv_from_bin.distance(w1, w2)\n",
        "w1_w3_dist = wv_from_bin.distance(w1, w3)\n",
        "\n",
        "print(\"Synonyms {}, {} have cosine distance: {}\".format(w1, w2, w1_w2_dist))\n",
        "print(\"Antonyms {}, {} have cosine distance: {}\".format(w1, w3, w1_w3_dist))\n",
        "\n",
        "'''\n",
        "Synonyms hard, difficult have cosine distance: 0.24550330638885498\n",
        "Antonyms hard, easy have cosine distance: 0.1183176040649414\n",
        "'''"
      ]
    },
    {
      "cell_type": "markdown",
      "metadata": {
        "id": "gZV7c7_4s9Is"
      },
      "source": [
        "**<font color=\"red\">[Task]</font>**:Write your answer here."
      ]
    },
    {
      "cell_type": "markdown",
      "metadata": {},
      "source": [
        "1. Once you have found your example, please give a possible explanation for why this counter-intuitive result may have happened.\n",
        "   - found one set of (w1,w2,w3): (hard, difficult, easy), **easy** is antonym to **hard**, but it has smaller cos-distance to **hard** than **difficult**, which is a synonym of **hard**\n",
        "   - **possible explaination**: the CBoW model(as well as skip-gram) is trained by predicting a word given its context words, so words that frequently appear in similar contexts may have similar embeddings, even if they are opposite in meaning."
      ]
    },
    {
      "cell_type": "markdown",
      "metadata": {
        "id": "l4G2X-TTpzwz"
      },
      "source": [
        "## Task 3: Utilize Word Embeddings\n",
        "\n",
        "Guess, you've seen such pictures already:  \n",
        "\n",
        "![Embeddings Relations](https://www.tensorflow.org/images/linear-relationships.png)\n",
        "*Source: [Tensorflow tutorial on Vector Representations of Words](https://www.tensorflow.org/tutorials/representation/word2vec)*\n",
        "\n",
        "In the first image, we observe the intricate relationships encoded within the word embeddings space. This encompasses various dimensions like gender differences (male-female) or verb tenses.\n",
        "\n",
        "**Interactive Exploration**\n",
        "\n",
        "To delve deeper and interactively explore these relationships, check out these resources:\n",
        "- [Word Vector Demo](http://bionlp-www.utu.fi/wv_demo/)\n",
        "- [Word2Viz](https://lamyiowce.github.io/word2viz/)\n",
        "\n",
        "These tools offer a playful yet insightful experience, allowing you to grasp the nuances and capabilities of word embeddings.\n",
        "\n",
        "**Our task point**\n",
        "\n",
        "Our focus will be on utilizing [gensim](https://radimrehurek.com/gensim/), a well-regarded Python library for word embeddings. Gensim makes it effortless to work with and leverage the power of word embeddings in various applications.\n"
      ]
    },
    {
      "cell_type": "markdown",
      "metadata": {
        "id": "KIvBhh71WIeS"
      },
      "source": [
        "### **3.1 Use Pretrained Embeddings**\n",
        "Base on gensim, we can easily use a well-pretrained embeddings model. There are a number of such models in <font color=\"blue\">gensim</font>, you can call `api.info()` to get the list."
      ]
    },
    {
      "cell_type": "code",
      "execution_count": 26,
      "metadata": {
        "id": "OEazfh1s9eki"
      },
      "outputs": [],
      "source": [
        "import gensim.downloader as api\n",
        "\n",
        "model = api.load('glove-twitter-25')"
      ]
    },
    {
      "cell_type": "markdown",
      "metadata": {
        "id": "HPQxqjIGZxt_"
      },
      "source": [
        "**use word embedidngs with gensim**\n",
        "\n",
        "Yay, we have loaded well-built word embedings models, now let's learn how to use it.\n",
        "\n",
        "1. To get word's vector, well, call `get_vector`:"
      ]
    },
    {
      "cell_type": "code",
      "execution_count": 27,
      "metadata": {
        "colab": {
          "base_uri": "https://localhost:8080/"
        },
        "id": "4uF6iF6A9uGQ",
        "outputId": "dc86d016-e921-457e-e7d8-8ba4c712db03"
      },
      "outputs": [
        {
          "data": {
            "text/plain": [
              "array([ 0.47841 ,  0.39537 , -0.3216  ,  0.58639 , -0.48316 ,  0.11402 ,\n",
              "        1.3829  , -0.86081 , -0.81769 , -0.075026, -0.77716 ,  0.58212 ,\n",
              "       -5.2756  , -0.54024 ,  0.39019 ,  0.3941  ,  0.32682 , -0.7274  ,\n",
              "        0.49747 , -0.88427 , -0.062516,  0.035716, -0.28677 ,  0.64153 ,\n",
              "       -0.574   ], dtype=float32)"
            ]
          },
          "execution_count": 27,
          "metadata": {},
          "output_type": "execute_result"
        }
      ],
      "source": [
        "model.get_vector('anything')"
      ]
    },
    {
      "cell_type": "markdown",
      "metadata": {
        "id": "DiXwAZTsaHCf"
      },
      "source": [
        "2. To get most similar words for the given one :"
      ]
    },
    {
      "cell_type": "code",
      "execution_count": 28,
      "metadata": {
        "colab": {
          "base_uri": "https://localhost:8080/"
        },
        "id": "57uH83XZaI6p",
        "outputId": "81eb1f81-ad2d-48ca-8b0c-966899b70a5f"
      },
      "outputs": [
        {
          "data": {
            "text/plain": [
              "[('meat', 0.9616428017616272),\n",
              " ('corn', 0.961062490940094),\n",
              " ('cheese', 0.9532766342163086),\n",
              " ('noodles', 0.9493104815483093),\n",
              " ('soup', 0.9440536499023438),\n",
              " ('egg', 0.9418218731880188),\n",
              " ('milk', 0.941437304019928),\n",
              " ('chicken', 0.9398934841156006),\n",
              " ('beans', 0.9390753507614136),\n",
              " ('toast', 0.936586856842041)]"
            ]
          },
          "execution_count": 28,
          "metadata": {},
          "output_type": "execute_result"
        }
      ],
      "source": [
        "model.most_similar('bread')"
      ]
    },
    {
      "cell_type": "markdown",
      "metadata": {
        "id": "Rtyp__uQaVcR"
      },
      "source": [
        "3. Analogies with word embeddings\n",
        "\n",
        "It can do such magic (`woman` + `grandfather` - `man`) :\n"
      ]
    },
    {
      "cell_type": "code",
      "execution_count": 33,
      "metadata": {
        "colab": {
          "base_uri": "https://localhost:8080/"
        },
        "id": "9igEyCm6aqfU",
        "outputId": "f6653311-6c79-4bc5-c28e-e1500e1588bb"
      },
      "outputs": [
        {
          "name": "stdout",
          "output_type": "stream",
          "text": [
            "top 10 most similar words: \n",
            "[('grandmother', 0.878795325756073), ('deceased', 0.8755999803543091), ('grandson', 0.8732503652572632), ('granddaughter', 0.8626090884208679), ('mother-in-law', 0.8423668742179871), ('stabs', 0.8338027596473694), ('adopted', 0.8286494612693787), ('marries', 0.825094997882843), ('brother-in-law', 0.8129834532737732), ('fiancee', 0.8020613193511963)]\n"
          ]
        }
      ],
      "source": [
        "# Run this cell to answer the analogy -- man : grandfather :: woman : x\n",
        "most_si = model.most_similar(positive=['woman', 'grandfather'], negative=['man'])\n",
        "print(f'top 10 most similar words: \\n{most_si}')\n",
        "\n",
        "# simply pick the most similar one, which is 'grandmother' to be our analogy."
      ]
    },
    {
      "cell_type": "markdown",
      "metadata": {
        "id": "BwCkJSNraruT"
      },
      "source": [
        "And this too:"
      ]
    },
    {
      "cell_type": "code",
      "execution_count": 34,
      "metadata": {
        "colab": {
          "base_uri": "https://localhost:8080/"
        },
        "id": "e4t94HZXa1vd",
        "outputId": "a57281c9-f5f7-426a-cc68-94aae8e34a33"
      },
      "outputs": [
        {
          "data": {
            "text/plain": [
              "[('gfx', 0.8166244029998779),\n",
              " ('realtor', 0.7994468808174133),\n",
              " ('promoters', 0.7922900319099426),\n",
              " ('promoter', 0.7778065800666809),\n",
              " ('recruiter', 0.7722606658935547),\n",
              " ('digg', 0.7702906727790833),\n",
              " ('sfi', 0.7655168771743774),\n",
              " ('chefs', 0.7650213837623596),\n",
              " ('smallbusiness', 0.7634385824203491),\n",
              " ('realestate', 0.7535584568977356)]"
            ]
          },
          "execution_count": 34,
          "metadata": {},
          "output_type": "execute_result"
        }
      ],
      "source": [
        "model.most_similar([model.get_vector('coder') - model.get_vector('brain') + model.get_vector('money')])"
      ]
    },
    {
      "cell_type": "markdown",
      "metadata": {
        "id": "c23cwWhKvtXp"
      },
      "source": [
        "That is, who is like coder, with money and without brains."
      ]
    },
    {
      "cell_type": "markdown",
      "metadata": {
        "id": "4a15dwaha36x"
      },
      "source": [
        "**<font color=\"red\">[Task]</font>** : Run an interesting analogy example\n",
        "\n",
        "**Hint**: Similar to (`woman` + `grandfather` - `man`)"
      ]
    },
    {
      "cell_type": "code",
      "execution_count": 35,
      "metadata": {
        "colab": {
          "base_uri": "https://localhost:8080/"
        },
        "id": "g0D04rXsa_al",
        "outputId": "4120fdf3-527c-4b33-b7d8-9d577679e969"
      },
      "outputs": [
        {
          "name": "stdout",
          "output_type": "stream",
          "text": [
            "example #1: mother: queen :: father: king\n"
          ]
        },
        {
          "data": {
            "text/plain": [
              "[('father', 0.9109837412834167),\n",
              " ('called', 0.894909679889679),\n",
              " ('child', 0.8890705704689026),\n",
              " ('said', 0.881404459476471),\n",
              " ('woman', 0.8805525302886963),\n",
              " ('told', 0.8771608471870422),\n",
              " ('wife', 0.8754846453666687),\n",
              " ('daughter', 0.8657993078231812),\n",
              " ('dad', 0.8648059964179993),\n",
              " ('heard', 0.862002432346344)]"
            ]
          },
          "execution_count": 35,
          "metadata": {},
          "output_type": "execute_result"
        }
      ],
      "source": [
        "# ------------------\n",
        "# Write your implementation here.\n",
        "\n",
        "# my answer:\n",
        "print('example #1: mother: queen :: father: king')\n",
        "wv_from_bin.most_similar(positive=['king', 'mother'],negative=['queen'])\n",
        "\n",
        "# ------------------"
      ]
    },
    {
      "cell_type": "code",
      "execution_count": 36,
      "metadata": {
        "colab": {
          "base_uri": "https://localhost:8080/"
        },
        "id": "jkzzGBhO4z_z",
        "outputId": "fe857d30-4fbe-4d3b-fce1-bcf91407520a"
      },
      "outputs": [
        {
          "name": "stdout",
          "output_type": "stream",
          "text": [
            "example #2: have: food :: shoes: wore\n"
          ]
        },
        {
          "data": {
            "text/plain": [
              "[('wore', 0.8886487483978271),\n",
              " ('wearing', 0.8869256973266602),\n",
              " ('wear', 0.8861392736434937),\n",
              " ('shirt', 0.8839967846870422),\n",
              " ('pair', 0.8752208352088928),\n",
              " ('wears', 0.8669461607933044),\n",
              " ('shoes', 0.8646951913833618),\n",
              " ('both', 0.8637152314186096),\n",
              " ('tie', 0.8606826066970825),\n",
              " ('won', 0.8483160138130188)]"
            ]
          },
          "execution_count": 36,
          "metadata": {},
          "output_type": "execute_result"
        }
      ],
      "source": [
        "# ------------------\n",
        "# Write your implementation here.\n",
        "\n",
        "# my answer:\n",
        "print('example #2: have: food :: shoes: wore')\n",
        "wv_from_bin.most_similar(wv_from_bin.get_vector('have')-wv_from_bin.get_vector('food')+wv_from_bin.get_vector('shoes'))\n",
        "\n",
        "\n",
        "# ------------------\n"
      ]
    },
    {
      "cell_type": "markdown",
      "metadata": {
        "id": "szS69OEObDzy"
      },
      "source": [
        "### **3.2 Finding the Most Similar Sentence**\n",
        "\n",
        "In this section, we present a method for sentence retrieval based on word embeddings.\n",
        "\n",
        "The key point is to construct *sentence embeddings*. The simplest method to obtain a sentence embedding is by averaging the embeddings of the words within the sentence.\n",
        "\n",
        "*You are probably thinking, 'What a dumb idea, why on earth the average of embedding should contain any useful information'. Well, check [this paper](https://arxiv.org/pdf/1805.09843.pdf).*\n",
        "\n"
      ]
    },
    {
      "cell_type": "markdown",
      "metadata": {
        "id": "FPJdCsjtfDxJ"
      },
      "source": [
        "1. Get Sentence Embedding\n",
        "\n",
        "**<font color=\"red\">[Task]</font>** : Implement a function to compute sentence embeddings.\n",
        "\n",
        "**Hint**: Tokenize and lowercase the texts. Calculate the mean embedding for words with known embeddings."
      ]
    },
    {
      "cell_type": "code",
      "execution_count": 38,
      "metadata": {
        "colab": {
          "base_uri": "https://localhost:8080/",
          "height": 87
        },
        "collapsed": true,
        "id": "0LPw1fRg1GaW",
        "outputId": "3b6d5e6f-5a06-4d81-d04a-0c74ec6ffe6f"
      },
      "outputs": [],
      "source": [
        "# sentence embedding:\n",
        "# import gensim.downloader as api\n",
        "# from nltk.tokenize import word_tokenize\n",
        "\n",
        "# model = api.load('glove-twitter-25')\n",
        "\n",
        "def get_sentence_embedding(model, sentence):\n",
        "    \"\"\" Calcs sentence embedding as a mean of known word embeddings in the sentence.\n",
        "    If all the words are unknown, returns zero vector.\n",
        "    :param model: KeyedVectors instance\n",
        "    :param sentence: str or list of str (tokenized text)\n",
        "    \"\"\"\n",
        "    embedding = np.zeros([model.vector_size], dtype='float32')\n",
        "\n",
        "    if isinstance(sentence, str):\n",
        "        words = word_tokenize(sentence.lower())\n",
        "    else:\n",
        "        words = sentence\n",
        "\n",
        "    sum_embedding = np.zeros([model.vector_size], dtype='float32')\n",
        "    words_in_model = 0\n",
        "\n",
        "    # ------------------\n",
        "    # Write your implementation here.\n",
        "    vocabList = list(model.key_to_index.keys())\n",
        "    for word in words:\n",
        "        if word in vocabList: # NOTICE\n",
        "            sum_embedding += model.get_vector(word)\n",
        "            words_in_model +=1\n",
        "    # make sure sentence embedding has at least 1 word:\n",
        "    if words_in_model > 0:\n",
        "        embedding = sum_embedding/words_in_model\n",
        "\n",
        "    return embedding\n",
        "    # ------------------\n",
        "\n",
        "\n",
        "# 注意，原题目中的vector = get_sentence_embedding(model, \"I'm very sure. This never happened to me before...\")\n",
        "# assert vector.shape == (model.vector_size,)\n",
        "\n",
        "# '...' 会被tokenize 为'...'，我们的vocab里不存在这个东西，因此# NOTICE那一行的判断如果判断为False，sum_embedding将跳过vocab中没有的词，进行下一个\n"
      ]
    },
    {
      "cell_type": "markdown",
      "metadata": {
        "id": "1FbZbKPI1OZf"
      },
      "source": [
        "Check it:"
      ]
    },
    {
      "cell_type": "code",
      "execution_count": 43,
      "metadata": {
        "colab": {
          "base_uri": "https://localhost:8080/"
        },
        "id": "u5phpDHEcdK9",
        "outputId": "8ba49932-8226-4ab6-8b85-dbbcf61eabf3"
      },
      "outputs": [
        {
          "name": "stdout",
          "output_type": "stream",
          "text": [
            "[ 0.04355327  0.13398808  0.16726881 -0.21951303 -0.53978294  0.01005662\n",
            "  1.4096314   0.05043383 -0.6068709   0.07903273 -0.48138705  0.06502508\n",
            " -4.9984365  -0.08382546  0.06057001  0.13585638  0.3144989  -0.27905494\n",
            " -0.39448598 -0.68288624  0.23462509  0.11004109  0.1565229   0.4441222\n",
            " -0.06729318]\n",
            "all good, proceed.\n"
          ]
        }
      ],
      "source": [
        "vector = get_sentence_embedding(model, \"I'm very sure. This never happened to me before...\")\n",
        "assert vector.shape == (model.vector_size,)\n",
        "print(vector)\n",
        "print('all good, proceed.')"
      ]
    },
    {
      "cell_type": "markdown",
      "metadata": {
        "id": "u-8wclbCdTfw"
      },
      "source": [
        "2. **Building the Index**\n",
        "\n",
        "With our method ready, we can now embed all sentences in our corpus for retrieval purposes. In this case, we use data from Quora, sampling 1000 entries randomly, and converting them into sentence embeddings."
      ]
    },
    {
      "cell_type": "code",
      "execution_count": 46,
      "metadata": {
        "id": "P6B2c-bJdCrB"
      },
      "outputs": [],
      "source": [
        "quora_data = pd.read_csv('train.csv')\n",
        "\n",
        "# corpus len=997, because there may be duplicate question\n",
        "# also not that we randomly sample(1000) from dataset, so corpus will differ\n",
        "corpus = list(quora_data.sample(1000)[['question1']].question1.replace(np.nan, '', regex=True).unique())\n",
        "\n",
        "# text_vector.shape (997, 25)\n",
        "# might take ~30s to run this line\n",
        "text_vectors = np.array([get_sentence_embedding(model, sentence) for sentence in corpus])"
      ]
    },
    {
      "cell_type": "code",
      "execution_count": 47,
      "metadata": {
        "colab": {
          "base_uri": "https://localhost:8080/",
          "height": 35
        },
        "id": "NXrJ-R8leSWR",
        "outputId": "c77a670d-dda7-4a23-ba8a-d4d0e0671a01"
      },
      "outputs": [
        {
          "data": {
            "text/plain": [
              "'How do I play Pokémon GO in Korea?'"
            ]
          },
          "execution_count": 47,
          "metadata": {},
          "output_type": "execute_result"
        }
      ],
      "source": [
        "corpus[0]\n"
      ]
    },
    {
      "cell_type": "code",
      "execution_count": 48,
      "metadata": {
        "colab": {
          "base_uri": "https://localhost:8080/"
        },
        "id": "71rQjmmK6fto",
        "outputId": "6c226623-8b1f-47e9-e33a-6843ac93974f"
      },
      "outputs": [
        {
          "data": {
            "text/plain": [
              "array([ 0.3888489 ,  0.16029921,  0.19582754, -0.4084578 , -0.37283242,\n",
              "       -0.02436   ,  0.91520226,  0.29946578,  0.20591444, -0.03248673,\n",
              "       -0.2812218 , -0.14971478, -4.4854336 , -0.41685486,  0.0563231 ,\n",
              "        0.05395163, -0.077271  , -0.34662554, -0.40603998, -0.25013858,\n",
              "       -0.23563528,  0.21580285, -0.0303921 , -0.14689223,  0.19788776],\n",
              "      dtype=float32)"
            ]
          },
          "execution_count": 48,
          "metadata": {},
          "output_type": "execute_result"
        }
      ],
      "source": [
        "# check also:\n",
        "text_vectors[0]"
      ]
    },
    {
      "cell_type": "markdown",
      "metadata": {
        "id": "QiMtj5dXebbY"
      },
      "source": [
        "3. **Search**\n",
        "\n",
        "Now we are able perform search of the nearest neighbours to the given sentences in our base!\n",
        "\n",
        "\n",
        "We'll use cosine similarity of two vectors:\n",
        "$$\\text{cosine\\_similarity}(x, y) = \\frac{x^{T} y}{||x||\\cdot ||y||}$$\n",
        "\n",
        "*It's not a [distance](https://www.encyclopediaofmath.org/index.php/Metric) strictly speaking but we still can use it to search for the sentence vectors.*\n",
        "\n",
        "**<font color=\"red\">[Task]</font>** : IImplement the following function.\n",
        "\n",
        "**Hint:** Calc the similarity between `query` embedding and `text_vectors` using `cosine_similarity` function. Find `k` vectors with highest scores and return corresponding texts from `texts` list."
      ]
    },
    {
      "cell_type": "code",
      "execution_count": 50,
      "metadata": {
        "id": "ynEJW6E7eg0c"
      },
      "outputs": [],
      "source": [
        "from sklearn.metrics.pairwise import cosine_similarity\n",
        "\n",
        "def find_nearest(model, text_vectors, texts, query, k=10):\n",
        "    query_vec = get_sentence_embedding(model, query)\n",
        "\n",
        "    # ------------------\n",
        "    # Write your implementation here.\n",
        "    sentence_embeddings = get_sentence_embedding(model, query)\n",
        "\n",
        "    # squeeze() to reshape c from (1, n) to (n,)\n",
        "    cos_sim = cosine_similarity(sentence_embeddings.reshape(1, -1), text_vectors).squeeze()\n",
        "\n",
        "    # the bigger cosine_similarity the more similar\n",
        "    # so sort c in descenet order: -1*cos_sim\n",
        "    top_k_ind =((-cos_sim).squeeze().argsort())[:k]\n",
        "\n",
        "    # convert indices to question text\n",
        "    top_k_q = [corpus[q] for q in top_k_ind]\n",
        "    print(f'query: {query}')\n",
        "    return top_k_q\n",
        "    # ------------------\n"
      ]
    },
    {
      "cell_type": "markdown",
      "metadata": {
        "id": "is8SoYmHkQo5"
      },
      "source": [
        "Check it!"
      ]
    },
    {
      "cell_type": "code",
      "execution_count": 51,
      "metadata": {
        "colab": {
          "base_uri": "https://localhost:8080/"
        },
        "id": "49s4zB1OjXd4",
        "outputId": "233bf30e-b20d-443f-aae1-e9f37a527628"
      },
      "outputs": [
        {
          "name": "stdout",
          "output_type": "stream",
          "text": [
            "query: What's your biggest regret in life?\n"
          ]
        },
        {
          "data": {
            "text/plain": [
              "['What is the turning point in your life?',\n",
              " 'What should the purpose of your life?',\n",
              " 'What is the most painful/humiliating punishment you ever received in your life?',\n",
              " 'What are the embarrassing moment of your life?',\n",
              " 'What does it mean when you keep having the same dream over and over of the same dead person?',\n",
              " 'Is it good to have sex before a marriage?',\n",
              " 'In the end, what seems to be the most important things in life?',\n",
              " 'What is the purpose of life?',\n",
              " \"I have failed the JEE Mains even after taking a drop. My dad has done a lot of investment in this and my relatives seek moments like this to piss me off. I'm very depressed right now. How do I overcome this?\",\n",
              " 'What are the basic things that one should keep in mind before starting a start up?']"
            ]
          },
          "execution_count": 51,
          "metadata": {},
          "output_type": "execute_result"
        }
      ],
      "source": [
        "find_nearest(model, text_vectors, corpus, \"What's your biggest regret in life?\", k=10)"
      ]
    },
    {
      "cell_type": "markdown",
      "metadata": {},
      "source": [
        "**we can see from the top10 most similar questions to the questioned one, they are indeed very similar: all of the topic of life**"
      ]
    },
    {
      "cell_type": "markdown",
      "metadata": {
        "id": "qA5CwGV8jU5_"
      },
      "source": [
        "### **Bias of Word Embeddings**\n",
        "\n",
        "It's important to be cognizant of the biases (gender, race, sexual orientation etc.) implicit in our word embeddings. Bias can be dangerous because it can reinforce stereotypes through applications that employ these models.\n",
        "\n"
      ]
    },
    {
      "cell_type": "markdown",
      "metadata": {
        "id": "pdIUrmnJxGvL"
      },
      "source": [
        "Here's an example showing word embeddings biases on gender:"
      ]
    },
    {
      "cell_type": "code",
      "execution_count": 52,
      "metadata": {
        "colab": {
          "base_uri": "https://localhost:8080/"
        },
        "id": "gWngJZCWxduU",
        "outputId": "f0552962-e4f1-40e9-9884-f98296c87712"
      },
      "outputs": [
        {
          "name": "stdout",
          "output_type": "stream",
          "text": [
            "[('maths', 0.7983576059341431), ('basis', 0.7973601818084717), ('humør', 0.7948898673057556), ('cert', 0.7902684211730957), ('mulig', 0.7874146103858948), ('spændende', 0.7728654742240906), ('dårligt', 0.7700907588005066), ('latter', 0.7676339745521545), ('noget', 0.7676041722297668), ('vet', 0.7675378918647766)]\n",
            "\n",
            "[('representation', 0.871566116809845), ('encourages', 0.8626720309257507), ('empowering', 0.8612703084945679), ('intellectual', 0.8564386963844299), ('influences', 0.8559868931770325), ('ethical', 0.8550472259521484), ('affairs', 0.8541139960289001), ('behaviors', 0.8481355309486389), ('advocacy', 0.8439522385597229), ('critic', 0.8406821489334106)]\n"
          ]
        }
      ],
      "source": [
        "print(model.most_similar(positive=['man', 'profession'], negative=['woman']))\n",
        "print()\n",
        "print(model.most_similar(positive=['woman', 'profession'], negative=['man']))"
      ]
    },
    {
      "cell_type": "markdown",
      "metadata": {
        "id": "zpFDY9BByDBj"
      },
      "source": [
        "**<font color=\"red\">[Task]</font>** Identify an example of bias.\n",
        "\n",
        "**Hint:** Consider providing an example from perspectives such as race or sexual orientation."
      ]
    },
    {
      "cell_type": "code",
      "execution_count": 53,
      "metadata": {
        "colab": {
          "base_uri": "https://localhost:8080/"
        },
        "id": "np_RQalnx0Bb",
        "outputId": "5739ce75-b39e-4121-b08b-5fc109af822c"
      },
      "outputs": [
        {
          "name": "stdout",
          "output_type": "stream",
          "text": [
            "[('red', 0.9298717975616455), ('grey', 0.8770253658294678), ('gold', 0.8569556474685669), ('golden', 0.8560071587562561), ('green', 0.8503260612487793), ('silver', 0.8307074904441833), ('black', 0.8287413716316223), ('yellow', 0.8248174786567688), ('iron', 0.8127517104148865), ('series', 0.812469482421875)]\n"
          ]
        }
      ],
      "source": [
        "# ------------------\n",
        "# Write your implementation here.\n",
        "\n",
        "# example 1: gender and color bias 1\n",
        "print(model.most_similar(positive=['he', 'blue'], negative=['she']))\n",
        "# ------------------"
      ]
    },
    {
      "cell_type": "code",
      "execution_count": 54,
      "metadata": {
        "colab": {
          "base_uri": "https://localhost:8080/"
        },
        "id": "mnkDqcWb7JJz",
        "outputId": "b3e58dfb-f8c3-4f7c-a9c1-7569ef53d29e"
      },
      "outputs": [
        {
          "name": "stdout",
          "output_type": "stream",
          "text": [
            "[('white', 0.9437015652656555), ('black', 0.933352530002594), ('blue', 0.9333339929580688), ('purple', 0.9230028390884399), ('yellow', 0.9003236889839172), ('green', 0.8979281187057495), ('pink', 0.888805627822876), ('dark', 0.8869737982749939), ('diamond', 0.8821786642074585), ('shoes', 0.8815739750862122)]\n"
          ]
        }
      ],
      "source": [
        "# example 2: gender and color bias 1\n",
        "print(model.most_similar(positive=['she', 'red'], negative=['he']))\n"
      ]
    },
    {
      "cell_type": "code",
      "execution_count": 61,
      "metadata": {
        "colab": {
          "base_uri": "https://localhost:8080/"
        },
        "id": "dYaV-FR37WUO",
        "outputId": "4c5f912e-37f9-41da-819b-b0393d1d0ffc"
      },
      "outputs": [
        {
          "name": "stdout",
          "output_type": "stream",
          "text": [
            "[('street', 0.8598687052726746), ('mansion', 0.8576087355613708), ('streets', 0.8573037981987), ('crew', 0.8540593981742859), ('strip', 0.8438909649848938), ('kids', 0.842349648475647), ('crib', 0.8404805064201355), ('hood', 0.8374512195587158), ('square', 0.8360146284103394), ('kitchen', 0.8335614800453186)]\n"
          ]
        }
      ],
      "source": [
        "# example 3: rich->home, poor->street\n",
        "\n",
        "print(model.most_similar(positive=['rich', 'house'], negative=['poor']))\n"
      ]
    },
    {
      "cell_type": "code",
      "execution_count": 62,
      "metadata": {
        "colab": {
          "base_uri": "https://localhost:8080/"
        },
        "id": "fGcYNghs7hpT",
        "outputId": "406430ee-ebfa-4ea0-d418-3928e4b76334"
      },
      "outputs": [
        {
          "name": "stdout",
          "output_type": "stream",
          "text": [
            "[('black', 0.866184413433075), ('tank', 0.8443092107772827), ('virgin', 0.8251262903213501), ('shoe', 0.8221466541290283), ('purple', 0.820654571056366), ('gucci', 0.8182962536811829), ('circle', 0.8180679678916931), ('hood', 0.8144944906234741), ('models', 0.8128857612609863), ('blue', 0.8073925971984863)]\n"
          ]
        }
      ],
      "source": [
        "# example 4: bruhhhhhhhhhhhhhh rich->white, poor->black\n",
        "print(model.most_similar(positive=['rich', 'white'], negative=['poor']))\n"
      ]
    },
    {
      "cell_type": "markdown",
      "metadata": {
        "id": "902RJydFyjMx"
      },
      "source": [
        "**<font color=\"red\">[Task]</font>** Thinking About Bias.\n",
        "\n",
        "**Hint:** Briefly explain how bias can be introduced into word embeddings and suggest one method to mitigate these biases."
      ]
    },
    {
      "cell_type": "markdown",
      "metadata": {
        "id": "P8zWOHg3065B"
      },
      "source": [
        "**<font color=\"red\">Write your answer here.</font>**\n",
        "\n"
      ]
    },
    {
      "cell_type": "markdown",
      "metadata": {},
      "source": [
        "**How bias can be introduced to word embeddings?**\n",
        "\n",
        "- Biased from the corpus used for training: If the training corpus is small or biased, words may not be placed in a way that accurately reflects their meaning. We, as human, are biased, the commonly seen social bias appear everywhere in our life, so the words we choose are biased, hence the corpus are biased.\n",
        "- If the corpus lacks enough context variety, words that rarely co-occur with others might get embeddings that are not truly representative.\n",
        "\n",
        "**How to mitigate?**\n",
        "- Consider entire sentences instead of fixed embeddings. However within the framework of Word2vec, this is not possible\n",
        "- Debiasing via Projection Removal (e.g., Hard Debiasing) – This method, introduced by Bolukbasi et al. (2016), involves identifying a \"bias direction\" in the embedding space (e.g., a gender direction) and neutralizing word vectors along this dimension."
      ]
    },
    {
      "cell_type": "markdown",
      "metadata": {
        "id": "xqDmuu7m_PB5"
      },
      "source": [
        "## Supplementary Materials\n",
        "Source from [DeepNLP-Course of DanAnastasyev](https://colab.research.google.com/drive/1o65wrq6RYgWyyMvNP8r9ZknXBniDoXrn#forceEdit=true&offline=true&sandboxMode=true)\n",
        "\n",
        "## To read\n",
        "### Blogs\n",
        "[On word embeddings - Part 1, Sebastian Ruder](http://ruder.io/word-embeddings-1/)  \n",
        "[On word embeddings - Part 2: Approximating the Softmax, Sebastian Ruder](http://ruder.io/word-embeddings-softmax/index.html)  \n",
        "[Word2Vec Tutorial - The Skip-Gram Model, Chris McCormick](http://mccormickml.com/2016/04/19/word2vec-tutorial-the-skip-gram-model/)  \n",
        "[Word2Vec Tutorial Part 2 - Negative Sampling, Chris McCormick](http://mccormickml.com/2017/01/11/word2vec-tutorial-part-2-negative-sampling/)\n",
        "\n",
        "### Papers\n",
        "[Word2vec Parameter Learning Explained (2014), Xin Rong](https://arxiv.org/abs/1411.2738)  \n",
        "[Neural word embedding as implicit matrix factorization (2014), Levy, Omer, and Yoav Goldberg](http://u.cs.biu.ac.il/~nlp/wp-content/uploads/Neural-Word-Embeddings-as-Implicit-Matrix-Factorization-NIPS-2014.pdf)  \n",
        "\n",
        "### Enhancing Embeddings\n",
        "[Two/Too Simple Adaptations of Word2Vec for Syntax Problems (2015), Ling, Wang, et al.](https://www.aclweb.org/anthology/N/N15/N15-1142.pdf)  \n",
        "[Not All Neural Embeddings are Born Equal (2014)](https://arxiv.org/pdf/1410.0718.pdf)  \n",
        "[Retrofitting Word Vectors to Semantic Lexicons (2014), M. Faruqui, et al.](https://arxiv.org/pdf/1411.4166.pdf)  \n",
        "[All-but-the-top: Simple and Effective Postprocessing for Word Representations (2017), Mu, et al.](https://arxiv.org/pdf/1702.01417.pdf)  \n",
        "\n",
        "### Sentence Embeddings\n",
        "[Skip-Thought Vectors (2015), Kiros, et al.](https://arxiv.org/pdf/1506.06726)  \n",
        "\n",
        "### Backpropagation\n",
        "[Backpropagation, Intuitions, cs231n + next parts in the Module 1](http://cs231n.github.io/optimization-2/)   \n",
        "[Calculus on Computational Graphs: Backpropagation, Christopher Olah](http://colah.github.io/posts/2015-08-Backprop/)\n",
        "\n",
        "## To watch\n",
        "[cs224n \"Lecture 2 - Word Vector Representations: word2vec\"](https://www.youtube.com/watch?v=ERibwqs9p38&index=2&list=PLqdrfNEc5QnuV9RwUAhoJcoQvu4Q46Lja&t=0s)  \n",
        "[cs224n \"Lecture 5 - Backpropagation\"](https://www.youtube.com/watch?v=isPiE-DBagM&index=5&list=PLqdrfNEc5QnuV9RwUAhoJcoQvu4Q46Lja&t=0s)   \n"
      ]
    },
    {
      "cell_type": "markdown",
      "metadata": {
        "id": "CJ_O-O0wkool"
      },
      "source": [
        "\n",
        "## Acknowledgement\n",
        "\n",
        "This assignment was developed with reference to the following course materials:\n",
        "- [DeepNLP Course by Dan Anastasyev](https://github.com/DanAnastasyev/DeepNLP-Course?tab=readme-ov-file)\n",
        "- [Exploring Word Vectors from Stanford's CS224N](https://web.stanford.edu/class/cs224n/assignments/a1_preview/exploring_word_vectors.html)\n",
        "- [Natural Language Processing course from Princeton University](https://nlp.cs.princeton.edu/cos484-sp21/)\n",
        "- [Yandex Data School NLP Course Week 1 Seminar](https://colab.research.google.com/github/yandexdataschool/nlp_course/blob/2023/week01_embeddings/seminar.ipynb#scrollTo=9m7GZWVk-jrW)\n"
      ]
    }
  ],
  "metadata": {
    "accelerator": "GPU",
    "colab": {
      "gpuType": "T4",
      "provenance": []
    },
    "kernelspec": {
      "display_name": "Python 3",
      "name": "python3"
    },
    "language_info": {
      "codemirror_mode": {
        "name": "ipython",
        "version": 3
      },
      "file_extension": ".py",
      "mimetype": "text/x-python",
      "name": "python",
      "nbconvert_exporter": "python",
      "pygments_lexer": "ipython3",
      "version": "3.12.3"
    }
  },
  "nbformat": 4,
  "nbformat_minor": 0
}
