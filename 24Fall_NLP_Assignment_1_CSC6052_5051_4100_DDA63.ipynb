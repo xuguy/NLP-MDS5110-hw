{
 "cells": [
  {
   "cell_type": "markdown",
   "metadata": {
    "id": "9yFFKuDZB_ow"
   },
   "source": [
    "\n",
    "# Assignment 1: Exploring Word Embeddings\n",
    "**Course Name:** Natural Language Processing (CSC6052/5051/4100/DDA6307/MDS5110)\n",
    "\n",
    "\n",
    "\n"
   ]
  },
  {
   "cell_type": "markdown",
   "metadata": {
    "id": "Y_qFy6J9EgJe"
   },
   "source": [
    "*Please enter your personal information (make sure you have copied this colab)*\n",
    "\n",
    "**Name:** Zijin CAI\n",
    "\n",
    "**Student ID:** 224040002\n",
    "\n",
    "\n",
    "\n",
    "\n"
   ]
  },
  {
   "cell_type": "markdown",
   "metadata": {
    "id": "nQDMk5Uu1niv"
   },
   "source": [
    "## Assignment Requirements\n",
    "\n",
    "This Colab file includes all contents for Assignment 1.\n",
    "\n",
    "#### You are required to:\n",
    "\n",
    "1. **Make a copy of the provided Google Colab file.**  \n",
    "   First, you need to make a copy of the provided file into your own Google Drive. To accomplish this, open the Colab file link, navigate to `File` → `Save a copy in Drive`.\n",
    "\n",
    "2. **Execute the notebook to generate results.**  \n",
    "   You can click on \"Connect to GPU\" to apply for a free T4 GPU. Then, you can press the large play button to run a code cell.\n",
    "\n",
    "3. **Complete the Necessary Parts.**  \n",
    "   Some sections of the code are incomplete and require your input, especially pay attention to the parts marked with **<font color=\"red\">[Task]</font>**. These sections are critical for scoring the assignment.\n",
    "\n",
    "For more detailed instructions, refer to [Working with Google Colab](https://docs.google.com/document/d/1vMe8kC-oSyP3w7rIurDbG3NqfyQw7sZJ2C_S2ngtQnk/edit?usp=sharing).\n",
    "\n",
    "## Submission Guidelines\n",
    "\n",
    "Follow these steps to submit your assignment:\n",
    "\n",
    "1. **Export the Notebook:** Navigate to `File` → `Download .ipynb` to download your notebook.\n",
    "\n",
    "2. **Upload Your File:** Access the [Blackboard system](https://bb.cuhk.edu.cn/) and upload your `.ipynb` file."
   ]
  },
  {
   "cell_type": "markdown",
   "metadata": {
    "id": "H0gO12GJE06O"
   },
   "source": [
    "\n",
    "## Overview\n",
    "\n",
    "*Assignment 1* consists of two tasks:\n",
    "- Task 1: Train Word Embeddings with Word2Vec (5 points)\n",
    "- Task 2: Explore word embeddings (3 ponits)\n",
    "- Task 3: Utilize word embeddings (2 points)\n",
    "\n",
    "Your task is to **run all the code in this script** and complete the parts marked with <font color=\"red\">[task]</font>.\n",
    "\n",
    "## Prerequisite\n",
    "If you're new to Python, Numpy, or PyTorch, consider these tutorials for a quick start:\n",
    "- [Python-Numpy-Tutorial](https://cs231n.github.io/python-numpy-tutorial/)\n",
    "- [Introduction to PyTorch](https://colab.research.google.com/drive/1obAmmGHsMizB38aiZJ_-L1bVMT5KOLMd?usp=sharing)"
   ]
  },
  {
   "cell_type": "markdown",
   "metadata": {
    "id": "SwAJjpp-K8RQ"
   },
   "source": [
    "## Task 1: Train Word Embeddings with Word2Vec\n",
    "\n",
    "**In this task, you will implement and train your own Word2Vec model.**\n",
    "\n",
    "Before diving in, let's clarify what Word2Vec is.\n",
    "\n",
    "Its core concept is straightforward: you can infer the meaning of a word from its neighbors - the words that frequently appear in the same context. Consider this illustration:\n",
    "![Contexts](https://image.ibb.co/mnQ2uz/2018_09_17_21_07_08.png)\n",
    "\n",
    "A basic approach is to use the context word counts as meaningful word vectors. Take this simple corpus for example:\n",
    "\n",
    "```\n",
    "The red fox jumped\n",
    "The brown fox jumped\n",
    "```\n",
    "\n",
    "The count vectors would look like this:\n",
    "```\n",
    "        the fox jumped red brown\n",
    "red   = (1   1    1     0    0)\n",
    "brown = (1   1    1     0    0)\n",
    "```\n",
    "\n",
    "Notice how `red` and `brown` have similar vectors! We're close to solving the problem, but the goal is to obtain more compact embedding vectors.\n",
    "\n",
    "This is where Word2Vec algorithms come into play. They construct embedding vectors based on the word's neighbors in the corpus.\n",
    "\n",
    "For a more detailed introduction, check out this post: [king - man + woman = queen; but why?](http://p.migdal.pl/2017/01/06/king-man-woman-queen-why.html).\n",
    "\n",
    "Let's do some preparation work before moving to the interesting stuff.\n",
    "\n"
   ]
  },
  {
   "cell_type": "markdown",
   "metadata": {
    "id": "8rK5IxppLRHM"
   },
   "source": [
    "### **1.1 Preparation**"
   ]
  },
  {
   "cell_type": "markdown",
   "metadata": {
    "id": "blHR2OjyO5mg"
   },
   "source": [
    "Environment installation and data download"
   ]
  },
  {
   "cell_type": "markdown",
   "metadata": {},
   "source": [
    " !pip3 -qq install torch==1.1\n",
    "\n",
    "!pip -qq install nltk==3.2.5\n",
    "\n",
    "!pip -qq install gensim\n",
    "\n",
    "!pip -qq install bokeh==3.2.0\n",
    "\n",
    "!wget -O quora.zip -qq --no-check-certificate \"https://drive.google.com/uc?export=download&id=1ERtxpdWOgGQ3HOigqAMHTJjmOE_tWvoF\"\n",
    "\n",
    "!unzip -o quora.zip"
   ]
  },
  {
   "cell_type": "code",
   "execution_count": 1,
   "metadata": {
    "ExecuteTime": {
     "end_time": "2025-01-21T11:27:21.875810Z",
     "start_time": "2025-01-21T11:27:20.774497Z"
    },
    "id": "9vacV4BIFI8l"
   },
   "outputs": [],
   "source": [
    "import os\n",
    "\n",
    "import nltk\n",
    "import time\n",
    "import math\n",
    "import numpy as np\n",
    "import matplotlib.pyplot as plt\n",
    "\n",
    "import torch\n",
    "import torch.autograd as autograd\n",
    "import torch.nn as nn\n",
    "import torch.nn.functional as F\n",
    "import torch.optim as optim\n",
    "\n",
    "from IPython.display import clear_output\n",
    "%matplotlib inline\n",
    "np.random.seed(42)\n",
    "\n",
    "import pandas as pd\n",
    "from nltk.tokenize import word_tokenize\n",
    "from tqdm import tqdm\n"
   ]
  },
  {
   "cell_type": "code",
   "execution_count": 2,
   "metadata": {
    "ExecuteTime": {
     "end_time": "2025-01-21T11:27:24.529634Z",
     "start_time": "2025-01-21T11:27:24.206834Z"
    }
   },
   "outputs": [
    {
     "name": "stderr",
     "output_type": "stream",
     "text": [
      "[nltk_data] Downloading package punkt_tab to /home/cai/Task/CUHKSZ/MSc\n",
      "[nltk_data]     Data Science/Year 1/Term 2/MDS5110-Natural Language\n",
      "[nltk_data]     Processing/Assignment 1...\n",
      "[nltk_data]   Package punkt_tab is already up-to-date!\n"
     ]
    },
    {
     "data": {
      "text/plain": [
       "FileSystemPathPointer('/home/cai/Task/CUHKSZ/MSc Data Science/Year 1/Term 2/MDS5110-Natural Language Processing/Assignment 1/tokenizers/punkt')"
      ]
     },
     "execution_count": 2,
     "metadata": {},
     "output_type": "execute_result"
    }
   ],
   "source": [
    "nltk.download('punkt_tab', download_dir='/home/cai/Task/CUHKSZ/MSc Data Science/Year 1/Term 2/MDS5110-Natural Language Processing/Assignment 1')\n",
    "nltk.data.path.append('/home/cai/Task/CUHKSZ/MSc Data Science/Year 1/Term 2/MDS5110-Natural Language Processing/Assignment 1')\n",
    "\n",
    "nltk.data.find('tokenizers/punkt')"
   ]
  },
  {
   "cell_type": "markdown",
   "metadata": {
    "id": "wgSYdy30O_UZ"
   },
   "source": [
    "1. Tokenize and lower-case texts."
   ]
  },
  {
   "cell_type": "code",
   "execution_count": 3,
   "metadata": {
    "ExecuteTime": {
     "end_time": "2025-01-21T11:27:30.255853Z",
     "start_time": "2025-01-21T11:27:27.918999Z"
    },
    "id": "t27TcJKJO-ry"
   },
   "outputs": [
    {
     "name": "stdout",
     "output_type": "stream",
     "text": [
      "50000\n"
     ]
    },
    {
     "name": "stderr",
     "output_type": "stream",
     "text": [
      "100%|██████████| 50000/50000 [00:01<00:00, 28476.27it/s]\n"
     ]
    }
   ],
   "source": [
    "quora_data = pd.read_csv('train.csv')\n",
    "\n",
    "quora_data.question1 = quora_data.question1.replace(np.nan, '', regex=True)\n",
    "quora_data.question2 = quora_data.question2.replace(np.nan, '', regex=True)\n",
    "\n",
    "texts = list(pd.concat([quora_data.question1, quora_data.question2]).unique())\n",
    "texts = texts[:50000] # Accelerated operation\n",
    "print(len(texts))\n",
    "\n",
    "tokenized_texts = [word_tokenize(text.lower()) for text in tqdm(texts)]\n",
    "\n",
    "assert len(tokenized_texts) == len(texts)\n",
    "assert isinstance(tokenized_texts[0], list)\n",
    "assert isinstance(tokenized_texts[0][0], str)"
   ]
  },
  {
   "cell_type": "code",
   "execution_count": 4,
   "metadata": {
    "ExecuteTime": {
     "end_time": "2025-01-21T11:27:31.781043Z",
     "start_time": "2025-01-21T11:27:31.776664Z"
    },
    "id": "C9K7y4mD2UK2"
   },
   "outputs": [
    {
     "data": {
      "text/plain": [
       "['what',\n",
       " 'is',\n",
       " 'the',\n",
       " 'step',\n",
       " 'by',\n",
       " 'step',\n",
       " 'guide',\n",
       " 'to',\n",
       " 'invest',\n",
       " 'in',\n",
       " 'share',\n",
       " 'market',\n",
       " 'in',\n",
       " 'india',\n",
       " '?']"
      ]
     },
     "execution_count": 4,
     "metadata": {},
     "output_type": "execute_result"
    }
   ],
   "source": [
    "tokenized_texts[0]"
   ]
  },
  {
   "cell_type": "markdown",
   "metadata": {
    "id": "QYoj91iDDDfT"
   },
   "source": [
    "2. Collect the indices of the words:"
   ]
  },
  {
   "cell_type": "code",
   "execution_count": 5,
   "metadata": {
    "ExecuteTime": {
     "end_time": "2025-01-21T11:27:35.012765Z",
     "start_time": "2025-01-21T11:27:34.944011Z"
    },
    "id": "5PL471pGjuVN"
   },
   "outputs": [
    {
     "name": "stdout",
     "output_type": "stream",
     "text": [
      "Vocabulary size: 7226\n",
      "Tokens count: 623563\n",
      "Unknown tokens appeared: 35607\n",
      "Most freq words: ['?', 'the', 'what', 'is', 'how', 'i', 'a', 'to', 'in', 'do', 'of', 'are', 'and', 'can', 'for', ',', 'you', 'why', 'it', 'best']\n"
     ]
    }
   ],
   "source": [
    "from collections import Counter\n",
    "\n",
    "MIN_COUNT = 5\n",
    "\n",
    "words_counter = Counter(token for tokens in tokenized_texts for token in tokens)\n",
    "word2index = {\n",
    "    '<unk>': 0\n",
    "}\n",
    "\n",
    "for word, count in words_counter.most_common():\n",
    "    if count < MIN_COUNT:\n",
    "        break\n",
    "\n",
    "    word2index[word] = len(word2index)\n",
    "\n",
    "index2word = [word for word, _ in sorted(word2index.items(), key=lambda x: x[1])]\n",
    "\n",
    "print('Vocabulary size:', len(word2index))\n",
    "print('Tokens count:', sum(len(tokens) for tokens in tokenized_texts))\n",
    "print('Unknown tokens appeared:', sum(1 for tokens in tokenized_texts for token in tokens if token not in word2index))\n",
    "print('Most freq words:', index2word[1:21])"
   ]
  },
  {
   "cell_type": "markdown",
   "metadata": {
    "id": "jHEQOelqQwqP"
   },
   "source": [
    "3. collect the context words\n",
    "\n",
    "First of all, we need to collect all the contexts from our corpus."
   ]
  },
  {
   "cell_type": "code",
   "execution_count": 6,
   "metadata": {
    "ExecuteTime": {
     "end_time": "2025-01-21T11:27:39.415410Z",
     "start_time": "2025-01-21T11:27:38.437507Z"
    },
    "id": "ocrsXgaynYPG"
   },
   "outputs": [],
   "source": [
    "def build_contexts(tokenized_texts, window_size):\n",
    "    contexts = []\n",
    "    for tokens in tokenized_texts:\n",
    "        for i in range(len(tokens)):\n",
    "            central_word = tokens[i]\n",
    "            context = [tokens[i + delta] for delta in range(-window_size, window_size + 1)\n",
    "                       if delta != 0 and i + delta >= 0 and i + delta < len(tokens)]\n",
    "\n",
    "            contexts.append((central_word, context))\n",
    "\n",
    "    return contexts\n",
    "\n",
    "contexts = build_contexts(tokenized_texts, window_size=2)"
   ]
  },
  {
   "cell_type": "markdown",
   "metadata": {
    "id": "8o_ePiZ7wfpT"
   },
   "source": [
    "Check, what you got:"
   ]
  },
  {
   "cell_type": "code",
   "execution_count": 7,
   "metadata": {
    "ExecuteTime": {
     "end_time": "2025-01-21T11:27:42.167517Z",
     "start_time": "2025-01-21T11:27:42.163978Z"
    },
    "id": "KyQNK-9SBdb9"
   },
   "outputs": [
    {
     "data": {
      "text/plain": [
       "[('what', ['is', 'the']),\n",
       " ('is', ['what', 'the', 'step']),\n",
       " ('the', ['what', 'is', 'step', 'by']),\n",
       " ('step', ['is', 'the', 'by', 'step']),\n",
       " ('by', ['the', 'step', 'step', 'guide'])]"
      ]
     },
     "execution_count": 7,
     "metadata": {},
     "output_type": "execute_result"
    }
   ],
   "source": [
    "contexts[:5]"
   ]
  },
  {
   "cell_type": "markdown",
   "metadata": {
    "id": "pbQKln_6yC4l"
   },
   "source": [
    "4. Convert to indices\n",
    "\n",
    "Let's convert words to indices:"
   ]
  },
  {
   "cell_type": "code",
   "execution_count": 8,
   "metadata": {
    "ExecuteTime": {
     "end_time": "2025-01-21T11:27:45.701011Z",
     "start_time": "2025-01-21T11:27:45.132452Z"
    },
    "id": "hOPRlKlLvUBA"
   },
   "outputs": [],
   "source": [
    "contexts = [(word2index.get(central_word, 0), [word2index.get(word, 0) for word in context])\n",
    "            for central_word, context in contexts]"
   ]
  },
  {
   "cell_type": "markdown",
   "metadata": {
    "id": "XGfhLR6x8D3r"
   },
   "source": [
    "### **1.2 Continuous Bag of Words (CBoW) Word2vec**"
   ]
  },
  {
   "cell_type": "markdown",
   "metadata": {
    "id": "3UuVr2IsaYhX"
   },
   "source": [
    "We have learn skip-gram model in tutorial. Now, we will explore another popular Word2Vec paradigm called Continuous Bag of Words (CBoW). *CBoW* offers faster processing and slightly better accuracy for common words compared to the *Skip-Gram*, which is more effective with rare words.\n",
    "\n",
    "**CBoW Structure**\n",
    "\n",
    "Below is the CBoW model architecture:\n",
    "\n",
    "![](https://i.ibb.co/StXTMFH/CBOW.png)\n",
    "\n",
    "In CBoW, the goal is to predict a target word from its surrounding context, represented by the sum of context vectors.\n",
    "\n",
    "We will leverage our understanding from the *Skip-Gram* model to implement *CBoW*."
   ]
  },
  {
   "cell_type": "markdown",
   "metadata": {
    "id": "5ENsl-sbox1m"
   },
   "source": [
    "1. **Batches Generations**\n",
    "**<font color=\"red\">[Task]</font>** : Implement the batch generator.\n",
    "\n",
    "**Hint**: The generator should produce a input matrix `(batch_size, 2 * window_size)` containing context word indices and a target matrix `(batch_size)` with central word indices."
   ]
  },
  {
   "cell_type": "code",
   "execution_count": 9,
   "metadata": {
    "ExecuteTime": {
     "end_time": "2025-01-21T11:27:50.990017Z",
     "start_time": "2025-01-21T11:27:50.986397Z"
    },
    "id": "VNaP0uaU7T2-"
   },
   "outputs": [],
   "source": [
    "def make_cbow_batches_iter(contexts, window_size, batch_size):\n",
    "\n",
    "    central_words = np.array([word for word, context in contexts if len(context) == 2 * window_size and word != 0])\n",
    "    contexts = np.array([context for word, context in contexts if len(context) == 2 * window_size and word != 0])\n",
    "\n",
    "\n",
    "    batches_count = int(math.ceil(len(contexts) / batch_size))\n",
    "\n",
    "    print('Initializing batches generator with {} batches per epoch'.format(batches_count))\n",
    "\n",
    "    indices = np.arange(len(contexts))\n",
    "    np.random.shuffle(indices)\n",
    "\n",
    "    for i in range(batches_count):\n",
    "      batch_begin, batch_end = i * batch_size, min((i + 1) * batch_size, len(contexts))\n",
    "      batch_indices = indices[batch_begin: batch_end]\n",
    "      \n",
    "      batch_contexts = contexts[batch_indices]\n",
    "      batch_targets = central_words[batch_indices]\n",
    "      \n",
    "      yield {\n",
    "            'tokens': torch.LongTensor(batch_contexts),\n",
    "            'labels': torch.LongTensor(batch_targets)\n",
    "        }"
   ]
  },
  {
   "cell_type": "markdown",
   "metadata": {
    "id": "wBF7xiik7ZaN"
   },
   "source": [
    "Check it:"
   ]
  },
  {
   "cell_type": "code",
   "execution_count": 10,
   "metadata": {
    "ExecuteTime": {
     "end_time": "2025-01-21T11:27:54.680143Z",
     "start_time": "2025-01-21T11:27:54.552883Z"
    },
    "colab": {
     "base_uri": "https://localhost:8080/"
    },
    "id": "0IVrQl8S4L9j",
    "outputId": "f5546c81-358e-4e7d-d6ba-37fe38aac30d"
   },
   "outputs": [
    {
     "name": "stdout",
     "output_type": "stream",
     "text": [
      "Initializing batches generator with 12380 batches per epoch\n"
     ]
    }
   ],
   "source": [
    "window_size = 2\n",
    "batch_size = 32\n",
    "\n",
    "batch = next(make_cbow_batches_iter(contexts, window_size=window_size, batch_size=batch_size))\n",
    "\n",
    "assert isinstance(batch, dict)\n",
    "assert 'labels' in batch and 'tokens' in batch\n",
    "\n",
    "assert isinstance(batch['tokens'], torch.LongTensor)\n",
    "assert isinstance(batch['labels'], torch.LongTensor)\n",
    "\n",
    "assert batch['tokens'].shape == (batch_size, 2 * window_size)\n",
    "assert batch['labels'].shape == (batch_size,)"
   ]
  },
  {
   "cell_type": "markdown",
   "metadata": {
    "id": "nbKbZ_4E7T3U"
   },
   "source": [
    "2. **Model**\n",
    "**<font color=\"red\">[Task]</font>**: Build the `CBoWModel`.\n",
    "\n",
    "**Hint**: You need to implement the `forward` method based on the CBoW architecture. The context embedding is represented as the average of their context embeddings."
   ]
  },
  {
   "cell_type": "code",
   "execution_count": 11,
   "metadata": {
    "ExecuteTime": {
     "end_time": "2025-01-21T11:27:57.610753Z",
     "start_time": "2025-01-21T11:27:57.605813Z"
    },
    "id": "Mkawxwe77T3V"
   },
   "outputs": [],
   "source": [
    "class CBoWModel(nn.Module):\n",
    "    def __init__(self, vocab_size, embedding_dim):\n",
    "        super().__init__()\n",
    "        self.embeddings = nn.Embedding(vocab_size, embedding_dim)\n",
    "        self.out_layer = nn.Linear(embedding_dim, vocab_size)\n",
    "\n",
    "    def forward(self, inputs):\n",
    "        context_embeddings = self.embeddings(inputs)\n",
    "        context_avg = torch.mean(context_embeddings, dim=1)\n",
    "        output = self.out_layer(context_avg)\n",
    "        \n",
    "        return output"
   ]
  },
  {
   "cell_type": "markdown",
   "metadata": {
    "id": "DHhTDxya7a3S"
   },
   "source": [
    "Check it:"
   ]
  },
  {
   "cell_type": "code",
   "execution_count": 12,
   "metadata": {
    "ExecuteTime": {
     "end_time": "2025-01-21T11:28:00.552341Z",
     "start_time": "2025-01-21T11:28:00.388547Z"
    },
    "id": "nh_mNh__6lG2"
   },
   "outputs": [],
   "source": [
    "model = CBoWModel(vocab_size=len(word2index), embedding_dim=32).cuda()\n",
    "\n",
    "outputs = model(batch['tokens'].cuda())\n",
    "\n",
    "assert isinstance(outputs, torch.cuda.FloatTensor)\n",
    "assert outputs.shape == (batch_size, len(word2index))"
   ]
  },
  {
   "cell_type": "markdown",
   "metadata": {
    "id": "hmn56yki7T3a"
   },
   "source": [
    "3. **Training**\n",
    "**<font color=\"red\">[Task]</font>** : Train the CBoW.\n",
    "\n",
    "**Hint**: Consider referring to the training code of the previously mentioned *Skip-gram* model."
   ]
  },
  {
   "cell_type": "code",
   "execution_count": 13,
   "metadata": {
    "ExecuteTime": {
     "end_time": "2025-01-21T11:28:08.482258Z",
     "start_time": "2025-01-21T11:28:02.651723Z"
    },
    "id": "OzKLP9bs7T3b"
   },
   "outputs": [
    {
     "name": "stdout",
     "output_type": "stream",
     "text": [
      "Initializing batches generator with 3095 batches per epoch\n",
      "Epoch = 0, Step = 2999, Avg Loss = 6.4985, Time = 1.58s\n",
      "Initializing batches generator with 3095 batches per epoch\n",
      "Epoch = 1, Step = 2904, Avg Loss = 5.5577, Time = 1.23s\n",
      "Initializing batches generator with 3095 batches per epoch\n",
      "Epoch = 2, Step = 2809, Avg Loss = 5.2459, Time = 1.27s\n",
      "Initializing batches generator with 3095 batches per epoch\n",
      "Epoch = 3, Step = 2714, Avg Loss = 5.0518, Time = 1.29s\n"
     ]
    }
   ],
   "source": [
    "# Here are the hyperparameters you can adjust\n",
    "embedding_dim = 32\n",
    "learning_rate = 0.001\n",
    "epoch_num = 4\n",
    "batch_size = 128\n",
    "\n",
    "# Initialization Model\n",
    "model = CBoWModel(len(word2index),embedding_dim)\n",
    "# Getting model to GPU\n",
    "model.cuda()\n",
    "# Define the loss function\n",
    "criterion = nn.CrossEntropyLoss()\n",
    "# use Adam optimizer\n",
    "optimizer = optim.Adam(model.parameters(), lr=learning_rate)\n",
    "\n",
    "loss_every_nsteps = 3000\n",
    "total_loss = 0\n",
    "start_time = time.time()\n",
    "global_step = 0\n",
    "\n",
    "for ep in range(epoch_num):\n",
    "  for step, batch in enumerate(make_cbow_batches_iter(contexts, window_size=2, batch_size=batch_size)):\n",
    "      global_step += 1\n",
    "      \n",
    "      # move batch to GPU\n",
    "      inputs = batch['tokens'].cuda()\n",
    "      labels = batch['labels'].cuda()\n",
    "      \n",
    "      # zero the gradients\n",
    "      optimizer.zero_grad()\n",
    "      \n",
    "      # forward pass\n",
    "      outputs = model(inputs)\n",
    "      \n",
    "      # compute the loss\n",
    "      loss = criterion(outputs, labels)\n",
    "      \n",
    "      # backward pass and optimize\n",
    "      loss.backward()\n",
    "      optimizer.step()\n",
    "\n",
    "      total_loss += loss.item()\n",
    "\n",
    "      if global_step != 0 and global_step % loss_every_nsteps == 0:\n",
    "          print(\"Epoch = {}, Step = {}, Avg Loss = {:.4f}, Time = {:.2f}s\".format(ep, step, total_loss / loss_every_nsteps,\n",
    "                                                                      time.time() - start_time))\n",
    "          total_loss = 0\n",
    "          start_time = time.time()"
   ]
  },
  {
   "cell_type": "markdown",
   "metadata": {
    "id": "bcdVwk_gtiC8"
   },
   "source": [
    "**Obtaining word embeddings**\n",
    "\n",
    "Word embeddings are contained within the embeddings layer of the model. We just need to move them from the GPU to the CPU and convert them to a numpy array."
   ]
  },
  {
   "cell_type": "code",
   "execution_count": 14,
   "metadata": {
    "ExecuteTime": {
     "end_time": "2025-01-21T11:28:13.613259Z",
     "start_time": "2025-01-21T11:28:13.609201Z"
    },
    "id": "YRu-WeMbtivr"
   },
   "outputs": [],
   "source": [
    "embeddings = model.embeddings.weight.data.cpu().numpy()"
   ]
  },
  {
   "cell_type": "markdown",
   "metadata": {
    "id": "X-GyEW7s76-Q"
   },
   "source": [
    "**Testing Trained Word Embeddings**"
   ]
  },
  {
   "cell_type": "markdown",
   "metadata": {
    "id": "AqRo0WHOtrpu"
   },
   "source": [
    "Let's check how adequate are similarities that the model learnt."
   ]
  },
  {
   "cell_type": "code",
   "execution_count": 16,
   "metadata": {
    "ExecuteTime": {
     "end_time": "2025-01-21T11:28:27.073448Z",
     "start_time": "2025-01-21T11:28:27.065999Z"
    },
    "id": "mjZ4Ki8RtXZH"
   },
   "outputs": [
    {
     "data": {
      "text/plain": [
       "['my',\n",
       " 'skype',\n",
       " 'our',\n",
       " 'luther',\n",
       " 'jio',\n",
       " 'papua',\n",
       " 'swedish',\n",
       " 'volte',\n",
       " 'gene',\n",
       " 'easy']"
      ]
     },
     "execution_count": 16,
     "metadata": {},
     "output_type": "execute_result"
    }
   ],
   "source": [
    "from sklearn.metrics.pairwise import cosine_similarity\n",
    "\n",
    "def most_similar(embeddings, index2word, word2index, word):\n",
    "    word_emb = embeddings[word2index[word]]\n",
    "\n",
    "    similarities = cosine_similarity([word_emb], embeddings)[0]\n",
    "    top10 = np.argsort(similarities)[-10:]\n",
    "\n",
    "    return [index2word[index] for index in reversed(top10)]\n",
    "\n",
    "most_similar(embeddings, index2word, word2index, 'my')"
   ]
  },
  {
   "cell_type": "markdown",
   "metadata": {
    "id": "HQW4PBdF96xC"
   },
   "source": [
    "**Visualization of our embeddings**"
   ]
  },
  {
   "cell_type": "code",
   "execution_count": 17,
   "metadata": {
    "ExecuteTime": {
     "end_time": "2025-01-21T11:28:50.157314Z",
     "start_time": "2025-01-21T11:28:49.740311Z"
    },
    "id": "5utoAUjltQZ6"
   },
   "outputs": [
    {
     "name": "stdout",
     "output_type": "stream",
     "text": [
      "[t-SNE] Computing 91 nearest neighbors...\n",
      "[t-SNE] Indexed 100 samples in 0.000s...\n",
      "[t-SNE] Computed neighbors for 100 samples in 0.049s...\n",
      "[t-SNE] Computed conditional probabilities for sample 100 / 100\n",
      "[t-SNE] Mean sigma: 4.135942\n",
      "[t-SNE] KL divergence after 250 iterations with early exaggeration: 69.047462\n",
      "[t-SNE] KL divergence after 1000 iterations: 0.630234\n"
     ]
    },
    {
     "name": "stderr",
     "output_type": "stream",
     "text": [
      "/home/cai/anaconda3/envs/torch1/lib/python3.9/site-packages/sklearn/preprocessing/_data.py:258: UserWarning: Numerical issues were encountered when centering the data and might not be solved. Dataset may contain too large values. You may need to prescale your features.\n",
      "  warnings.warn(\n",
      "/home/cai/anaconda3/envs/torch1/lib/python3.9/site-packages/sklearn/preprocessing/_data.py:277: UserWarning: Numerical issues were encountered when scaling the data and might not be solved. The standard deviation of the data is probably very close to 0. \n",
      "  warnings.warn(\n"
     ]
    },
    {
     "data": {
      "text/html": [
       "    <style>\n",
       "        .bk-notebook-logo {\n",
       "            display: block;\n",
       "            width: 20px;\n",
       "            height: 20px;\n",
       "            background-image: url(data:image/png;base64,iVBORw0KGgoAAAANSUhEUgAAABQAAAAUCAYAAACNiR0NAAAABHNCSVQICAgIfAhkiAAAAAlwSFlzAAALEgAACxIB0t1+/AAAABx0RVh0U29mdHdhcmUAQWRvYmUgRmlyZXdvcmtzIENTNui8sowAAAOkSURBVDiNjZRtaJVlGMd/1/08zzln5zjP1LWcU9N0NkN8m2CYjpgQYQXqSs0I84OLIC0hkEKoPtiH3gmKoiJDU7QpLgoLjLIQCpEsNJ1vqUOdO7ppbuec5+V+rj4ctwzd8IIbbi6u+8f1539dt3A78eXC7QizUF7gyV1fD1Yqg4JWz84yffhm0qkFqBogB9rM8tZdtwVsPUhWhGcFJngGeWrPzHm5oaMmkfEg1usvLFyc8jLRqDOMru7AyC8saQr7GG7f5fvDeH7Ej8CM66nIF+8yngt6HWaKh7k49Soy9nXurCi1o3qUbS3zWfrYeQDTB/Qj6kX6Ybhw4B+bOYoLKCC9H3Nu/leUTZ1JdRWkkn2ldcCamzrcf47KKXdAJllSlxAOkRgyHsGC/zRday5Qld9DyoM4/q/rUoy/CXh3jzOu3bHUVZeU+DEn8FInkPBFlu3+nW3Nw0mk6vCDiWg8CeJaxEwuHS3+z5RgY+YBR6V1Z1nxSOfoaPa4LASWxxdNp+VWTk7+4vzaou8v8PN+xo+KY2xsw6une2frhw05CTYOmQvsEhjhWjn0bmXPjpE1+kplmmkP3suftwTubK9Vq22qKmrBhpY4jvd5afdRA3wGjFAgcnTK2s4hY0/GPNIb0nErGMCRxWOOX64Z8RAC4oCXdklmEvcL8o0BfkNK4lUg9HTl+oPlQxdNo3Mg4Nv175e/1LDGzZen30MEjRUtmXSfiTVu1kK8W4txyV6BMKlbgk3lMwYCiusNy9fVfvvwMxv8Ynl6vxoByANLTWplvuj/nF9m2+PDtt1eiHPBr1oIfhCChQMBw6Aw0UulqTKZdfVvfG7VcfIqLG9bcldL/+pdWTLxLUy8Qq38heUIjh4XlzZxzQm19lLFlr8vdQ97rjZVOLf8nclzckbcD4wxXMidpX30sFd37Fv/GtwwhzhxGVAprjbg0gCAEeIgwCZyTV2Z1REEW8O4py0wsjeloKoMr6iCY6dP92H6Vw/oTyICIthibxjm/DfN9lVz8IqtqKYLUXfoKVMVQVVJOElGjrnnUt9T9wbgp8AyYKaGlqingHZU/uG2NTZSVqwHQTWkx9hxjkpWDaCg6Ckj5qebgBVbT3V3NNXMSiWSDdGV3hrtzla7J+duwPOToIg42ChPQOQjspnSlp1V+Gjdged7+8UN5CRAV7a5EdFNwCjEaBR27b3W890TE7g24NAP/mMDXRWrGoFPQI9ls/MWO2dWFAar/xcOIImbbpA3zgAAAABJRU5ErkJggg==);\n",
       "        }\n",
       "    </style>\n",
       "    <div>\n",
       "        <a href=\"https://bokeh.org\" target=\"_blank\" class=\"bk-notebook-logo\"></a>\n",
       "        <span id=\"ec7d0af8-5c88-45ad-91cd-e2d6d651dcdc\">Loading BokehJS ...</span>\n",
       "    </div>\n"
      ]
     },
     "metadata": {},
     "output_type": "display_data"
    },
    {
     "data": {
      "application/javascript": "'use strict';\n(function(root) {\n  function now() {\n    return new Date();\n  }\n\n  const force = true;\n\n  if (typeof root._bokeh_onload_callbacks === \"undefined\" || force === true) {\n    root._bokeh_onload_callbacks = [];\n    root._bokeh_is_loading = undefined;\n  }\n\nconst JS_MIME_TYPE = 'application/javascript';\n  const HTML_MIME_TYPE = 'text/html';\n  const EXEC_MIME_TYPE = 'application/vnd.bokehjs_exec.v0+json';\n  const CLASS_NAME = 'output_bokeh rendered_html';\n\n  /**\n   * Render data to the DOM node\n   */\n  function render(props, node) {\n    const script = document.createElement(\"script\");\n    node.appendChild(script);\n  }\n\n  /**\n   * Handle when an output is cleared or removed\n   */\n  function handleClearOutput(event, handle) {\n    function drop(id) {\n      const view = Bokeh.index.get_by_id(id)\n      if (view != null) {\n        view.model.document.clear()\n        Bokeh.index.delete(view)\n      }\n    }\n\n    const cell = handle.cell;\n\n    const id = cell.output_area._bokeh_element_id;\n    const server_id = cell.output_area._bokeh_server_id;\n\n    // Clean up Bokeh references\n    if (id != null) {\n      drop(id)\n    }\n\n    if (server_id !== undefined) {\n      // Clean up Bokeh references\n      const cmd_clean = \"from bokeh.io.state import curstate; print(curstate().uuid_to_server['\" + server_id + \"'].get_sessions()[0].document.roots[0]._id)\";\n      cell.notebook.kernel.execute(cmd_clean, {\n        iopub: {\n          output: function(msg) {\n            const id = msg.content.text.trim()\n            drop(id)\n          }\n        }\n      });\n      // Destroy server and session\n      const cmd_destroy = \"import bokeh.io.notebook as ion; ion.destroy_server('\" + server_id + \"')\";\n      cell.notebook.kernel.execute(cmd_destroy);\n    }\n  }\n\n  /**\n   * Handle when a new output is added\n   */\n  function handleAddOutput(event, handle) {\n    const output_area = handle.output_area;\n    const output = handle.output;\n\n    // limit handleAddOutput to display_data with EXEC_MIME_TYPE content only\n    if ((output.output_type != \"display_data\") || (!Object.prototype.hasOwnProperty.call(output.data, EXEC_MIME_TYPE))) {\n      return\n    }\n\n    const toinsert = output_area.element.find(\".\" + CLASS_NAME.split(' ')[0]);\n\n    if (output.metadata[EXEC_MIME_TYPE][\"id\"] !== undefined) {\n      toinsert[toinsert.length - 1].firstChild.textContent = output.data[JS_MIME_TYPE];\n      // store reference to embed id on output_area\n      output_area._bokeh_element_id = output.metadata[EXEC_MIME_TYPE][\"id\"];\n    }\n    if (output.metadata[EXEC_MIME_TYPE][\"server_id\"] !== undefined) {\n      const bk_div = document.createElement(\"div\");\n      bk_div.innerHTML = output.data[HTML_MIME_TYPE];\n      const script_attrs = bk_div.children[0].attributes;\n      for (let i = 0; i < script_attrs.length; i++) {\n        toinsert[toinsert.length - 1].firstChild.setAttribute(script_attrs[i].name, script_attrs[i].value);\n        toinsert[toinsert.length - 1].firstChild.textContent = bk_div.children[0].textContent\n      }\n      // store reference to server id on output_area\n      output_area._bokeh_server_id = output.metadata[EXEC_MIME_TYPE][\"server_id\"];\n    }\n  }\n\n  function register_renderer(events, OutputArea) {\n\n    function append_mime(data, metadata, element) {\n      // create a DOM node to render to\n      const toinsert = this.create_output_subarea(\n        metadata,\n        CLASS_NAME,\n        EXEC_MIME_TYPE\n      );\n      this.keyboard_manager.register_events(toinsert);\n      // Render to node\n      const props = {data: data, metadata: metadata[EXEC_MIME_TYPE]};\n      render(props, toinsert[toinsert.length - 1]);\n      element.append(toinsert);\n      return toinsert\n    }\n\n    /* Handle when an output is cleared or removed */\n    events.on('clear_output.CodeCell', handleClearOutput);\n    events.on('delete.Cell', handleClearOutput);\n\n    /* Handle when a new output is added */\n    events.on('output_added.OutputArea', handleAddOutput);\n\n    /**\n     * Register the mime type and append_mime function with output_area\n     */\n    OutputArea.prototype.register_mime_type(EXEC_MIME_TYPE, append_mime, {\n      /* Is output safe? */\n      safe: true,\n      /* Index of renderer in `output_area.display_order` */\n      index: 0\n    });\n  }\n\n  // register the mime type if in Jupyter Notebook environment and previously unregistered\n  if (root.Jupyter !== undefined) {\n    const events = require('base/js/events');\n    const OutputArea = require('notebook/js/outputarea').OutputArea;\n\n    if (OutputArea.prototype.mime_types().indexOf(EXEC_MIME_TYPE) == -1) {\n      register_renderer(events, OutputArea);\n    }\n  }\n  if (typeof (root._bokeh_timeout) === \"undefined\" || force === true) {\n    root._bokeh_timeout = Date.now() + 5000;\n    root._bokeh_failed_load = false;\n  }\n\n  const NB_LOAD_WARNING = {'data': {'text/html':\n     \"<div style='background-color: #fdd'>\\n\"+\n     \"<p>\\n\"+\n     \"BokehJS does not appear to have successfully loaded. If loading BokehJS from CDN, this \\n\"+\n     \"may be due to a slow or bad network connection. Possible fixes:\\n\"+\n     \"</p>\\n\"+\n     \"<ul>\\n\"+\n     \"<li>re-rerun `output_notebook()` to attempt to load from CDN again, or</li>\\n\"+\n     \"<li>use INLINE resources instead, as so:</li>\\n\"+\n     \"</ul>\\n\"+\n     \"<code>\\n\"+\n     \"from bokeh.resources import INLINE\\n\"+\n     \"output_notebook(resources=INLINE)\\n\"+\n     \"</code>\\n\"+\n     \"</div>\"}};\n\n  function display_loaded(error = null) {\n    const el = document.getElementById(\"ec7d0af8-5c88-45ad-91cd-e2d6d651dcdc\");\n    if (el != null) {\n      const html = (() => {\n        if (typeof root.Bokeh === \"undefined\") {\n          if (error == null) {\n            return \"BokehJS is loading ...\";\n          } else {\n            return \"BokehJS failed to load.\";\n          }\n        } else {\n          const prefix = `BokehJS ${root.Bokeh.version}`;\n          if (error == null) {\n            return `${prefix} successfully loaded.`;\n          } else {\n            return `${prefix} <b>encountered errors</b> while loading and may not function as expected.`;\n          }\n        }\n      })();\n      el.innerHTML = html;\n\n      if (error != null) {\n        const wrapper = document.createElement(\"div\");\n        wrapper.style.overflow = \"auto\";\n        wrapper.style.height = \"5em\";\n        wrapper.style.resize = \"vertical\";\n        const content = document.createElement(\"div\");\n        content.style.fontFamily = \"monospace\";\n        content.style.whiteSpace = \"pre-wrap\";\n        content.style.backgroundColor = \"rgb(255, 221, 221)\";\n        content.textContent = error.stack ?? error.toString();\n        wrapper.append(content);\n        el.append(wrapper);\n      }\n    } else if (Date.now() < root._bokeh_timeout) {\n      setTimeout(() => display_loaded(error), 100);\n    }\n  }\n\n  function run_callbacks() {\n    try {\n      root._bokeh_onload_callbacks.forEach(function(callback) {\n        if (callback != null)\n          callback();\n      });\n    } finally {\n      delete root._bokeh_onload_callbacks\n    }\n    console.debug(\"Bokeh: all callbacks have finished\");\n  }\n\n  function load_libs(css_urls, js_urls, callback) {\n    if (css_urls == null) css_urls = [];\n    if (js_urls == null) js_urls = [];\n\n    root._bokeh_onload_callbacks.push(callback);\n    if (root._bokeh_is_loading > 0) {\n      console.debug(\"Bokeh: BokehJS is being loaded, scheduling callback at\", now());\n      return null;\n    }\n    if (js_urls == null || js_urls.length === 0) {\n      run_callbacks();\n      return null;\n    }\n    console.debug(\"Bokeh: BokehJS not loaded, scheduling load and callback at\", now());\n    root._bokeh_is_loading = css_urls.length + js_urls.length;\n\n    function on_load() {\n      root._bokeh_is_loading--;\n      if (root._bokeh_is_loading === 0) {\n        console.debug(\"Bokeh: all BokehJS libraries/stylesheets loaded\");\n        run_callbacks()\n      }\n    }\n\n    function on_error(url) {\n      console.error(\"failed to load \" + url);\n    }\n\n    for (let i = 0; i < css_urls.length; i++) {\n      const url = css_urls[i];\n      const element = document.createElement(\"link\");\n      element.onload = on_load;\n      element.onerror = on_error.bind(null, url);\n      element.rel = \"stylesheet\";\n      element.type = \"text/css\";\n      element.href = url;\n      console.debug(\"Bokeh: injecting link tag for BokehJS stylesheet: \", url);\n      document.body.appendChild(element);\n    }\n\n    for (let i = 0; i < js_urls.length; i++) {\n      const url = js_urls[i];\n      const element = document.createElement('script');\n      element.onload = on_load;\n      element.onerror = on_error.bind(null, url);\n      element.async = false;\n      element.src = url;\n      console.debug(\"Bokeh: injecting script tag for BokehJS library: \", url);\n      document.head.appendChild(element);\n    }\n  };\n\n  function inject_raw_css(css) {\n    const element = document.createElement(\"style\");\n    element.appendChild(document.createTextNode(css));\n    document.body.appendChild(element);\n  }\n\n  const js_urls = [\"https://cdn.bokeh.org/bokeh/release/bokeh-3.4.3.min.js\", \"https://cdn.bokeh.org/bokeh/release/bokeh-gl-3.4.3.min.js\", \"https://cdn.bokeh.org/bokeh/release/bokeh-widgets-3.4.3.min.js\", \"https://cdn.bokeh.org/bokeh/release/bokeh-tables-3.4.3.min.js\", \"https://cdn.bokeh.org/bokeh/release/bokeh-mathjax-3.4.3.min.js\"];\n  const css_urls = [];\n\n  const inline_js = [    function(Bokeh) {\n      Bokeh.set_log_level(\"info\");\n    },\nfunction(Bokeh) {\n    }\n  ];\n\n  function run_inline_js() {\n    if (root.Bokeh !== undefined || force === true) {\n      try {\n            for (let i = 0; i < inline_js.length; i++) {\n      inline_js[i].call(root, root.Bokeh);\n    }\n\n      } catch (error) {display_loaded(error);throw error;\n      }if (force === true) {\n        display_loaded();\n      }} else if (Date.now() < root._bokeh_timeout) {\n      setTimeout(run_inline_js, 100);\n    } else if (!root._bokeh_failed_load) {\n      console.log(\"Bokeh: BokehJS failed to load within specified timeout.\");\n      root._bokeh_failed_load = true;\n    } else if (force !== true) {\n      const cell = $(document.getElementById(\"ec7d0af8-5c88-45ad-91cd-e2d6d651dcdc\")).parents('.cell').data().cell;\n      cell.output_area.append_execute_result(NB_LOAD_WARNING)\n    }\n  }\n\n  if (root._bokeh_is_loading === 0) {\n    console.debug(\"Bokeh: BokehJS loaded, going straight to plotting\");\n    run_inline_js();\n  } else {\n    load_libs(css_urls, js_urls, function() {\n      console.debug(\"Bokeh: BokehJS plotting callback run at\", now());\n      run_inline_js();\n    });\n  }\n}(window));",
      "application/vnd.bokehjs_load.v0+json": ""
     },
     "metadata": {},
     "output_type": "display_data"
    },
    {
     "data": {
      "text/html": [
       "\n",
       "  <div id=\"f2f9da7f-67ed-4c83-8205-c3d98de76b01\" data-root-id=\"p1004\" style=\"display: contents;\"></div>\n"
      ]
     },
     "metadata": {},
     "output_type": "display_data"
    },
    {
     "data": {
      "application/javascript": "(function(root) {\n  function embed_document(root) {\n  const docs_json = {\"7514f3a4-4011-4377-a60b-ee5f70b3d41a\":{\"version\":\"3.4.3\",\"title\":\"Bokeh Application\",\"roots\":[{\"type\":\"object\",\"name\":\"Figure\",\"id\":\"p1004\",\"attributes\":{\"height\":400,\"x_range\":{\"type\":\"object\",\"name\":\"DataRange1d\",\"id\":\"p1005\"},\"y_range\":{\"type\":\"object\",\"name\":\"DataRange1d\",\"id\":\"p1006\"},\"x_scale\":{\"type\":\"object\",\"name\":\"LinearScale\",\"id\":\"p1013\"},\"y_scale\":{\"type\":\"object\",\"name\":\"LinearScale\",\"id\":\"p1014\"},\"title\":{\"type\":\"object\",\"name\":\"Title\",\"id\":\"p1011\",\"attributes\":{\"text_color\":\"#E0E0E0\",\"text_font\":\"Helvetica\",\"text_font_size\":\"1.15em\"}},\"outline_line_color\":\"#E0E0E0\",\"outline_line_alpha\":0.25,\"renderers\":[{\"type\":\"object\",\"name\":\"GlyphRenderer\",\"id\":\"p1042\",\"attributes\":{\"data_source\":{\"type\":\"object\",\"name\":\"ColumnDataSource\",\"id\":\"p1001\",\"attributes\":{\"selected\":{\"type\":\"object\",\"name\":\"Selection\",\"id\":\"p1002\",\"attributes\":{\"indices\":[],\"line_indices\":[]}},\"selection_policy\":{\"type\":\"object\",\"name\":\"UnionRenderers\",\"id\":\"p1003\"},\"data\":{\"type\":\"map\",\"entries\":[[\"x\",{\"type\":\"ndarray\",\"array\":{\"type\":\"bytes\",\"data\":\"PVgAQNhu4j+ZkdI/DAfav66jlz/sDPC/FG0IwM34AT+KTqq+D0JSvzbYTL4zveS/V3n9PpK4Rb8xg2y/IhirP5H/2L92o8A/NZw0P0+GZ78/ng5ABfNWv+ZUXb4g3Jg+Szy9P0idbj/gq0I9o/RPv+zX/r0LU4s/PLG1v4KTZT8aorw/XGZEv2R4AL+5uAbAtTvRvUtb6z/RTLM/nJCQP3+El7+SxrQ+xzCpvSg7db4OjA+/RUOgv5+tFb8uA6U9LU73vpNUpz8iXbi/Pko0v9qTxj0A6cE+cmdkv6xPET+4KSU/XlyWO2wRJr880na/9YvKv59lcT8Lj5C/ROLkvm8JUD0G/9i+eSdXv3oANr4rd5W+B27Qv/s0qD7ChIE/PAamPw3o1D45lZq+KN2OP/z+i79DWiO/lRQyv7avKz8/cJQ/mm8qviZzbj+VpWs/3s57PjVDHT8JpYq/eJN9PrHoyD8ku0E/vAsYvqbXEL+Wftk9psgLv5fuLD4z42g9t1LuPhUd3L7QILQ+8i/dPg==\"},\"shape\":[100],\"dtype\":\"float32\",\"order\":\"little\"}],[\"y\",{\"type\":\"ndarray\",\"array\":{\"type\":\"bytes\",\"data\":\"PaZaP+uIhz7tJUO/i81dvZeMKL/2O5U/YIIkv2YC5j/gedC/ZR7XP1tIAMDn+wk+T8aWvxJz/j+kbXG/HIl9P5O1kT8t7bu+ndeTPxEpCMAqW4w9z/qrP2GKR78Gf4e/NgIyvwtKOr+liARAUaXBvllwn79mc+q/cuqxvfTdmr51dHw/fR0OQJTIAr+UnyW/bJ+lv4znOj4p8lU+xu0lvoz4d7/fOdc9y4wlP2paez+GlLG/FJA2P9HOtD+v36M9cwWxP8RA0j+JqrO/aRtBv6ObVb91YOW+6OcCPz//IT8axbg//rEiPhkTpj9Muca/9AuJP38J/b71E0o+q9LWvZw+OL+KtYK/FCJ0P9xXDT9qh6G/kMG4P07Zjz+aU6W/AbR0P3L497+8rLw+LwpbPii6cL5OpqE+kNmDPZrcQD3XoZo+Gn6SvpH3Nz8J3WY/S+h0P2m/6z6IKPu+RuZAvkPDp7/3v3++qFOpvuvSAD5BuZG/+nYWv7xhgr6Ribs+lt3Gv15HJ76p5bA+R+efPg==\"},\"shape\":[100],\"dtype\":\"float32\",\"order\":\"little\"}],[\"color\",[\"blue\",\"blue\",\"blue\",\"blue\",\"blue\",\"blue\",\"blue\",\"blue\",\"blue\",\"blue\",\"blue\",\"blue\",\"blue\",\"blue\",\"blue\",\"blue\",\"blue\",\"blue\",\"blue\",\"blue\",\"blue\",\"blue\",\"blue\",\"blue\",\"blue\",\"blue\",\"blue\",\"blue\",\"blue\",\"blue\",\"blue\",\"blue\",\"blue\",\"blue\",\"blue\",\"blue\",\"blue\",\"blue\",\"blue\",\"blue\",\"blue\",\"blue\",\"blue\",\"blue\",\"blue\",\"blue\",\"blue\",\"blue\",\"blue\",\"blue\",\"blue\",\"blue\",\"blue\",\"blue\",\"blue\",\"blue\",\"blue\",\"blue\",\"blue\",\"blue\",\"blue\",\"blue\",\"blue\",\"blue\",\"blue\",\"blue\",\"blue\",\"blue\",\"blue\",\"blue\",\"blue\",\"blue\",\"blue\",\"blue\",\"blue\",\"blue\",\"blue\",\"blue\",\"blue\",\"blue\",\"blue\",\"blue\",\"blue\",\"blue\",\"blue\",\"blue\",\"blue\",\"blue\",\"blue\",\"blue\",\"blue\",\"blue\",\"blue\",\"blue\",\"blue\",\"blue\",\"blue\",\"blue\",\"blue\",\"blue\"]],[\"token\",[\"?\",\"the\",\"what\",\"is\",\"how\",\"i\",\"a\",\"to\",\"in\",\"do\",\"of\",\"are\",\"and\",\"can\",\"for\",\",\",\"you\",\"why\",\"it\",\"best\",\"my\",\"does\",\"on\",\"or\",\"which\",\"if\",\"be\",\"have\",\"with\",\"some\",\"'s\",\"that\",\".\",\"should\",\"get\",\"an\",\"from\",\"your\",\"india\",\")\",\"(\",\"who\",\"when\",\"like\",\"at\",\"people\",\"will\",\"good\",\"would\",\"there\",\"between\",\"as\",\"about\",\"``\",\"''\",\"not\",\"n't\",\"one\",\"did\",\"most\",\"we\",\"where\",\"was\",\"any\",\"by\",\"make\",\"way\",\"so\",\"after\",\"they\",\"quora\",\"life\",\":\",\"difference\",\"me\",\"this\",\"has\",\"know\",\"learn\",\"time\",\"their\",\"use\",\"many\",\"much\",\"someone\",\"money\",\"am\",\"all\",\"new\",\"think\",\"find\",\"work\",\"without\",\"become\",\"indian\",\"ever\",\"than\",\"start\",\"more\",\"better\"]]]}}},\"view\":{\"type\":\"object\",\"name\":\"CDSView\",\"id\":\"p1043\",\"attributes\":{\"filter\":{\"type\":\"object\",\"name\":\"AllIndices\",\"id\":\"p1044\"}}},\"glyph\":{\"type\":\"object\",\"name\":\"Scatter\",\"id\":\"p1039\",\"attributes\":{\"x\":{\"type\":\"field\",\"field\":\"x\"},\"y\":{\"type\":\"field\",\"field\":\"y\"},\"size\":{\"type\":\"value\",\"value\":10},\"line_color\":{\"type\":\"field\",\"field\":\"color\"},\"line_alpha\":{\"type\":\"value\",\"value\":0.25},\"fill_color\":{\"type\":\"field\",\"field\":\"color\"},\"fill_alpha\":{\"type\":\"value\",\"value\":0.25},\"hatch_color\":{\"type\":\"field\",\"field\":\"color\"},\"hatch_alpha\":{\"type\":\"value\",\"value\":0.25}}},\"nonselection_glyph\":{\"type\":\"object\",\"name\":\"Scatter\",\"id\":\"p1040\",\"attributes\":{\"x\":{\"type\":\"field\",\"field\":\"x\"},\"y\":{\"type\":\"field\",\"field\":\"y\"},\"size\":{\"type\":\"value\",\"value\":10},\"line_color\":{\"type\":\"field\",\"field\":\"color\"},\"line_alpha\":{\"type\":\"value\",\"value\":0.1},\"fill_color\":{\"type\":\"field\",\"field\":\"color\"},\"fill_alpha\":{\"type\":\"value\",\"value\":0.1},\"hatch_color\":{\"type\":\"field\",\"field\":\"color\"},\"hatch_alpha\":{\"type\":\"value\",\"value\":0.1}}},\"muted_glyph\":{\"type\":\"object\",\"name\":\"Scatter\",\"id\":\"p1041\",\"attributes\":{\"x\":{\"type\":\"field\",\"field\":\"x\"},\"y\":{\"type\":\"field\",\"field\":\"y\"},\"size\":{\"type\":\"value\",\"value\":10},\"line_color\":{\"type\":\"field\",\"field\":\"color\"},\"line_alpha\":{\"type\":\"value\",\"value\":0.2},\"fill_color\":{\"type\":\"field\",\"field\":\"color\"},\"fill_alpha\":{\"type\":\"value\",\"value\":0.2},\"hatch_color\":{\"type\":\"field\",\"field\":\"color\"},\"hatch_alpha\":{\"type\":\"value\",\"value\":0.2}}}}}],\"toolbar\":{\"type\":\"object\",\"name\":\"Toolbar\",\"id\":\"p1012\",\"attributes\":{\"tools\":[{\"type\":\"object\",\"name\":\"PanTool\",\"id\":\"p1025\"},{\"type\":\"object\",\"name\":\"WheelZoomTool\",\"id\":\"p1026\",\"attributes\":{\"renderers\":\"auto\"}},{\"type\":\"object\",\"name\":\"BoxZoomTool\",\"id\":\"p1027\",\"attributes\":{\"overlay\":{\"type\":\"object\",\"name\":\"BoxAnnotation\",\"id\":\"p1028\",\"attributes\":{\"syncable\":false,\"level\":\"overlay\",\"visible\":false,\"left\":{\"type\":\"number\",\"value\":\"nan\"},\"right\":{\"type\":\"number\",\"value\":\"nan\"},\"top\":{\"type\":\"number\",\"value\":\"nan\"},\"bottom\":{\"type\":\"number\",\"value\":\"nan\"},\"left_units\":\"canvas\",\"right_units\":\"canvas\",\"top_units\":\"canvas\",\"bottom_units\":\"canvas\",\"line_color\":\"black\",\"line_alpha\":1.0,\"line_width\":2,\"line_dash\":[4,4],\"fill_color\":\"lightgrey\",\"fill_alpha\":0.5}}}},{\"type\":\"object\",\"name\":\"SaveTool\",\"id\":\"p1033\"},{\"type\":\"object\",\"name\":\"ResetTool\",\"id\":\"p1034\"},{\"type\":\"object\",\"name\":\"HelpTool\",\"id\":\"p1035\"},{\"type\":\"object\",\"name\":\"HoverTool\",\"id\":\"p1045\",\"attributes\":{\"renderers\":\"auto\",\"tooltips\":[[\"token\",\"@token\"]]}}],\"active_scroll\":{\"id\":\"p1026\"}}},\"left\":[{\"type\":\"object\",\"name\":\"LinearAxis\",\"id\":\"p1020\",\"attributes\":{\"ticker\":{\"type\":\"object\",\"name\":\"BasicTicker\",\"id\":\"p1021\",\"attributes\":{\"mantissas\":[1,2,5]}},\"formatter\":{\"type\":\"object\",\"name\":\"BasicTickFormatter\",\"id\":\"p1022\"},\"axis_label_standoff\":10,\"axis_label_text_color\":\"#E0E0E0\",\"axis_label_text_font\":\"Helvetica\",\"axis_label_text_font_size\":\"1.25em\",\"axis_label_text_font_style\":\"normal\",\"major_label_policy\":{\"type\":\"object\",\"name\":\"AllLabels\",\"id\":\"p1023\"},\"major_label_text_color\":\"#E0E0E0\",\"major_label_text_font\":\"Helvetica\",\"major_label_text_font_size\":\"1.025em\",\"axis_line_color\":\"#E0E0E0\",\"axis_line_alpha\":0,\"major_tick_line_color\":\"#E0E0E0\",\"major_tick_line_alpha\":0,\"minor_tick_line_color\":\"#E0E0E0\",\"minor_tick_line_alpha\":0}}],\"below\":[{\"type\":\"object\",\"name\":\"LinearAxis\",\"id\":\"p1015\",\"attributes\":{\"ticker\":{\"type\":\"object\",\"name\":\"BasicTicker\",\"id\":\"p1016\",\"attributes\":{\"mantissas\":[1,2,5]}},\"formatter\":{\"type\":\"object\",\"name\":\"BasicTickFormatter\",\"id\":\"p1017\"},\"axis_label_standoff\":10,\"axis_label_text_color\":\"#E0E0E0\",\"axis_label_text_font\":\"Helvetica\",\"axis_label_text_font_size\":\"1.25em\",\"axis_label_text_font_style\":\"normal\",\"major_label_policy\":{\"type\":\"object\",\"name\":\"AllLabels\",\"id\":\"p1018\"},\"major_label_text_color\":\"#E0E0E0\",\"major_label_text_font\":\"Helvetica\",\"major_label_text_font_size\":\"1.025em\",\"axis_line_color\":\"#E0E0E0\",\"axis_line_alpha\":0,\"major_tick_line_color\":\"#E0E0E0\",\"major_tick_line_alpha\":0,\"minor_tick_line_color\":\"#E0E0E0\",\"minor_tick_line_alpha\":0}}],\"center\":[{\"type\":\"object\",\"name\":\"Grid\",\"id\":\"p1019\",\"attributes\":{\"axis\":{\"id\":\"p1015\"},\"grid_line_color\":\"#E0E0E0\",\"grid_line_alpha\":0.25}},{\"type\":\"object\",\"name\":\"Grid\",\"id\":\"p1024\",\"attributes\":{\"dimension\":1,\"axis\":{\"id\":\"p1020\"},\"grid_line_color\":\"#E0E0E0\",\"grid_line_alpha\":0.25}}],\"background_fill_color\":\"#20262B\",\"border_fill_color\":\"#15191C\"}}]}};\n  const render_items = [{\"docid\":\"7514f3a4-4011-4377-a60b-ee5f70b3d41a\",\"roots\":{\"p1004\":\"f2f9da7f-67ed-4c83-8205-c3d98de76b01\"},\"root_ids\":[\"p1004\"]}];\n  void root.Bokeh.embed.embed_items_notebook(docs_json, render_items);\n  }\n  if (root.Bokeh !== undefined) {\n    embed_document(root);\n  } else {\n    let attempts = 0;\n    const timer = setInterval(function(root) {\n      if (root.Bokeh !== undefined) {\n        clearInterval(timer);\n        embed_document(root);\n      } else {\n        attempts++;\n        if (attempts > 100) {\n          clearInterval(timer);\n          console.log(\"Bokeh: ERROR: Unable to run BokehJS code because BokehJS library is missing\");\n        }\n      }\n    }, 10, root)\n  }\n})(window);",
      "application/vnd.bokehjs_exec.v0+json": ""
     },
     "metadata": {
      "application/vnd.bokehjs_exec.v0+json": {
       "id": "p1004"
      }
     },
     "output_type": "display_data"
    }
   ],
   "source": [
    "import bokeh.models as bm, bokeh.plotting as pl\n",
    "from bokeh.io import output_notebook\n",
    "\n",
    "from sklearn.manifold import TSNE\n",
    "from sklearn.preprocessing import scale\n",
    "\n",
    "\n",
    "def draw_vectors(x, y, radius=10, alpha=0.25, color='blue',\n",
    "                 width=600, height=400, show=True, **kwargs):\n",
    "    \"\"\" draws an interactive plot for data points with auxilirary info on hover \"\"\"\n",
    "    output_notebook()\n",
    "\n",
    "    if isinstance(color, str):\n",
    "        color = [color] * len(x)\n",
    "    data_source = bm.ColumnDataSource({ 'x' : x, 'y' : y, 'color': color, **kwargs })\n",
    "\n",
    "    fig = pl.figure(active_scroll='wheel_zoom', width=width, height=height)\n",
    "    fig.scatter('x', 'y', size=radius, color='color', alpha=alpha, source=data_source)\n",
    "\n",
    "    fig.add_tools(bm.HoverTool(tooltips=[(key, \"@\" + key) for key in kwargs.keys()]))\n",
    "    if show:\n",
    "        pl.show(fig)\n",
    "    return fig\n",
    "\n",
    "\n",
    "def get_tsne_projection(word_vectors):\n",
    "    tsne = TSNE(n_components=2, verbose=1)\n",
    "    return scale(tsne.fit_transform(word_vectors))\n",
    "\n",
    "\n",
    "def visualize_embeddings(embeddings, index2word, word_count):\n",
    "    word_vectors = embeddings[1: word_count + 1]\n",
    "    words = index2word[1: word_count + 1]\n",
    "\n",
    "    word_tsne = get_tsne_projection(word_vectors)\n",
    "    draw_vectors(word_tsne[:, 0], word_tsne[:, 1], color='blue', token=words)\n",
    "\n",
    "\n",
    "visualize_embeddings(embeddings, index2word, 100)"
   ]
  },
  {
   "cell_type": "code",
   "execution_count": 18,
   "metadata": {
    "ExecuteTime": {
     "end_time": "2025-01-21T11:29:40.803915Z",
     "start_time": "2025-01-21T11:29:40.553910Z"
    }
   },
   "outputs": [
    {
     "name": "stdout",
     "output_type": "stream",
     "text": [
      "[t-SNE] Computing 91 nearest neighbors...\n",
      "[t-SNE] Indexed 100 samples in 0.000s...\n",
      "[t-SNE] Computed neighbors for 100 samples in 0.006s...\n",
      "[t-SNE] Computed conditional probabilities for sample 100 / 100\n",
      "[t-SNE] Mean sigma: 4.135942\n",
      "[t-SNE] KL divergence after 250 iterations with early exaggeration: 74.583382\n",
      "[t-SNE] KL divergence after 1000 iterations: 0.606368\n"
     ]
    },
    {
     "name": "stderr",
     "output_type": "stream",
     "text": [
      "/home/cai/anaconda3/envs/torch1/lib/python3.9/site-packages/sklearn/preprocessing/_data.py:258: UserWarning: Numerical issues were encountered when centering the data and might not be solved. Dataset may contain too large values. You may need to prescale your features.\n",
      "  warnings.warn(\n",
      "/home/cai/anaconda3/envs/torch1/lib/python3.9/site-packages/sklearn/preprocessing/_data.py:277: UserWarning: Numerical issues were encountered when scaling the data and might not be solved. The standard deviation of the data is probably very close to 0. \n",
      "  warnings.warn(\n"
     ]
    },
    {
     "data": {
      "text/html": [
       "    <style>\n",
       "        .bk-notebook-logo {\n",
       "            display: block;\n",
       "            width: 20px;\n",
       "            height: 20px;\n",
       "            background-image: url(data:image/png;base64,iVBORw0KGgoAAAANSUhEUgAAABQAAAAUCAYAAACNiR0NAAAABHNCSVQICAgIfAhkiAAAAAlwSFlzAAALEgAACxIB0t1+/AAAABx0RVh0U29mdHdhcmUAQWRvYmUgRmlyZXdvcmtzIENTNui8sowAAAOkSURBVDiNjZRtaJVlGMd/1/08zzln5zjP1LWcU9N0NkN8m2CYjpgQYQXqSs0I84OLIC0hkEKoPtiH3gmKoiJDU7QpLgoLjLIQCpEsNJ1vqUOdO7ppbuec5+V+rj4ctwzd8IIbbi6u+8f1539dt3A78eXC7QizUF7gyV1fD1Yqg4JWz84yffhm0qkFqBogB9rM8tZdtwVsPUhWhGcFJngGeWrPzHm5oaMmkfEg1usvLFyc8jLRqDOMru7AyC8saQr7GG7f5fvDeH7Ej8CM66nIF+8yngt6HWaKh7k49Soy9nXurCi1o3qUbS3zWfrYeQDTB/Qj6kX6Ybhw4B+bOYoLKCC9H3Nu/leUTZ1JdRWkkn2ldcCamzrcf47KKXdAJllSlxAOkRgyHsGC/zRday5Qld9DyoM4/q/rUoy/CXh3jzOu3bHUVZeU+DEn8FInkPBFlu3+nW3Nw0mk6vCDiWg8CeJaxEwuHS3+z5RgY+YBR6V1Z1nxSOfoaPa4LASWxxdNp+VWTk7+4vzaou8v8PN+xo+KY2xsw6une2frhw05CTYOmQvsEhjhWjn0bmXPjpE1+kplmmkP3suftwTubK9Vq22qKmrBhpY4jvd5afdRA3wGjFAgcnTK2s4hY0/GPNIb0nErGMCRxWOOX64Z8RAC4oCXdklmEvcL8o0BfkNK4lUg9HTl+oPlQxdNo3Mg4Nv175e/1LDGzZen30MEjRUtmXSfiTVu1kK8W4txyV6BMKlbgk3lMwYCiusNy9fVfvvwMxv8Ynl6vxoByANLTWplvuj/nF9m2+PDtt1eiHPBr1oIfhCChQMBw6Aw0UulqTKZdfVvfG7VcfIqLG9bcldL/+pdWTLxLUy8Qq38heUIjh4XlzZxzQm19lLFlr8vdQ97rjZVOLf8nclzckbcD4wxXMidpX30sFd37Fv/GtwwhzhxGVAprjbg0gCAEeIgwCZyTV2Z1REEW8O4py0wsjeloKoMr6iCY6dP92H6Vw/oTyICIthibxjm/DfN9lVz8IqtqKYLUXfoKVMVQVVJOElGjrnnUt9T9wbgp8AyYKaGlqingHZU/uG2NTZSVqwHQTWkx9hxjkpWDaCg6Ckj5qebgBVbT3V3NNXMSiWSDdGV3hrtzla7J+duwPOToIg42ChPQOQjspnSlp1V+Gjdged7+8UN5CRAV7a5EdFNwCjEaBR27b3W890TE7g24NAP/mMDXRWrGoFPQI9ls/MWO2dWFAar/xcOIImbbpA3zgAAAABJRU5ErkJggg==);\n",
       "        }\n",
       "    </style>\n",
       "    <div>\n",
       "        <a href=\"https://bokeh.org\" target=\"_blank\" class=\"bk-notebook-logo\"></a>\n",
       "        <span id=\"f6d71a87-d956-478a-8950-1651f71192d9\">Loading BokehJS ...</span>\n",
       "    </div>\n"
      ]
     },
     "metadata": {},
     "output_type": "display_data"
    },
    {
     "data": {
      "application/javascript": "'use strict';\n(function(root) {\n  function now() {\n    return new Date();\n  }\n\n  const force = true;\n\n  if (typeof root._bokeh_onload_callbacks === \"undefined\" || force === true) {\n    root._bokeh_onload_callbacks = [];\n    root._bokeh_is_loading = undefined;\n  }\n\nconst JS_MIME_TYPE = 'application/javascript';\n  const HTML_MIME_TYPE = 'text/html';\n  const EXEC_MIME_TYPE = 'application/vnd.bokehjs_exec.v0+json';\n  const CLASS_NAME = 'output_bokeh rendered_html';\n\n  /**\n   * Render data to the DOM node\n   */\n  function render(props, node) {\n    const script = document.createElement(\"script\");\n    node.appendChild(script);\n  }\n\n  /**\n   * Handle when an output is cleared or removed\n   */\n  function handleClearOutput(event, handle) {\n    function drop(id) {\n      const view = Bokeh.index.get_by_id(id)\n      if (view != null) {\n        view.model.document.clear()\n        Bokeh.index.delete(view)\n      }\n    }\n\n    const cell = handle.cell;\n\n    const id = cell.output_area._bokeh_element_id;\n    const server_id = cell.output_area._bokeh_server_id;\n\n    // Clean up Bokeh references\n    if (id != null) {\n      drop(id)\n    }\n\n    if (server_id !== undefined) {\n      // Clean up Bokeh references\n      const cmd_clean = \"from bokeh.io.state import curstate; print(curstate().uuid_to_server['\" + server_id + \"'].get_sessions()[0].document.roots[0]._id)\";\n      cell.notebook.kernel.execute(cmd_clean, {\n        iopub: {\n          output: function(msg) {\n            const id = msg.content.text.trim()\n            drop(id)\n          }\n        }\n      });\n      // Destroy server and session\n      const cmd_destroy = \"import bokeh.io.notebook as ion; ion.destroy_server('\" + server_id + \"')\";\n      cell.notebook.kernel.execute(cmd_destroy);\n    }\n  }\n\n  /**\n   * Handle when a new output is added\n   */\n  function handleAddOutput(event, handle) {\n    const output_area = handle.output_area;\n    const output = handle.output;\n\n    // limit handleAddOutput to display_data with EXEC_MIME_TYPE content only\n    if ((output.output_type != \"display_data\") || (!Object.prototype.hasOwnProperty.call(output.data, EXEC_MIME_TYPE))) {\n      return\n    }\n\n    const toinsert = output_area.element.find(\".\" + CLASS_NAME.split(' ')[0]);\n\n    if (output.metadata[EXEC_MIME_TYPE][\"id\"] !== undefined) {\n      toinsert[toinsert.length - 1].firstChild.textContent = output.data[JS_MIME_TYPE];\n      // store reference to embed id on output_area\n      output_area._bokeh_element_id = output.metadata[EXEC_MIME_TYPE][\"id\"];\n    }\n    if (output.metadata[EXEC_MIME_TYPE][\"server_id\"] !== undefined) {\n      const bk_div = document.createElement(\"div\");\n      bk_div.innerHTML = output.data[HTML_MIME_TYPE];\n      const script_attrs = bk_div.children[0].attributes;\n      for (let i = 0; i < script_attrs.length; i++) {\n        toinsert[toinsert.length - 1].firstChild.setAttribute(script_attrs[i].name, script_attrs[i].value);\n        toinsert[toinsert.length - 1].firstChild.textContent = bk_div.children[0].textContent\n      }\n      // store reference to server id on output_area\n      output_area._bokeh_server_id = output.metadata[EXEC_MIME_TYPE][\"server_id\"];\n    }\n  }\n\n  function register_renderer(events, OutputArea) {\n\n    function append_mime(data, metadata, element) {\n      // create a DOM node to render to\n      const toinsert = this.create_output_subarea(\n        metadata,\n        CLASS_NAME,\n        EXEC_MIME_TYPE\n      );\n      this.keyboard_manager.register_events(toinsert);\n      // Render to node\n      const props = {data: data, metadata: metadata[EXEC_MIME_TYPE]};\n      render(props, toinsert[toinsert.length - 1]);\n      element.append(toinsert);\n      return toinsert\n    }\n\n    /* Handle when an output is cleared or removed */\n    events.on('clear_output.CodeCell', handleClearOutput);\n    events.on('delete.Cell', handleClearOutput);\n\n    /* Handle when a new output is added */\n    events.on('output_added.OutputArea', handleAddOutput);\n\n    /**\n     * Register the mime type and append_mime function with output_area\n     */\n    OutputArea.prototype.register_mime_type(EXEC_MIME_TYPE, append_mime, {\n      /* Is output safe? */\n      safe: true,\n      /* Index of renderer in `output_area.display_order` */\n      index: 0\n    });\n  }\n\n  // register the mime type if in Jupyter Notebook environment and previously unregistered\n  if (root.Jupyter !== undefined) {\n    const events = require('base/js/events');\n    const OutputArea = require('notebook/js/outputarea').OutputArea;\n\n    if (OutputArea.prototype.mime_types().indexOf(EXEC_MIME_TYPE) == -1) {\n      register_renderer(events, OutputArea);\n    }\n  }\n  if (typeof (root._bokeh_timeout) === \"undefined\" || force === true) {\n    root._bokeh_timeout = Date.now() + 5000;\n    root._bokeh_failed_load = false;\n  }\n\n  const NB_LOAD_WARNING = {'data': {'text/html':\n     \"<div style='background-color: #fdd'>\\n\"+\n     \"<p>\\n\"+\n     \"BokehJS does not appear to have successfully loaded. If loading BokehJS from CDN, this \\n\"+\n     \"may be due to a slow or bad network connection. Possible fixes:\\n\"+\n     \"</p>\\n\"+\n     \"<ul>\\n\"+\n     \"<li>re-rerun `output_notebook()` to attempt to load from CDN again, or</li>\\n\"+\n     \"<li>use INLINE resources instead, as so:</li>\\n\"+\n     \"</ul>\\n\"+\n     \"<code>\\n\"+\n     \"from bokeh.resources import INLINE\\n\"+\n     \"output_notebook(resources=INLINE)\\n\"+\n     \"</code>\\n\"+\n     \"</div>\"}};\n\n  function display_loaded(error = null) {\n    const el = document.getElementById(\"f6d71a87-d956-478a-8950-1651f71192d9\");\n    if (el != null) {\n      const html = (() => {\n        if (typeof root.Bokeh === \"undefined\") {\n          if (error == null) {\n            return \"BokehJS is loading ...\";\n          } else {\n            return \"BokehJS failed to load.\";\n          }\n        } else {\n          const prefix = `BokehJS ${root.Bokeh.version}`;\n          if (error == null) {\n            return `${prefix} successfully loaded.`;\n          } else {\n            return `${prefix} <b>encountered errors</b> while loading and may not function as expected.`;\n          }\n        }\n      })();\n      el.innerHTML = html;\n\n      if (error != null) {\n        const wrapper = document.createElement(\"div\");\n        wrapper.style.overflow = \"auto\";\n        wrapper.style.height = \"5em\";\n        wrapper.style.resize = \"vertical\";\n        const content = document.createElement(\"div\");\n        content.style.fontFamily = \"monospace\";\n        content.style.whiteSpace = \"pre-wrap\";\n        content.style.backgroundColor = \"rgb(255, 221, 221)\";\n        content.textContent = error.stack ?? error.toString();\n        wrapper.append(content);\n        el.append(wrapper);\n      }\n    } else if (Date.now() < root._bokeh_timeout) {\n      setTimeout(() => display_loaded(error), 100);\n    }\n  }\n\n  function run_callbacks() {\n    try {\n      root._bokeh_onload_callbacks.forEach(function(callback) {\n        if (callback != null)\n          callback();\n      });\n    } finally {\n      delete root._bokeh_onload_callbacks\n    }\n    console.debug(\"Bokeh: all callbacks have finished\");\n  }\n\n  function load_libs(css_urls, js_urls, callback) {\n    if (css_urls == null) css_urls = [];\n    if (js_urls == null) js_urls = [];\n\n    root._bokeh_onload_callbacks.push(callback);\n    if (root._bokeh_is_loading > 0) {\n      console.debug(\"Bokeh: BokehJS is being loaded, scheduling callback at\", now());\n      return null;\n    }\n    if (js_urls == null || js_urls.length === 0) {\n      run_callbacks();\n      return null;\n    }\n    console.debug(\"Bokeh: BokehJS not loaded, scheduling load and callback at\", now());\n    root._bokeh_is_loading = css_urls.length + js_urls.length;\n\n    function on_load() {\n      root._bokeh_is_loading--;\n      if (root._bokeh_is_loading === 0) {\n        console.debug(\"Bokeh: all BokehJS libraries/stylesheets loaded\");\n        run_callbacks()\n      }\n    }\n\n    function on_error(url) {\n      console.error(\"failed to load \" + url);\n    }\n\n    for (let i = 0; i < css_urls.length; i++) {\n      const url = css_urls[i];\n      const element = document.createElement(\"link\");\n      element.onload = on_load;\n      element.onerror = on_error.bind(null, url);\n      element.rel = \"stylesheet\";\n      element.type = \"text/css\";\n      element.href = url;\n      console.debug(\"Bokeh: injecting link tag for BokehJS stylesheet: \", url);\n      document.body.appendChild(element);\n    }\n\n    for (let i = 0; i < js_urls.length; i++) {\n      const url = js_urls[i];\n      const element = document.createElement('script');\n      element.onload = on_load;\n      element.onerror = on_error.bind(null, url);\n      element.async = false;\n      element.src = url;\n      console.debug(\"Bokeh: injecting script tag for BokehJS library: \", url);\n      document.head.appendChild(element);\n    }\n  };\n\n  function inject_raw_css(css) {\n    const element = document.createElement(\"style\");\n    element.appendChild(document.createTextNode(css));\n    document.body.appendChild(element);\n  }\n\n  const js_urls = [\"https://cdn.bokeh.org/bokeh/release/bokeh-3.4.3.min.js\", \"https://cdn.bokeh.org/bokeh/release/bokeh-gl-3.4.3.min.js\", \"https://cdn.bokeh.org/bokeh/release/bokeh-widgets-3.4.3.min.js\", \"https://cdn.bokeh.org/bokeh/release/bokeh-tables-3.4.3.min.js\", \"https://cdn.bokeh.org/bokeh/release/bokeh-mathjax-3.4.3.min.js\"];\n  const css_urls = [];\n\n  const inline_js = [    function(Bokeh) {\n      Bokeh.set_log_level(\"info\");\n    },\nfunction(Bokeh) {\n    }\n  ];\n\n  function run_inline_js() {\n    if (root.Bokeh !== undefined || force === true) {\n      try {\n            for (let i = 0; i < inline_js.length; i++) {\n      inline_js[i].call(root, root.Bokeh);\n    }\n\n      } catch (error) {display_loaded(error);throw error;\n      }if (force === true) {\n        display_loaded();\n      }} else if (Date.now() < root._bokeh_timeout) {\n      setTimeout(run_inline_js, 100);\n    } else if (!root._bokeh_failed_load) {\n      console.log(\"Bokeh: BokehJS failed to load within specified timeout.\");\n      root._bokeh_failed_load = true;\n    } else if (force !== true) {\n      const cell = $(document.getElementById(\"f6d71a87-d956-478a-8950-1651f71192d9\")).parents('.cell').data().cell;\n      cell.output_area.append_execute_result(NB_LOAD_WARNING)\n    }\n  }\n\n  if (root._bokeh_is_loading === 0) {\n    console.debug(\"Bokeh: BokehJS loaded, going straight to plotting\");\n    run_inline_js();\n  } else {\n    load_libs(css_urls, js_urls, function() {\n      console.debug(\"Bokeh: BokehJS plotting callback run at\", now());\n      run_inline_js();\n    });\n  }\n}(window));",
      "application/vnd.bokehjs_load.v0+json": ""
     },
     "metadata": {},
     "output_type": "display_data"
    },
    {
     "data": {
      "text/html": [
       "\n",
       "  <div id=\"f08bb5cb-c5c0-4844-8722-ff02fc3ecf4e\" data-root-id=\"p1051\" style=\"display: contents;\"></div>\n"
      ]
     },
     "metadata": {},
     "output_type": "display_data"
    },
    {
     "data": {
      "application/javascript": "(function(root) {\n  function embed_document(root) {\n  const docs_json = {\"c4f4abb7-6a4a-4c67-880a-af6f5b99dda0\":{\"version\":\"3.4.3\",\"title\":\"Bokeh Application\",\"roots\":[{\"type\":\"object\",\"name\":\"Figure\",\"id\":\"p1051\",\"attributes\":{\"height\":400,\"x_range\":{\"type\":\"object\",\"name\":\"DataRange1d\",\"id\":\"p1052\"},\"y_range\":{\"type\":\"object\",\"name\":\"DataRange1d\",\"id\":\"p1053\"},\"x_scale\":{\"type\":\"object\",\"name\":\"LinearScale\",\"id\":\"p1060\"},\"y_scale\":{\"type\":\"object\",\"name\":\"LinearScale\",\"id\":\"p1061\"},\"title\":{\"type\":\"object\",\"name\":\"Title\",\"id\":\"p1058\",\"attributes\":{\"text_color\":\"#E0E0E0\",\"text_font\":\"Helvetica\",\"text_font_size\":\"1.15em\"}},\"outline_line_color\":\"#E0E0E0\",\"outline_line_alpha\":0.25,\"renderers\":[{\"type\":\"object\",\"name\":\"GlyphRenderer\",\"id\":\"p1089\",\"attributes\":{\"data_source\":{\"type\":\"object\",\"name\":\"ColumnDataSource\",\"id\":\"p1048\",\"attributes\":{\"selected\":{\"type\":\"object\",\"name\":\"Selection\",\"id\":\"p1049\",\"attributes\":{\"indices\":[],\"line_indices\":[]}},\"selection_policy\":{\"type\":\"object\",\"name\":\"UnionRenderers\",\"id\":\"p1050\"},\"data\":{\"type\":\"map\",\"entries\":[[\"x\",{\"type\":\"ndarray\",\"array\":{\"type\":\"bytes\",\"data\":\"Mh2tvkgWqL+kss6+amG1P9P3cL7ApAPAYIIDwF8nsz+XQdI/c5qgPhZW+z99GKg/ZvhWP3BXBz7RdZQ/W32OPuZS8r/lRei+7WG4v1FzDUAl1cS/WyFEP20pcT8MW1A/80G0vixMYz2lNMs+FP8VP4pNmT9l6Yg/4uSaP/AxY76+0Z0+UQETvtXo1D7I7QPAYZ6fP6Lulb9VzYm/O6Vov2pYIz90g8e+oKfsPqCVfT5ddLk/lg8jv4Tj5D7dOBi/fivaPgtuqr81jOA/Xus3P5yVQz/DdbI9wQW9vy1oVL8l1XC/NDIWv+VeAD+J7c4/kg/kv7gCZr7tpVc/QzHUvdAhkT8qA4E/6GgpPVK0/L6/cKI/RlHVv3E7x7/dLRC/gStkPvycvT+bsAG/KlyHv1VZQD/dL3W9I8+FPK5OqL4M3ZK/6ipJPnANZb840Gm/4L6pv1eDY7/67vs+xI81vnw0XL84cB++ea+KPi3VRb7PKIQ/T+kcPzwlzL2bNby+MwmJP2kLGT4+v0y/7jdEvw==\"},\"shape\":[100],\"dtype\":\"float32\",\"order\":\"little\"}],[\"y\",{\"type\":\"ndarray\",\"array\":{\"type\":\"bytes\",\"data\":\"S7SCv8FWbb/VCus/zlKMv1mDsz9FLx4/61xUv/+r+b/sYAA+UT4CwKAKVb7R4qm/cSiJP89OD8D0kyg/g4TeP2Z8Az+MyK0/A+ZWvs7YET/CyqS/SYjiv21d070BwkU/5FHRPxpIjj/0wBg/DJlkviZ+bT63JwFARkZxvyD3bD+Tz9g/zfgVwIt9bz7ggU2/YBukPl4lir/QLVC/Ue3MP6U6cz9Xyg4/Xi5av1QTiL+MXwc/5LoRvwqf2L98fVw+YiXQv7qzTz+Z7oc/p2nWPvtc+76PzQ6/rODBP5FlCT/jcIM/wOLzPR0dzL94zAa/e8n5PvXnlj8g4I+/4zjhPKUp+75bMmi8Tia2v8bSFDxP/fI9EpMKPxvyd74q+qi/HTvXP2cluz+4B8O8YaXavqsZJr8V7cA+15WdvbmfJ789DQe/ZXFOPYsQXT+Vr2k/PX3pvRVsab4SdRu+mxIgv5DbxL+B1Tg/osaavZuPPr6Fkvc+UXrHPqfO076wuLk+09unP9cRTj67r0g+0S6sPg==\"},\"shape\":[100],\"dtype\":\"float32\",\"order\":\"little\"}],[\"color\",[\"blue\",\"blue\",\"blue\",\"blue\",\"blue\",\"blue\",\"blue\",\"blue\",\"blue\",\"blue\",\"blue\",\"blue\",\"blue\",\"blue\",\"blue\",\"blue\",\"blue\",\"blue\",\"blue\",\"blue\",\"blue\",\"blue\",\"blue\",\"blue\",\"blue\",\"blue\",\"blue\",\"blue\",\"blue\",\"blue\",\"blue\",\"blue\",\"blue\",\"blue\",\"blue\",\"blue\",\"blue\",\"blue\",\"blue\",\"blue\",\"blue\",\"blue\",\"blue\",\"blue\",\"blue\",\"blue\",\"blue\",\"blue\",\"blue\",\"blue\",\"blue\",\"blue\",\"blue\",\"blue\",\"blue\",\"blue\",\"blue\",\"blue\",\"blue\",\"blue\",\"blue\",\"blue\",\"blue\",\"blue\",\"blue\",\"blue\",\"blue\",\"blue\",\"blue\",\"blue\",\"blue\",\"blue\",\"blue\",\"blue\",\"blue\",\"blue\",\"blue\",\"blue\",\"blue\",\"blue\",\"blue\",\"blue\",\"blue\",\"blue\",\"blue\",\"blue\",\"blue\",\"blue\",\"blue\",\"blue\",\"blue\",\"blue\",\"blue\",\"blue\",\"blue\",\"blue\",\"blue\",\"blue\",\"blue\",\"blue\"]],[\"token\",[\"?\",\"the\",\"what\",\"is\",\"how\",\"i\",\"a\",\"to\",\"in\",\"do\",\"of\",\"are\",\"and\",\"can\",\"for\",\",\",\"you\",\"why\",\"it\",\"best\",\"my\",\"does\",\"on\",\"or\",\"which\",\"if\",\"be\",\"have\",\"with\",\"some\",\"'s\",\"that\",\".\",\"should\",\"get\",\"an\",\"from\",\"your\",\"india\",\")\",\"(\",\"who\",\"when\",\"like\",\"at\",\"people\",\"will\",\"good\",\"would\",\"there\",\"between\",\"as\",\"about\",\"``\",\"''\",\"not\",\"n't\",\"one\",\"did\",\"most\",\"we\",\"where\",\"was\",\"any\",\"by\",\"make\",\"way\",\"so\",\"after\",\"they\",\"quora\",\"life\",\":\",\"difference\",\"me\",\"this\",\"has\",\"know\",\"learn\",\"time\",\"their\",\"use\",\"many\",\"much\",\"someone\",\"money\",\"am\",\"all\",\"new\",\"think\",\"find\",\"work\",\"without\",\"become\",\"indian\",\"ever\",\"than\",\"start\",\"more\",\"better\"]]]}}},\"view\":{\"type\":\"object\",\"name\":\"CDSView\",\"id\":\"p1090\",\"attributes\":{\"filter\":{\"type\":\"object\",\"name\":\"AllIndices\",\"id\":\"p1091\"}}},\"glyph\":{\"type\":\"object\",\"name\":\"Scatter\",\"id\":\"p1086\",\"attributes\":{\"x\":{\"type\":\"field\",\"field\":\"x\"},\"y\":{\"type\":\"field\",\"field\":\"y\"},\"size\":{\"type\":\"value\",\"value\":10},\"line_color\":{\"type\":\"field\",\"field\":\"color\"},\"line_alpha\":{\"type\":\"value\",\"value\":0.25},\"fill_color\":{\"type\":\"field\",\"field\":\"color\"},\"fill_alpha\":{\"type\":\"value\",\"value\":0.25},\"hatch_color\":{\"type\":\"field\",\"field\":\"color\"},\"hatch_alpha\":{\"type\":\"value\",\"value\":0.25}}},\"nonselection_glyph\":{\"type\":\"object\",\"name\":\"Scatter\",\"id\":\"p1087\",\"attributes\":{\"x\":{\"type\":\"field\",\"field\":\"x\"},\"y\":{\"type\":\"field\",\"field\":\"y\"},\"size\":{\"type\":\"value\",\"value\":10},\"line_color\":{\"type\":\"field\",\"field\":\"color\"},\"line_alpha\":{\"type\":\"value\",\"value\":0.1},\"fill_color\":{\"type\":\"field\",\"field\":\"color\"},\"fill_alpha\":{\"type\":\"value\",\"value\":0.1},\"hatch_color\":{\"type\":\"field\",\"field\":\"color\"},\"hatch_alpha\":{\"type\":\"value\",\"value\":0.1}}},\"muted_glyph\":{\"type\":\"object\",\"name\":\"Scatter\",\"id\":\"p1088\",\"attributes\":{\"x\":{\"type\":\"field\",\"field\":\"x\"},\"y\":{\"type\":\"field\",\"field\":\"y\"},\"size\":{\"type\":\"value\",\"value\":10},\"line_color\":{\"type\":\"field\",\"field\":\"color\"},\"line_alpha\":{\"type\":\"value\",\"value\":0.2},\"fill_color\":{\"type\":\"field\",\"field\":\"color\"},\"fill_alpha\":{\"type\":\"value\",\"value\":0.2},\"hatch_color\":{\"type\":\"field\",\"field\":\"color\"},\"hatch_alpha\":{\"type\":\"value\",\"value\":0.2}}}}}],\"toolbar\":{\"type\":\"object\",\"name\":\"Toolbar\",\"id\":\"p1059\",\"attributes\":{\"tools\":[{\"type\":\"object\",\"name\":\"PanTool\",\"id\":\"p1072\"},{\"type\":\"object\",\"name\":\"WheelZoomTool\",\"id\":\"p1073\",\"attributes\":{\"renderers\":\"auto\"}},{\"type\":\"object\",\"name\":\"BoxZoomTool\",\"id\":\"p1074\",\"attributes\":{\"overlay\":{\"type\":\"object\",\"name\":\"BoxAnnotation\",\"id\":\"p1075\",\"attributes\":{\"syncable\":false,\"level\":\"overlay\",\"visible\":false,\"left\":{\"type\":\"number\",\"value\":\"nan\"},\"right\":{\"type\":\"number\",\"value\":\"nan\"},\"top\":{\"type\":\"number\",\"value\":\"nan\"},\"bottom\":{\"type\":\"number\",\"value\":\"nan\"},\"left_units\":\"canvas\",\"right_units\":\"canvas\",\"top_units\":\"canvas\",\"bottom_units\":\"canvas\",\"line_color\":\"black\",\"line_alpha\":1.0,\"line_width\":2,\"line_dash\":[4,4],\"fill_color\":\"lightgrey\",\"fill_alpha\":0.5}}}},{\"type\":\"object\",\"name\":\"SaveTool\",\"id\":\"p1080\"},{\"type\":\"object\",\"name\":\"ResetTool\",\"id\":\"p1081\"},{\"type\":\"object\",\"name\":\"HelpTool\",\"id\":\"p1082\"},{\"type\":\"object\",\"name\":\"HoverTool\",\"id\":\"p1092\",\"attributes\":{\"renderers\":\"auto\",\"tooltips\":[[\"token\",\"@token\"]]}}],\"active_scroll\":{\"id\":\"p1073\"}}},\"left\":[{\"type\":\"object\",\"name\":\"LinearAxis\",\"id\":\"p1067\",\"attributes\":{\"ticker\":{\"type\":\"object\",\"name\":\"BasicTicker\",\"id\":\"p1068\",\"attributes\":{\"mantissas\":[1,2,5]}},\"formatter\":{\"type\":\"object\",\"name\":\"BasicTickFormatter\",\"id\":\"p1069\"},\"axis_label_standoff\":10,\"axis_label_text_color\":\"#E0E0E0\",\"axis_label_text_font\":\"Helvetica\",\"axis_label_text_font_size\":\"1.25em\",\"axis_label_text_font_style\":\"normal\",\"major_label_policy\":{\"type\":\"object\",\"name\":\"AllLabels\",\"id\":\"p1070\"},\"major_label_text_color\":\"#E0E0E0\",\"major_label_text_font\":\"Helvetica\",\"major_label_text_font_size\":\"1.025em\",\"axis_line_color\":\"#E0E0E0\",\"axis_line_alpha\":0,\"major_tick_line_color\":\"#E0E0E0\",\"major_tick_line_alpha\":0,\"minor_tick_line_color\":\"#E0E0E0\",\"minor_tick_line_alpha\":0}}],\"below\":[{\"type\":\"object\",\"name\":\"LinearAxis\",\"id\":\"p1062\",\"attributes\":{\"ticker\":{\"type\":\"object\",\"name\":\"BasicTicker\",\"id\":\"p1063\",\"attributes\":{\"mantissas\":[1,2,5]}},\"formatter\":{\"type\":\"object\",\"name\":\"BasicTickFormatter\",\"id\":\"p1064\"},\"axis_label_standoff\":10,\"axis_label_text_color\":\"#E0E0E0\",\"axis_label_text_font\":\"Helvetica\",\"axis_label_text_font_size\":\"1.25em\",\"axis_label_text_font_style\":\"normal\",\"major_label_policy\":{\"type\":\"object\",\"name\":\"AllLabels\",\"id\":\"p1065\"},\"major_label_text_color\":\"#E0E0E0\",\"major_label_text_font\":\"Helvetica\",\"major_label_text_font_size\":\"1.025em\",\"axis_line_color\":\"#E0E0E0\",\"axis_line_alpha\":0,\"major_tick_line_color\":\"#E0E0E0\",\"major_tick_line_alpha\":0,\"minor_tick_line_color\":\"#E0E0E0\",\"minor_tick_line_alpha\":0}}],\"center\":[{\"type\":\"object\",\"name\":\"Grid\",\"id\":\"p1066\",\"attributes\":{\"axis\":{\"id\":\"p1062\"},\"grid_line_color\":\"#E0E0E0\",\"grid_line_alpha\":0.25}},{\"type\":\"object\",\"name\":\"Grid\",\"id\":\"p1071\",\"attributes\":{\"dimension\":1,\"axis\":{\"id\":\"p1067\"},\"grid_line_color\":\"#E0E0E0\",\"grid_line_alpha\":0.25}}],\"background_fill_color\":\"#20262B\",\"border_fill_color\":\"#15191C\"}}]}};\n  const render_items = [{\"docid\":\"c4f4abb7-6a4a-4c67-880a-af6f5b99dda0\",\"roots\":{\"p1051\":\"f08bb5cb-c5c0-4844-8722-ff02fc3ecf4e\"},\"root_ids\":[\"p1051\"]}];\n  void root.Bokeh.embed.embed_items_notebook(docs_json, render_items);\n  }\n  if (root.Bokeh !== undefined) {\n    embed_document(root);\n  } else {\n    let attempts = 0;\n    const timer = setInterval(function(root) {\n      if (root.Bokeh !== undefined) {\n        clearInterval(timer);\n        embed_document(root);\n      } else {\n        attempts++;\n        if (attempts > 100) {\n          clearInterval(timer);\n          console.log(\"Bokeh: ERROR: Unable to run BokehJS code because BokehJS library is missing\");\n        }\n      }\n    }, 10, root)\n  }\n})(window);",
      "application/vnd.bokehjs_exec.v0+json": ""
     },
     "metadata": {
      "application/vnd.bokehjs_exec.v0+json": {
       "id": "p1051"
      }
     },
     "output_type": "display_data"
    }
   ],
   "source": [
    "def get_tane_projection(word_vectors):\n",
    "    # MinMaxScaler to pre-scale the data\n",
    "    scaler = MinMaxScaler()\n",
    "    word_vectors_scaled = scaler.fit_transform(word_vectors)\n",
    "    \n",
    "    tsne = TSNE(n_components=2, verbose=1)\n",
    "    tsne_projection = tsne.fit_transform(word_vectors_scaled)\n",
    "    \n",
    "    return scale(tsne_projection)\n",
    "\n",
    "visualize_embeddings(embeddings, index2word, 100)"
   ]
  },
  {
   "cell_type": "markdown",
   "metadata": {
    "id": "dkidM73PdLva"
   },
   "source": [
    "## Task 2： Explore Word Embeddings with Word2Vec\n",
    "In this task, we shall explore the embeddings produced by word2vec. Please revisit the lecture slides or tutorials for more details on the word2vec algorithm. If you're feeling adventurous, challenge yourself and try reading the original [paper](https://proceedings.neurips.cc/paper_files/paper/2013/file/9aa42b31882ec039965f3c4923ce901b-Paper.pdf).\n",
    "\n",
    "Then run the following cells to load the word2vec vectors into memory. **Note**: This might take several minutes."
   ]
  },
  {
   "cell_type": "code",
   "execution_count": 29,
   "metadata": {
    "ExecuteTime": {
     "end_time": "2025-01-21T11:53:53.471357Z",
     "start_time": "2025-01-21T11:53:53.467463Z"
    },
    "id": "GI3v_EcWf9nW"
   },
   "outputs": [],
   "source": [
    "import os\n",
    "os.environ['GENSIM_DATA_DIR'] = '/home/cai/Task/CUHKSZ/MSc Data Science/Year 1/Term 2/MDS5110-Natural Language Processing/Assignment 1'\n",
    "\n",
    "def load_word2vec():\n",
    "    \"\"\" Load GloVe Twitter Vectors\n",
    "        Return:\n",
    "            wv_from_bin: Pre-trained embeddings with 25 dimensions for 1.2M vocabulary.\n",
    "    \"\"\"\n",
    "    import gensim.downloader as api\n",
    "    wv_from_bin = api.load(\"glove-twitter-25\")\n",
    "    vocab = list(wv_from_bin.key_to_index.keys())  # Updated for Gensim 4.x\n",
    "    print(\"Loaded vocab size %i\" % len(vocab))\n",
    "    return wv_from_bin"
   ]
  },
  {
   "cell_type": "code",
   "execution_count": 30,
   "metadata": {
    "ExecuteTime": {
     "end_time": "2025-01-21T11:54:06.050920Z",
     "start_time": "2025-01-21T11:53:55.782250Z"
    },
    "id": "9n7coG7kgHwU"
   },
   "outputs": [
    {
     "name": "stdout",
     "output_type": "stream",
     "text": [
      "Loaded vocab size 1193514\n"
     ]
    }
   ],
   "source": [
    "# -----------------------------------\n",
    "# Run Cell to Load Word Vectors\n",
    "# Note: This may take several minutes\n",
    "# -----------------------------------\n",
    "wv_from_bin = load_word2vec()"
   ]
  },
  {
   "cell_type": "markdown",
   "metadata": {
    "id": "N3ONN2P8z9yA"
   },
   "source": [
    "\n",
    "**Reducing dimensionality of Word2Vec Word Embeddings**\n",
    "\n",
    "Let's directly compare the word2vec embeddings to those of the co-occurrence matrix. Run the following cells to:\n",
    "\n",
    "- Put the 1.2 million word2vec vectors into a matrix M\n",
    "- Run reduce_to_k_dim (your Truncated SVD function) to reduce the vectors from 25-dimensional to 2-dimensional.\n",
    "\n"
   ]
  },
  {
   "cell_type": "code",
   "execution_count": 34,
   "metadata": {
    "ExecuteTime": {
     "end_time": "2025-01-21T11:59:08.065537Z",
     "start_time": "2025-01-21T11:59:08.057980Z"
    },
    "id": "Cmx7pKhhh1Qj"
   },
   "outputs": [],
   "source": [
    "def get_matrix_of_vectors(wv_from_bin, required_words=['barrels', 'bpd', 'ecuador', 'energy', 'industry', 'kuwait', 'oil', 'output', 'petroleum', 'venezuela']):\n",
    "    \"\"\" Put the word2vec vectors into a matrix M.\n",
    "        Param:\n",
    "            wv_from_bin: KeyedVectors object; the 1.2 million word2vec vectors loaded from file\n",
    "        Return:\n",
    "            M: numpy matrix shape (num words, 300) containing the vectors\n",
    "            word2Ind: dictionary mapping each word to its row number in M\n",
    "    \"\"\"\n",
    "    import random\n",
    "    words = list(wv_from_bin.key_to_index.keys())\n",
    "    print(\"Shuffling words ...\")\n",
    "    random.shuffle(words)\n",
    "    words = words[:10000]\n",
    "    print(\"Putting %i words into word2Ind and matrix M...\" % len(words))\n",
    "    word2Ind = {}\n",
    "    M = []\n",
    "    curInd = 0\n",
    "    for w in words:\n",
    "        try:\n",
    "            M.append(wv_from_bin.get_vector(w))\n",
    "            word2Ind[w] = curInd\n",
    "            curInd += 1\n",
    "        except KeyError:\n",
    "            continue\n",
    "    for w in required_words:\n",
    "        try:\n",
    "            M.append(wv_from_bin.get_vector(w))\n",
    "            word2Ind[w] = curInd\n",
    "            curInd += 1\n",
    "        except KeyError:\n",
    "            continue\n",
    "    M = np.stack(M)\n",
    "    print(\"Done.\")\n",
    "    return M, word2Ind"
   ]
  },
  {
   "cell_type": "markdown",
   "metadata": {
    "id": "NwG7p3MepE6P"
   },
   "source": [
    "**Implement reduce_to_k_dim**\n",
    "\n",
    "Construct a method that performs dimensionality reduction on the matrix to produce k-dimensional embeddings. Use SVD to take the top k components and produce a new matrix of k-dimensional embeddings.\n",
    "\n",
    "Note: All of numpy, scipy, and scikit-learn (sklearn) provide some implementation of SVD, but only scipy and sklearn provide an implementation of Truncated SVD, and only sklearn provides an efficient randomized algorithm for calculating large-scale Truncated SVD. So please use [sklearn.decomposition.TruncatedSVD](https://scikit-learn.org/stable/modules/generated/sklearn.decomposition.TruncatedSVD.html).\n",
    "\n",
    "**<font color=\"red\">[Task]</font>**: Complete reduce_to_k_dim function"
   ]
  },
  {
   "cell_type": "code",
   "execution_count": 35,
   "metadata": {
    "ExecuteTime": {
     "end_time": "2025-01-21T11:59:10.957834Z",
     "start_time": "2025-01-21T11:59:10.954208Z"
    },
    "id": "ggHnG5EcidGm"
   },
   "outputs": [],
   "source": [
    "from sklearn.decomposition import TruncatedSVD\n",
    "\n",
    "def reduce_to_k_dim(M, k=2):\n",
    "    \"\"\" Reduce a co-occurence count matrix of dimensionality (num_corpus_words, num_corpus_words)\n",
    "        to a matrix of dimensionality (num_corpus_words, k) using the following SVD function from Scikit-Learn:\n",
    "            - http://scikit-learn.org/stable/modules/generated/sklearn.decomposition.TruncatedSVD.html\n",
    "\n",
    "        Params:\n",
    "            M (numpy matrix of shape (number of corpus words, number of corpus words)): co-occurence matrix of word counts\n",
    "            k (int): embedding size of each word after dimension reduction\n",
    "        Return:\n",
    "            M_reduced (numpy matrix of shape (number of corpus words, k)): matrix of k-dimensioal word embeddings.\n",
    "                    In terms of the SVD from math class, this actually returns U * S\n",
    "    \"\"\"\n",
    "    n_iters = 10     # Use this parameter in your call to `TruncatedSVD`\n",
    "    print(\"Running Truncated SVD over %i words...\" % (M.shape[0]))\n",
    "    \n",
    "    # initialize the truncated SVD\n",
    "    svd = TruncatedSVD(n_components=k, n_iter=n_iters, random_state=42)\n",
    "    \n",
    "    # fit the model and transform the data\n",
    "    M_reduced = svd.fit_transform(M)\n",
    "\n",
    "    print(\"Done.\")\n",
    "    return M_reduced"
   ]
  },
  {
   "cell_type": "code",
   "execution_count": 36,
   "metadata": {
    "ExecuteTime": {
     "end_time": "2025-01-21T11:59:14.010059Z",
     "start_time": "2025-01-21T11:59:13.662102Z"
    },
    "id": "hDG1rO_wh2zP"
   },
   "outputs": [
    {
     "name": "stdout",
     "output_type": "stream",
     "text": [
      "Shuffling words ...\n",
      "Putting 10000 words into word2Ind and matrix M...\n",
      "Done.\n",
      "Running Truncated SVD over 10010 words...\n",
      "Done.\n"
     ]
    }
   ],
   "source": [
    "# -----------------------------------------------------------------\n",
    "# Run Cell to Reduce 25-Dimensinal Word Embeddings to k Dimensions\n",
    "# Note: This may take several minutes\n",
    "# -----------------------------------------------------------------\n",
    "M, word2Ind = get_matrix_of_vectors(wv_from_bin)\n",
    "M_reduced = reduce_to_k_dim(M, k=2)"
   ]
  },
  {
   "cell_type": "markdown",
   "metadata": {
    "id": "_0fGsfm-oZG7"
   },
   "source": [
    "**Here is a helper function to plot a set of 2D vectors in 2D space. For graphs, we will use Matplotlib (plt).**"
   ]
  },
  {
   "cell_type": "code",
   "execution_count": 37,
   "metadata": {
    "ExecuteTime": {
     "end_time": "2025-01-21T12:29:14.514936Z",
     "start_time": "2025-01-21T12:29:14.511608Z"
    },
    "id": "bMXt_-QPn0C0"
   },
   "outputs": [],
   "source": [
    "import matplotlib.pyplot as plt\n",
    "\n",
    "def plot_embeddings(M_reduced, word2Ind, words):\n",
    "    \"\"\" Plot in a scatterplot the embeddings of the words specified in the list \"words\".\n",
    "        Include a label next to each point.\n",
    "\n",
    "        Params:\n",
    "            M_reduced (numpy matrix of shape (number of unique words in the corpus, k)): matrix of k-dimensional word embeddings\n",
    "            word2Ind (dict): dictionary that maps word to indices for matrix M\n",
    "            words (list of strings): words whose embeddings we want to visualize\n",
    "    \"\"\"\n",
    "    plt.figure(figsize=(10, 10))\n",
    "    for word in words:\n",
    "        if word in word2Ind:\n",
    "            idx = word2Ind[word]\n",
    "            x, y = M_reduced[idx, 0], M_reduced[idx, 1]\n",
    "            plt.scatter(x, y, marker='o', color='blue')\n",
    "            plt.text(x + 0.02, y + 0.02, word, fontsize=9)\n",
    "        else:\n",
    "            print(f\"Word '{word}' not found in word2Ind dictionary.\")\n",
    "\n",
    "    plt.title(\"Word Embeddings Visualization\")\n",
    "    plt.xlabel(\"Dimension 1\")\n",
    "    plt.ylabel(\"Dimension 2\")\n",
    "    plt.grid(True)\n",
    "    plt.show()"
   ]
  },
  {
   "cell_type": "markdown",
   "metadata": {
    "id": "wBbtacQhorHe"
   },
   "source": [
    "### 2.1: Word2Vec Plot Analysis\n",
    "Run the cell below to plot the 2D word2vec embeddings for ['barrels', 'bpd', 'ecuador', 'energy', 'industry', 'kuwait', 'oil', 'output', 'petroleum', 'venezuela'].\n",
    "\n",
    "What clusters together in 2-dimensional embedding space? What doesn't cluster together that you might think should have? How is the plot different from the one generated earlier from the co-occurrence matrix?"
   ]
  },
  {
   "cell_type": "code",
   "execution_count": 38,
   "metadata": {
    "ExecuteTime": {
     "end_time": "2025-01-21T12:29:24.478033Z",
     "start_time": "2025-01-21T12:29:24.369471Z"
    },
    "id": "usSSq_x3llW6"
   },
   "outputs": [
    {
     "data": {
      "image/png": "[encoded data removed]",
      "text/plain": [
       "<Figure size 1000x1000 with 1 Axes>"
      ]
     },
     "metadata": {},
     "output_type": "display_data"
    }
   ],
   "source": [
    "words = ['barrels', 'bpd', 'ecuador', 'energy', 'industry', 'kuwait', 'oil', 'output', 'petroleum', 'venezuela']\n",
    "plot_embeddings(M_reduced, word2Ind, words)"
   ]
  },
  {
   "cell_type": "markdown",
   "metadata": {
    "id": "Swps7Nsqo0Q5"
   },
   "source": [
    "**<font color=\"red\">[Task]</font>**:Write your answer here."
   ]
  },
  {
   "cell_type": "markdown",
   "metadata": {},
   "source": [
    "- The words \"oil\", \"ecuador\", \"energy\" and \"industry\" are clustered together in the 2-dimensional embedding space, \n",
    "    - this might due to the fact that ecuador is a country that produces oil, and oil is a type of energy that is produced by the industry.  \n",
    "- The words \"petroleum\" and \"barrels\" are also clustered together, \n",
    "    - which makes sense because petroleum is stored in barrels.\n",
    "\n",
    "- The words \"kuwait\" and \"venezuela\" are not clustered together, neither close to any \"industry\" nor \"petroleum\" clusters,\n",
    "    - which is surprising because both are countries that produce oil.\n",
    "    - This might suggest the embeddings are more focused on the geographical aspect rather than their role in the industry.\n",
    "- The word \"output\" is detached from the other words, which is also unexpected because it is related to the industry.\n",
    "    - However, the contextual usage of the word \"output\" might be different from the other words in the list, which could explain the separation.\n",
    "- It is also unexpected that the words \"petroleum\", \"barrels\" and \"oil\" are not clustered together, as they are closely related in meaning.\n",
    "    - This can be attributed to the fact that the embeddings are based on the context in which the words appear rather than their meaning,\n",
    "    - as the \"petroleum\" is used more in technical contexts and \"oil\" can be used in a broader everyday context.\n",
    "\n",
    "**Difference from the co-occurrence matrix:**\n",
    "1. **Word2Vec Embeddings**: \n",
    "The Word2Vec embeddings typically capture the semantic meaning of words based on their context in the corpus. \n",
    "    Words that are semantically similar but do not occur frequently might still be close in the Word2Vec plot.\n",
    "2. **Dimensionality**:\n",
    "The Word2Vec embeddings are reduced to a lower dimension (e.g., 2D) for visualization, \n",
    "    which may lead to some loss of information compared to the more sparse co-occurrence matrix.\n",
    "3. **Contextual Relationships**:\n",
    "Word2Vec embeddings can capture broader contextual relationships, whereas co-occurrence matrices are more focused on direct word associations.\n",
    "    This can result in different clustering patterns, with Word2Vec embeddings reflecting more semantic relationships.\n"
   ]
  },
  {
   "cell_type": "markdown",
   "metadata": {
    "id": "3mbzLnAwdOth"
   },
   "source": [
    "### 2.2 Polysemous Words\n",
    "Find a [polysemous](https://en.wikipedia.org/wiki/Polysemy) word (for example, \"leaves\" or \"scoop\") such that the top-10 most similar words (according to cosine similarity) contains related words from both meanings. For example, \"leaves\" has both \"turns\" and \"ground\" in the top 10, and \"scoop\" has both \"buckets\" and \"pops\". You will probably need to try several polysemous words before you find one. Please state the polysemous word you discover and the multiple meanings that occur in the top 10. Why do you think many of the polysemous words you tried didn't work?\n",
    "\n",
    "Note: You should use the wv_from_bin.most_similar(word) function to get the top 10 similar words. This function ranks all other words in the vocabulary with respect to their cosine similarity to the given word. For further assistance please check the GenSim [documentation](https://radimrehurek.com/gensim/models/keyedvectors.html#gensim.models.keyedvectors.FastTextKeyedVectors.most_similar)."
   ]
  },
  {
   "cell_type": "code",
   "execution_count": 42,
   "metadata": {
    "ExecuteTime": {
     "end_time": "2025-01-21T14:38:12.002686Z",
     "start_time": "2025-01-21T14:38:11.980376Z"
    },
    "id": "f1pUnbtZq-ST"
   },
   "outputs": [
    {
     "name": "stdout",
     "output_type": "stream",
     "text": [
      "Exploring word: paper\n",
      "Top 10 similar words for 'paper':\n",
      "class: 0.8843\n",
      "blank: 0.8797\n",
      "form: 0.8772\n",
      "assignment: 0.8643\n",
      "degree: 0.8639\n",
      "finish: 0.8630\n",
      "setting: 0.8624\n",
      "mid: 0.8597\n",
      "notes: 0.8591\n",
      "grade: 0.8575\n",
      "\n",
      "==================================================\n",
      "\n",
      "Exploring word: set\n",
      "Top 10 similar words for 'set':\n",
      "full: 0.9070\n",
      "open: 0.9033\n",
      "spot: 0.9006\n",
      "box: 0.9000\n",
      "first: 0.8980\n",
      "wall: 0.8910\n",
      "for: 0.8856\n",
      "finish: 0.8836\n",
      "second: 0.8769\n",
      "pack: 0.8760\n",
      "\n",
      "==================================================\n",
      "\n",
      "Exploring word: strike\n",
      "Top 10 similar words for 'strike':\n",
      "attack: 0.8799\n",
      "state: 0.8607\n",
      "rally: 0.8602\n",
      "against: 0.8572\n",
      "court: 0.8419\n",
      "states: 0.8349\n",
      "protest: 0.8338\n",
      "strikes: 0.8326\n",
      "defense: 0.8312\n",
      "threat: 0.8301\n",
      "\n",
      "==================================================\n",
      "\n"
     ]
    }
   ],
   "source": [
    "# List of polysemous words to try\n",
    "polysemous_words = ['paper', 'set', 'strike']\n",
    "\n",
    "def explore_polysemous_words(word):\n",
    "    print(f\"Exploring word: {word}\")\n",
    "    try:\n",
    "        similar_words = wv_from_bin.most_similar(word, topn=10)\n",
    "        print(f\"Top 10 similar words for '{word}':\")\n",
    "        for similar_word, similarity in similar_words:\n",
    "            print(f\"{similar_word}: {similarity:.4f}\")\n",
    "    except KeyError:\n",
    "        print(f\"'{word}' is not in the vocabulary.\")\n",
    "\n",
    "# Iterate over the list of polysemous words\n",
    "for word in polysemous_words:\n",
    "    explore_polysemous_words(word)\n",
    "    print(\"\\n\" + \"=\"*50 + \"\\n\")"
   ]
  },
  {
   "cell_type": "markdown",
   "metadata": {
    "id": "EIiwx3NLrHnV"
   },
   "source": [
    "**<font color=\"red\">[Task]</font>**:Write your answer here."
   ]
  },
  {
   "cell_type": "markdown",
   "metadata": {},
   "source": [
    "**Polysemous Word**: \n",
    "- **paper**:\n",
    "    - meaning 1 (\"blank\", \"notes\"): a thin material used for writing or printing on\n",
    "    - meaning 2 (\"assignment\"): an academic essay or research document\n",
    "- **set**:\n",
    "    - meaning 1 (\"full\", \"open\"): a group of items that belong together\n",
    "    - meaning 2 (\"first\", \"finish\"): to adjust or establish something\n",
    "- **strike**:\n",
    "    - meaning 1 (\"against\", \"attack\"): to hit or attack someone or something\n",
    "    - meaning 2 (\"rally\", \"protest\"): to refuse to work as a form of protest\n",
    "\n",
    "\n",
    "**Why some words might not work**:\n",
    "- vocabulary limitations: some polysemous words may not be present in the pre-trained embeddings vocabulary\n",
    "- contextual bias: the model might be biased towards certain contexts if more prevalent in the training data\n",
    "- embedding quality: the quality of the embeddings can affect the ability to capture multiple meanings"
   ]
  },
  {
   "cell_type": "markdown",
   "metadata": {
    "id": "k8vhD0k0dQ-z"
   },
   "source": [
    "### 2.3: Synonyms & Antonyms\n",
    "\n",
    "When considering Cosine Similarity, it's often more convenient to think of Cosine Distance, which is simply 1 - Cosine Similarity.\n",
    "\n",
    "Find three words (w1,w2,w3) where w1 and w2 are synonyms and w1 and w3 are antonyms, but Cosine Distance(w1,w3) < Cosine Distance(w1,w2). For example, w1=\"happy\" is closer to w3=\"sad\" than to w2=\"cheerful\".\n",
    "\n",
    "Once you have found your example, please give a possible explanation for why this counter-intuitive result may have happened.\n",
    "\n",
    "You should use the the wv_from_bin.distance(w1, w2) function here in order to compute the cosine distance between two words. Please see the GenSim documentation for further assistance.\n"
   ]
  },
  {
   "cell_type": "code",
   "execution_count": 49,
   "metadata": {
    "ExecuteTime": {
     "end_time": "2025-01-21T15:47:25.135112Z",
     "start_time": "2025-01-21T15:47:25.129194Z"
    },
    "id": "Wli3CumGs50-"
   },
   "outputs": [
    {
     "name": "stdout",
     "output_type": "stream",
     "text": [
      "Synonyms rich, affluent have cosine distance: 0.6173582375049591\n",
      "Antonyms rich, poor have cosine distance: 0.20605862140655518\n"
     ]
    }
   ],
   "source": [
    "w1 = \"rich\"\n",
    "w2 = \"affluent\"\n",
    "w3 = \"poor\"\n",
    "w1_w2_dist = wv_from_bin.distance(w1, w2)\n",
    "w1_w3_dist = wv_from_bin.distance(w1, w3)\n",
    "\n",
    "print(\"Synonyms {}, {} have cosine distance: {}\".format(w1, w2, w1_w2_dist))\n",
    "print(\"Antonyms {}, {} have cosine distance: {}\".format(w1, w3, w1_w3_dist))"
   ]
  },
  {
   "cell_type": "markdown",
   "metadata": {
    "id": "gZV7c7_4s9Is"
   },
   "source": [
    "**<font color=\"red\">[Task]</font>**:Write your answer here."
   ]
  },
  {
   "cell_type": "markdown",
   "metadata": {},
   "source": [
    "In this example, the words \"rich\" and \"affluent\" are synonyms, while \"rich\" and \"poor\" are antonyms.\n",
    "The cosine distance between \"rich\" and \"affluent\" is greater than the cosine distance between \"rich\" and \"poor\", \n",
    "    because the words \"rich\" and \"poor\" are more likely to frequently appear in contrasting contexts.\n",
    "Also, the word \"affluent\" is less common and contextually related to more formal or specialized contexts,\n",
    "therefore they may not have as strong a semantic relationship with \"rich\" as \"poor\" does."
   ]
  },
  {
   "cell_type": "markdown",
   "metadata": {
    "id": "l4G2X-TTpzwz"
   },
   "source": [
    "## Task 3: Utilize Word Embeddings\n",
    "\n",
    "Guess, you've seen such pictures already:  \n",
    "\n",
    "![Embeddings Relations](https://www.tensorflow.org/images/linear-relationships.png)\n",
    "*Source: [Tensorflow tutorial on Vector Representations of Words](https://www.tensorflow.org/tutorials/representation/word2vec)*\n",
    "\n",
    "In the first image, we observe the intricate relationships encoded within the word embeddings space. This encompasses various dimensions like gender differences (male-female) or verb tenses.\n",
    "\n",
    "**Interactive Exploration**\n",
    "\n",
    "To delve deeper and interactively explore these relationships, check out these resources:\n",
    "- [Word Vector Demo](http://bionlp-www.utu.fi/wv_demo/)\n",
    "- [Word2Viz](https://lamyiowce.github.io/word2viz/)\n",
    "\n",
    "These tools offer a playful yet insightful experience, allowing you to grasp the nuances and capabilities of word embeddings.\n",
    "\n",
    "**Our task point**\n",
    "\n",
    "Our focus will be on utilizing [gensim](https://radimrehurek.com/gensim/), a well-regarded Python library for word embeddings. Gensim makes it effortless to work with and leverage the power of word embeddings in various applications.\n"
   ]
  },
  {
   "cell_type": "markdown",
   "metadata": {
    "id": "KIvBhh71WIeS"
   },
   "source": [
    "### **3.1 Use Pretrained Embeddings**\n",
    "Base on gensim, we can easily use a well-pretrained embeddings model. There are a number of such models in <font color=\"blue\">gensim</font>, you can call `api.info()` to get the list."
   ]
  },
  {
   "cell_type": "code",
   "execution_count": 50,
   "metadata": {
    "ExecuteTime": {
     "end_time": "2025-01-21T16:40:22.527552Z",
     "start_time": "2025-01-21T16:40:12.486736Z"
    },
    "id": "OEazfh1s9eki"
   },
   "outputs": [],
   "source": [
    "import gensim.downloader as api\n",
    "\n",
    "model = api.load('glove-twitter-25')"
   ]
  },
  {
   "cell_type": "markdown",
   "metadata": {
    "id": "HPQxqjIGZxt_"
   },
   "source": [
    "**use word embedidngs with gensim**\n",
    "\n",
    "Yay, we have loaded well-built word embedings models, now let's learn how to use it.\n",
    "\n",
    "1. To get word's vector, well, call `get_vector`:"
   ]
  },
  {
   "cell_type": "code",
   "execution_count": 51,
   "metadata": {
    "ExecuteTime": {
     "end_time": "2025-01-21T16:40:32.683393Z",
     "start_time": "2025-01-21T16:40:32.679518Z"
    },
    "id": "4uF6iF6A9uGQ"
   },
   "outputs": [
    {
     "data": {
      "text/plain": [
       "array([ 0.47841 ,  0.39537 , -0.3216  ,  0.58639 , -0.48316 ,  0.11402 ,\n",
       "        1.3829  , -0.86081 , -0.81769 , -0.075026, -0.77716 ,  0.58212 ,\n",
       "       -5.2756  , -0.54024 ,  0.39019 ,  0.3941  ,  0.32682 , -0.7274  ,\n",
       "        0.49747 , -0.88427 , -0.062516,  0.035716, -0.28677 ,  0.64153 ,\n",
       "       -0.574   ], dtype=float32)"
      ]
     },
     "execution_count": 51,
     "metadata": {},
     "output_type": "execute_result"
    }
   ],
   "source": [
    "model.get_vector('anything')"
   ]
  },
  {
   "cell_type": "markdown",
   "metadata": {
    "id": "DiXwAZTsaHCf"
   },
   "source": [
    "2. To get most similar words for the given one :"
   ]
  },
  {
   "cell_type": "code",
   "execution_count": 52,
   "metadata": {
    "ExecuteTime": {
     "end_time": "2025-01-21T16:40:41.080949Z",
     "start_time": "2025-01-21T16:40:41.043247Z"
    },
    "id": "57uH83XZaI6p"
   },
   "outputs": [
    {
     "data": {
      "text/plain": [
       "[('meat', 0.9616428017616272),\n",
       " ('corn', 0.961062490940094),\n",
       " ('cheese', 0.9532766342163086),\n",
       " ('noodles', 0.9493104815483093),\n",
       " ('soup', 0.9440536499023438),\n",
       " ('egg', 0.9418218731880188),\n",
       " ('milk', 0.941437304019928),\n",
       " ('chicken', 0.9398934841156006),\n",
       " ('beans', 0.9390753507614136),\n",
       " ('toast', 0.936586856842041)]"
      ]
     },
     "execution_count": 52,
     "metadata": {},
     "output_type": "execute_result"
    }
   ],
   "source": [
    "model.most_similar('bread')"
   ]
  },
  {
   "cell_type": "markdown",
   "metadata": {
    "id": "Rtyp__uQaVcR"
   },
   "source": [
    "3. Analogies with word embeddings\n",
    "\n",
    "It can do such magic (`woman` + `grandfather` - `man`) :\n"
   ]
  },
  {
   "cell_type": "code",
   "execution_count": 53,
   "metadata": {
    "ExecuteTime": {
     "end_time": "2025-01-21T16:40:50.601917Z",
     "start_time": "2025-01-21T16:40:50.582845Z"
    },
    "id": "9igEyCm6aqfU"
   },
   "outputs": [
    {
     "data": {
      "text/plain": [
       "[('grandmother', 0.878795325756073),\n",
       " ('deceased', 0.8755999803543091),\n",
       " ('grandson', 0.8732503652572632),\n",
       " ('granddaughter', 0.8626090884208679),\n",
       " ('mother-in-law', 0.8423668742179871),\n",
       " ('stabs', 0.8338027596473694),\n",
       " ('adopted', 0.8286494612693787),\n",
       " ('marries', 0.825094997882843),\n",
       " ('brother-in-law', 0.8129834532737732),\n",
       " ('fiancee', 0.8020613193511963)]"
      ]
     },
     "execution_count": 53,
     "metadata": {},
     "output_type": "execute_result"
    }
   ],
   "source": [
    "# Run this cell to answer the analogy -- man : grandfather :: woman : x\n",
    "model.most_similar(positive=['woman', 'grandfather'], negative=['man'])"
   ]
  },
  {
   "cell_type": "markdown",
   "metadata": {
    "id": "BwCkJSNraruT"
   },
   "source": [
    "And this too:"
   ]
  },
  {
   "cell_type": "code",
   "execution_count": 54,
   "metadata": {
    "ExecuteTime": {
     "end_time": "2025-01-21T16:40:56.969815Z",
     "start_time": "2025-01-21T16:40:56.956555Z"
    },
    "id": "e4t94HZXa1vd"
   },
   "outputs": [
    {
     "data": {
      "text/plain": [
       "[('gfx', 0.8166244029998779),\n",
       " ('realtor', 0.7994468808174133),\n",
       " ('promoters', 0.7922900319099426),\n",
       " ('promoter', 0.7778065800666809),\n",
       " ('recruiter', 0.7722606658935547),\n",
       " ('digg', 0.7702906727790833),\n",
       " ('sfi', 0.7655168771743774),\n",
       " ('chefs', 0.7650213837623596),\n",
       " ('smallbusiness', 0.7634385824203491),\n",
       " ('realestate', 0.7535584568977356)]"
      ]
     },
     "execution_count": 54,
     "metadata": {},
     "output_type": "execute_result"
    }
   ],
   "source": [
    "model.most_similar([model.get_vector('coder') - model.get_vector('brain') + model.get_vector('money')])"
   ]
  },
  {
   "cell_type": "markdown",
   "metadata": {
    "id": "c23cwWhKvtXp"
   },
   "source": [
    "That is, who is like coder, with money and without brains."
   ]
  },
  {
   "cell_type": "markdown",
   "metadata": {
    "id": "4a15dwaha36x"
   },
   "source": [
    "**<font color=\"red\">[Task]</font>** : Run an interesting analogy example\n",
    "\n",
    "**Hint**: Similar to (`woman` + `grandfather` - `man`)"
   ]
  },
  {
   "cell_type": "code",
   "execution_count": 57,
   "metadata": {
    "ExecuteTime": {
     "end_time": "2025-01-21T16:51:41.341623Z",
     "start_time": "2025-01-21T16:51:41.324938Z"
    },
    "id": "g0D04rXsa_al"
   },
   "outputs": [
    {
     "data": {
      "text/plain": [
       "[('cat', 0.8998715281486511),\n",
       " ('girl', 0.8784939050674438),\n",
       " ('hot', 0.866706132888794),\n",
       " ('dog', 0.8663580417633057),\n",
       " ('mom', 0.8509410619735718),\n",
       " ('cute', 0.8508299589157104),\n",
       " ('sister', 0.8496389985084534),\n",
       " ('boyfriend', 0.8438452482223511),\n",
       " ('friend', 0.843616783618927),\n",
       " ('baby', 0.8392665982246399)]"
      ]
     },
     "execution_count": 57,
     "metadata": {},
     "output_type": "execute_result"
    }
   ],
   "source": [
    "model.most_similar([model.get_vector('dog') - model.get_vector('bark') + model.get_vector('meow')])"
   ]
  },
  {
   "cell_type": "code",
   "execution_count": 56,
   "metadata": {
    "ExecuteTime": {
     "end_time": "2025-01-21T16:50:25.467250Z",
     "start_time": "2025-01-21T16:50:25.456424Z"
    }
   },
   "outputs": [
    {
     "data": {
      "text/plain": [
       "[('wine', 0.9440886378288269),\n",
       " ('beer', 0.9024615287780762),\n",
       " ('drink', 0.8912178874015808),\n",
       " ('drinking', 0.8892882466316223),\n",
       " ('brew', 0.887637197971344),\n",
       " ('drinks', 0.8809452056884766),\n",
       " ('food', 0.8806206583976746),\n",
       " ('tea', 0.8790058493614197),\n",
       " ('tasting', 0.8789594173431396),\n",
       " ('bath', 0.8782932162284851)]"
      ]
     },
     "execution_count": 56,
     "metadata": {},
     "output_type": "execute_result"
    }
   ],
   "source": [
    "model.most_similar(positive=['sunrise', 'coffee'], negative=['sunset'])"
   ]
  },
  {
   "cell_type": "markdown",
   "metadata": {
    "id": "szS69OEObDzy"
   },
   "source": [
    "### **3.2 Finding the Most Similar Sentence**\n",
    "\n",
    "In this section, we present a method for sentence retrieval based on word embeddings.\n",
    "\n",
    "The key point is to construct *sentence embeddings*. The simplest method to obtain a sentence embedding is by averaging the embeddings of the words within the sentence.\n",
    "\n",
    "*You are probably thinking, 'What a dumb idea, why on earth the average of embedding should contain any useful information'. Well, check [this paper](https://arxiv.org/pdf/1805.09843.pdf).*\n",
    "\n"
   ]
  },
  {
   "cell_type": "markdown",
   "metadata": {
    "id": "FPJdCsjtfDxJ"
   },
   "source": [
    "1. Get Sentence Embedding\n",
    "\n",
    "**<font color=\"red\">[Task]</font>** : Implement a function to compute sentence embeddings.\n",
    "\n",
    "**Hint**: Tokenize and lowercase the texts. Calculate the mean embedding for words with known embeddings."
   ]
  },
  {
   "cell_type": "code",
   "execution_count": 60,
   "metadata": {
    "ExecuteTime": {
     "end_time": "2025-01-21T17:03:44.381460Z",
     "start_time": "2025-01-21T17:03:44.378516Z"
    },
    "id": "0LPw1fRg1GaW"
   },
   "outputs": [],
   "source": [
    "def get_sentence_embedding(model, sentence):\n",
    "    \"\"\" Calcs sentence embedding as a mean of known word embeddings in the sentence.\n",
    "    If all the words are unknown, returns zero vector.\n",
    "    :param model: KeyedVectors instance\n",
    "    :param sentence: str or list of str (tokenized text)\n",
    "    \"\"\"\n",
    "    embedding = np.zeros([model.vector_size], dtype='float32')\n",
    "\n",
    "    if isinstance(sentence, str):\n",
    "        words = word_tokenize(sentence.lower())\n",
    "    else:\n",
    "        words = sentence\n",
    "\n",
    "    sum_embedding = np.zeros([model.vector_size], dtype='float32')\n",
    "    words_in_model = 0\n",
    "    \n",
    "    # iterate over the words and sum their embeddings\n",
    "    for word in words:\n",
    "        if word in model:\n",
    "            sum_embedding += model.get_vector(word)\n",
    "            words_in_model += 1\n",
    "            \n",
    "    # compute the average embedding if there are known words\n",
    "    if words_in_model > 0:\n",
    "        embedding = sum_embedding / words_in_model\n",
    "        \n",
    "    return embedding"
   ]
  },
  {
   "cell_type": "markdown",
   "metadata": {
    "id": "1FbZbKPI1OZf"
   },
   "source": [
    "Check it:"
   ]
  },
  {
   "cell_type": "code",
   "execution_count": 61,
   "metadata": {
    "ExecuteTime": {
     "end_time": "2025-01-21T17:03:47.621134Z",
     "start_time": "2025-01-21T17:03:47.618445Z"
    },
    "id": "u5phpDHEcdK9"
   },
   "outputs": [],
   "source": [
    "vector = get_sentence_embedding(model, \"I'm very sure. This never happened to me before...\")\n",
    "assert vector.shape == (model.vector_size,)"
   ]
  },
  {
   "cell_type": "markdown",
   "metadata": {
    "id": "u-8wclbCdTfw"
   },
   "source": [
    "2. **Building the Index**\n",
    "\n",
    "With our method ready, we can now embed all sentences in our corpus for retrieval purposes. In this case, we use data from Quora, sampling 1000 entries randomly, and converting them into sentence embeddings."
   ]
  },
  {
   "cell_type": "code",
   "execution_count": 62,
   "metadata": {
    "ExecuteTime": {
     "end_time": "2025-01-21T17:03:50.646137Z",
     "start_time": "2025-01-21T17:03:50.131110Z"
    },
    "id": "P6B2c-bJdCrB"
   },
   "outputs": [],
   "source": [
    "quora_data = pd.read_csv('train.csv')\n",
    "corpus = list(quora_data.sample(1000)[['question1']].question1.replace(np.nan, '', regex=True).unique())\n",
    "text_vectors = np.array([get_sentence_embedding(model, sentence) for sentence in corpus])"
   ]
  },
  {
   "cell_type": "code",
   "execution_count": 63,
   "metadata": {
    "ExecuteTime": {
     "end_time": "2025-01-21T17:03:53.141550Z",
     "start_time": "2025-01-21T17:03:53.137734Z"
    },
    "id": "NXrJ-R8leSWR"
   },
   "outputs": [
    {
     "data": {
      "text/plain": [
       "\"How is the word 'balk' used in a sentence?\""
      ]
     },
     "execution_count": 63,
     "metadata": {},
     "output_type": "execute_result"
    }
   ],
   "source": [
    "corpus[0]"
   ]
  },
  {
   "cell_type": "markdown",
   "metadata": {
    "id": "QiMtj5dXebbY"
   },
   "source": [
    "3. **Search**\n",
    "\n",
    "Now we are able perform search of the nearest neighbours to the given sentences in our base!\n",
    "\n",
    "\n",
    "We'll use cosine similarity of two vectors:\n",
    "$$\\text{cosine_similarity}(x, y) = \\frac{x^{T} y}{||x||\\cdot ||y||}$$\n",
    "\n",
    "*It's not a [distance](https://www.encyclopediaofmath.org/index.php/Metric) strictly speaking but we still can use it to search for the sentence vectors.*\n",
    "\n",
    "**<font color=\"red\">[Task]</font>** : IImplement the following function.\n",
    "\n",
    "**Hint:** Calc the similarity between `query` embedding and `text_vectors` using `cosine_similarity` function. Find `k` vectors with highest scores and return corresponding texts from `texts` list."
   ]
  },
  {
   "cell_type": "code",
   "execution_count": 65,
   "metadata": {
    "ExecuteTime": {
     "end_time": "2025-01-21T17:08:16.035108Z",
     "start_time": "2025-01-21T17:08:16.030637Z"
    },
    "id": "ynEJW6E7eg0c"
   },
   "outputs": [],
   "source": [
    "from sklearn.metrics.pairwise import cosine_similarity\n",
    "\n",
    "def find_nearest(model, text_vectors, texts, query, k=10):\n",
    "    \"\"\"\n",
    "    Find the nearest neighbours to the given query sentence.\n",
    "\n",
    "    :param model: KeyedVectors instance\n",
    "    :param text_vectors: List of sentence embeddings (numpy arrays)\n",
    "    :param texts: List of corresponding texts\n",
    "    :param query: Query sentence (str)\n",
    "    :param k: Number of nearest neighbours to return\n",
    "    :return: List of the top k most similar texts\n",
    "    \"\"\"\n",
    "    # Get the embedding for the query sentence\n",
    "    query_vec = get_sentence_embedding(model, query).reshape(1, -1)\n",
    "    \n",
    "    # Calculate cosine similarities between the query and all text vectors\n",
    "    similarities = cosine_similarity(query_vec, text_vectors)\n",
    "    \n",
    "    # Get the indices of the top k most similar texts\n",
    "    top_k_indices = np.argsort(similarities[0])[-k:][::-1]\n",
    "    \n",
    "    # Retrieve the corresponding texts\n",
    "    top_k_texts = [texts[i] for i in top_k_indices]\n",
    "    \n",
    "    return top_k_texts"
   ]
  },
  {
   "cell_type": "markdown",
   "metadata": {
    "id": "is8SoYmHkQo5"
   },
   "source": [
    "Check it!"
   ]
  },
  {
   "cell_type": "code",
   "execution_count": 66,
   "metadata": {
    "ExecuteTime": {
     "end_time": "2025-01-21T17:08:18.459922Z",
     "start_time": "2025-01-21T17:08:18.454694Z"
    },
    "id": "49s4zB1OjXd4"
   },
   "outputs": [
    {
     "data": {
      "text/plain": [
       "['What is the one thing you regret doing the most in your life?',\n",
       " 'What is it like to not have friends in your childhood?',\n",
       " \"What's the most important thing about your car?\",\n",
       " 'What is the kind of person you want to be?',\n",
       " \"What's your take on this? Is the writer correct, that history is about to repeat it self, as it has so many times?\",\n",
       " 'What do you want less of in your life?',\n",
       " 'What do you feel is the purpose of life?',\n",
       " 'Can you explain what is the difference between NEFT/RTGS/IMPS?',\n",
       " 'What is the best way to get over guilt?',\n",
       " 'Why is it wrong to take a human life?']"
      ]
     },
     "execution_count": 66,
     "metadata": {},
     "output_type": "execute_result"
    }
   ],
   "source": [
    "find_nearest(model, text_vectors, corpus, \"What's your biggest regret in life?\", k=10)"
   ]
  },
  {
   "cell_type": "markdown",
   "metadata": {
    "id": "qA5CwGV8jU5_"
   },
   "source": [
    "### **Bias of Word Embeddings**\n",
    "\n",
    "It's important to be cognizant of the biases (gender, race, sexual orientation etc.) implicit in our word embeddings. Bias can be dangerous because it can reinforce stereotypes through applications that employ these models.\n",
    "\n"
   ]
  },
  {
   "cell_type": "markdown",
   "metadata": {
    "id": "pdIUrmnJxGvL"
   },
   "source": [
    "Here's an example showing word embeddings biases on gender:"
   ]
  },
  {
   "cell_type": "code",
   "execution_count": 67,
   "metadata": {
    "ExecuteTime": {
     "end_time": "2025-01-21T17:08:44.112564Z",
     "start_time": "2025-01-21T17:08:44.084996Z"
    },
    "colab": {
     "base_uri": "https://localhost:8080/"
    },
    "id": "gWngJZCWxduU",
    "outputId": "661978c9-f2ee-4de1-ac10-935593d60c5f"
   },
   "outputs": [
    {
     "name": "stdout",
     "output_type": "stream",
     "text": [
      "[('maths', 0.7983576059341431), ('basis', 0.7973601818084717), ('humør', 0.7948898673057556), ('cert', 0.7902684211730957), ('mulig', 0.7874146103858948), ('spændende', 0.7728654742240906), ('dårligt', 0.7700907588005066), ('latter', 0.7676339745521545), ('noget', 0.7676041722297668), ('vet', 0.7675378918647766)]\n",
      "\n",
      "[('representation', 0.871566116809845), ('encourages', 0.8626720309257507), ('empowering', 0.8612703084945679), ('intellectual', 0.8564386963844299), ('influences', 0.8559868931770325), ('ethical', 0.8550472259521484), ('affairs', 0.8541139960289001), ('behaviors', 0.8481355309486389), ('advocacy', 0.8439522385597229), ('critic', 0.8406821489334106)]\n"
     ]
    }
   ],
   "source": [
    "print(model.most_similar(positive=['man', 'profession'], negative=['woman']))\n",
    "print()\n",
    "print(model.most_similar(positive=['woman', 'profession'], negative=['man']))"
   ]
  },
  {
   "cell_type": "markdown",
   "metadata": {
    "id": "zpFDY9BByDBj"
   },
   "source": [
    "**<font color=\"red\">[Task]</font>** Identify an example of bias.\n",
    "\n",
    "**Hint:** Consider providing an example from perspectives such as race or sexual orientation."
   ]
  },
  {
   "cell_type": "code",
   "execution_count": 82,
   "metadata": {
    "ExecuteTime": {
     "end_time": "2025-01-21T18:06:26.914366Z",
     "start_time": "2025-01-21T18:06:26.895409Z"
    },
    "id": "np_RQalnx0Bb"
   },
   "outputs": [
    {
     "name": "stdout",
     "output_type": "stream",
     "text": [
      "[('ferrari', 0.8307655453681946), ('fiat', 0.8111298680305481), ('palazzo', 0.8071819543838501), ('corsa', 0.7820865511894226), ('audi', 0.7625539898872375), ('bmw', 0.7623448967933655), ('vetro', 0.7586584091186523), ('convertible', 0.7570470571517944), ('torino', 0.7499173283576965), ('pantalon', 0.7435175776481628)]\n",
      "\n",
      "[('reebok', 0.8867260217666626), ('lexus', 0.8372002243995667), ('diesel', 0.823449969291687), ('ford', 0.8228262662887573), ('lamborghini', 0.8195081949234009), ('bentley', 0.81745845079422), ('suzuki', 0.8081701397895813), ('benz', 0.8081269860267639), ('vw', 0.806358277797699), ('mustang', 0.805835485458374)]\n"
     ]
    }
   ],
   "source": [
    "print(model.most_similar(positive=['male', 'porsche'], negative=['female']))\n",
    "print()\n",
    "print(model.most_similar(positive=['female', 'porsche'], negative=['male']))"
   ]
  },
  {
   "cell_type": "code",
   "execution_count": 121,
   "metadata": {
    "ExecuteTime": {
     "end_time": "2025-01-21T18:47:01.995292Z",
     "start_time": "2025-01-21T18:47:01.980297Z"
    }
   },
   "outputs": [
    {
     "name": "stdout",
     "output_type": "stream",
     "text": [
      "[('record', 0.7542399764060974), ('finals', 0.7468225955963135), ('game', 0.7344352602958679), ('score', 0.7338648438453674), ('pass', 0.733723521232605), ('run', 0.7325698733329773), ('camp', 0.7323557734489441), ('penalty', 0.7181436419487), ('war', 0.7165583968162537), ('stream', 0.716280996799469)]\n",
      "\n",
      "[('threatens', 0.8712397813796997), ('u.s.', 0.8623062372207642), ('military', 0.8556684851646423), ('domestic', 0.8544806838035583), ('attacks', 0.8451375961303711), ('threat', 0.8371431231498718), ('strikes', 0.8350241780281067), ('fires', 0.8322189450263977), ('guards', 0.8315553069114685), ('forces', 0.8311752080917358)]\n"
     ]
    }
   ],
   "source": [
    "print(model.most_similar(positive=['man', 'strike'], negative=['woman']))\n",
    "print()\n",
    "print(model.most_similar(positive=['woman', 'strike'], negative=['man']))"
   ]
  },
  {
   "cell_type": "markdown",
   "metadata": {
    "id": "902RJydFyjMx"
   },
   "source": [
    "**<font color=\"red\">[Task]</font>** Thinking About Bias.\n",
    "\n",
    "**Hint:** Briefly explain how bias can be introduced into word embeddings and suggest one method to mitigate these biases."
   ]
  },
  {
   "cell_type": "markdown",
   "metadata": {
    "id": "P8zWOHg3065B"
   },
   "source": [
    "**<font color=\"red\">Write your answer here.</font>**\n",
    "\n"
   ]
  },
  {
   "cell_type": "markdown",
   "metadata": {},
   "source": [
    "Bias in word embeddings often arises from the data used to train the models, which can reflect societal biases present in the text corpora. \n",
    "\n",
    "- In the provided examples, the [\"male\", \"porsche\" - \"female\"] returns completely different car brands compared to [\"female\", \"porsche\" - \"male\"].\n",
    "    - this bias can be attributed to the underlying marketing and societal stereotypes associated with certain car brands. \n",
    "    - for instance, Audi and BMW are more popular among male consumers, while women favour more on Bentley and Mercedes-Benz.\n",
    "    - this can be a reflection of the gendered marketing strategies and consumer preferences in the automotive industry, simply affecting the text embeddings on the training data.\n",
    "    \n",
    "    \n",
    "- Another example is [\"male\", \"strike\" - \"female\"] and [\"female\", \"strike\" - \"male\"].\n",
    "    - the results show that \"strike\" is more associated with sports and competitive activities such as \"record\" and \"game\", because men watch and participate sport games more commonly.\n",
    "    - when it comes to women, such association is weakened, and the results are more closed to the original word \"strike\" (i.e., \"attack\" and \"threaten\").\n",
    "    - this reflects the gendered stereotypes and societal expectations around the roles and activities can affect the sentences thus the training on embeddings.\n",
    "    \n",
    "**Method to Mitigate Bias**\n",
    "\n",
    "For gender bias, one can try to debias the embeddings by neutralizing the gender direction in the embeddings space,\n",
    "    or equalize the embeddings of gender-specific words (i.e., actor and actress) to ensure they are equally associated with the gender-neutral terms."
   ]
  },
  {
   "cell_type": "markdown",
   "metadata": {
    "id": "xqDmuu7m_PB5"
   },
   "source": [
    "## Supplementary Materials\n",
    "Source from [DeepNLP-Course of DanAnastasyev](https://colab.research.google.com/drive/1o65wrq6RYgWyyMvNP8r9ZknXBniDoXrn#forceEdit=true&offline=true&sandboxMode=true)\n",
    "\n",
    "## To read\n",
    "### Blogs\n",
    "[On word embeddings - Part 1, Sebastian Ruder](http://ruder.io/word-embeddings-1/)  \n",
    "[On word embeddings - Part 2: Approximating the Softmax, Sebastian Ruder](http://ruder.io/word-embeddings-softmax/index.html)  \n",
    "[Word2Vec Tutorial - The Skip-Gram Model, Chris McCormick](http://mccormickml.com/2016/04/19/word2vec-tutorial-the-skip-gram-model/)  \n",
    "[Word2Vec Tutorial Part 2 - Negative Sampling, Chris McCormick](http://mccormickml.com/2017/01/11/word2vec-tutorial-part-2-negative-sampling/)\n",
    "\n",
    "### Papers\n",
    "[Word2vec Parameter Learning Explained (2014), Xin Rong](https://arxiv.org/abs/1411.2738)  \n",
    "[Neural word embedding as implicit matrix factorization (2014), Levy, Omer, and Yoav Goldberg](http://u.cs.biu.ac.il/~nlp/wp-content/uploads/Neural-Word-Embeddings-as-Implicit-Matrix-Factorization-NIPS-2014.pdf)  \n",
    "\n",
    "### Enhancing Embeddings\n",
    "[Two/Too Simple Adaptations of Word2Vec for Syntax Problems (2015), Ling, Wang, et al.](https://www.aclweb.org/anthology/N/N15/N15-1142.pdf)  \n",
    "[Not All Neural Embeddings are Born Equal (2014)](https://arxiv.org/pdf/1410.0718.pdf)  \n",
    "[Retrofitting Word Vectors to Semantic Lexicons (2014), M. Faruqui, et al.](https://arxiv.org/pdf/1411.4166.pdf)  \n",
    "[All-but-the-top: Simple and Effective Postprocessing for Word Representations (2017), Mu, et al.](https://arxiv.org/pdf/1702.01417.pdf)  \n",
    "\n",
    "### Sentence Embeddings\n",
    "[Skip-Thought Vectors (2015), Kiros, et al.](https://arxiv.org/pdf/1506.06726)  \n",
    "\n",
    "### Backpropagation\n",
    "[Backpropagation, Intuitions, cs231n + next parts in the Module 1](http://cs231n.github.io/optimization-2/)   \n",
    "[Calculus on Computational Graphs: Backpropagation, Christopher Olah](http://colah.github.io/posts/2015-08-Backprop/)\n",
    "\n",
    "## To watch\n",
    "[cs224n \"Lecture 2 - Word Vector Representations: word2vec\"](https://www.youtube.com/watch?v=ERibwqs9p38&index=2&list=PLqdrfNEc5QnuV9RwUAhoJcoQvu4Q46Lja&t=0s)  \n",
    "[cs224n \"Lecture 5 - Backpropagation\"](https://www.youtube.com/watch?v=isPiE-DBagM&index=5&list=PLqdrfNEc5QnuV9RwUAhoJcoQvu4Q46Lja&t=0s)   \n"
   ]
  },
  {
   "cell_type": "markdown",
   "metadata": {
    "id": "CJ_O-O0wkool"
   },
   "source": [
    "\n",
    "## Acknowledgement\n",
    "\n",
    "This assignment was developed with reference to the following course materials:\n",
    "- [DeepNLP Course by Dan Anastasyev](https://github.com/DanAnastasyev/DeepNLP-Course?tab=readme-ov-file)\n",
    "- [Exploring Word Vectors from Stanford's CS224N](https://web.stanford.edu/class/cs224n/assignments/a1_preview/exploring_word_vectors.html)\n",
    "- [Natural Language Processing course from Princeton University](https://nlp.cs.princeton.edu/cos484-sp21/)\n",
    "- [Yandex Data School NLP Course Week 1 Seminar](https://colab.research.google.com/github/yandexdataschool/nlp_course/blob/2023/week01_embeddings/seminar.ipynb#scrollTo=9m7GZWVk-jrW)\n"
   ]
  }
 ],
 "metadata": {
  "accelerator": "GPU",
  "colab": {
   "gpuType": "T4",
   "provenance": [],
   "toc_visible": true
  },
  "kernelspec": {
   "display_name": "Python 3 (ipykernel)",
   "language": "python",
   "name": "python3"
  }
 },
 "nbformat": 4,
 "nbformat_minor": 0
}
