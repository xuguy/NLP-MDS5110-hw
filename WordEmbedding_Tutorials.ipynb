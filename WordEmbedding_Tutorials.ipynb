{
  "cells": [
    {
      "cell_type": "markdown",
      "metadata": {
        "id": "8rK5IxppLRHM"
      },
      "source": [
        "### **1.1 Preparation**"
      ]
    },
    {
      "cell_type": "markdown",
      "metadata": {
        "id": "blHR2OjyO5mg"
      },
      "source": [
        "Environment installation and data download"
      ]
    },
    {
      "cell_type": "code",
      "execution_count": 1,
      "metadata": {
        "colab": {
          "base_uri": "https://localhost:8080/"
        },
        "id": "9vacV4BIFI8l",
        "outputId": "de57f77b-4eb8-4116-f661-2df4a442dc25"
      },
      "outputs": [],
      "source": [
        "# !pip3 -qq install torch==1.1\n",
        "# !pip uninstall -y nltk\n",
        "# !pip -qq install nltk==3.8\n",
        "# !pip -qq install gensim\n",
        "# !pip -qq install bokeh==3.2.0\n",
        "\n",
        "# we have already download everything so no need\n",
        "# !wget -O quora.zip -qq --no-check-certificate \"https://drive.google.com/uc?export=download&id=1ERtxpdWOgGQ3HOigqAMHTJjmOE_tWvoF\"\n",
        "# !unzip -o quora.zip\n",
        "\n",
        "import nltk\n",
        "# nltk.download('punkt')\n",
        "import time\n",
        "import math\n",
        "import numpy as np\n",
        "import matplotlib.pyplot as plt\n",
        "\n",
        "import torch\n",
        "import torch.autograd as autograd\n",
        "import torch.nn as nn\n",
        "import torch.nn.functional as F\n",
        "import torch.optim as optim\n",
        "\n",
        "from IPython.display import clear_output\n",
        "%matplotlib inline\n",
        "np.random.seed(42)\n",
        "\n",
        "import pandas as pd\n",
        "from nltk.tokenize import word_tokenize\n",
        "from tqdm import tqdm\n"
      ]
    },
    {
      "cell_type": "markdown",
      "metadata": {
        "id": "wgSYdy30O_UZ"
      },
      "source": [
        "1. Tokenize and lower-case texts."
      ]
    },
    {
      "cell_type": "code",
      "execution_count": 2,
      "metadata": {
        "colab": {
          "base_uri": "https://localhost:8080/"
        },
        "id": "t27TcJKJO-ry",
        "outputId": "9c52414e-80e1-4414-ed70-c32321a87b05"
      },
      "outputs": [
        {
          "name": "stdout",
          "output_type": "stream",
          "text": [
            "50000\n"
          ]
        },
        {
          "name": "stderr",
          "output_type": "stream",
          "text": [
            "100%|██████████| 50000/50000 [00:02<00:00, 24604.83it/s]\n"
          ]
        }
      ],
      "source": [
        "quora_data = pd.read_csv('train.csv')\n",
        "\n",
        "quora_data.question1 = quora_data.question1.replace(np.nan, '', regex=True)\n",
        "quora_data.question2 = quora_data.question2.replace(np.nan, '', regex=True)\n",
        "\n",
        "texts = list(pd.concat([quora_data.question1, quora_data.question2]).unique())\n",
        "texts = texts[:50000] # Accelerated operation\n",
        "print(len(texts))\n",
        "\n",
        "tokenized_texts = [word_tokenize(text.lower()) for text in tqdm(texts)]\n",
        "\n",
        "assert len(tokenized_texts) == len(texts)\n",
        "assert isinstance(tokenized_texts[0], list)\n",
        "assert isinstance(tokenized_texts[0][0], str)"
      ]
    },
    {
      "cell_type": "code",
      "execution_count": 3,
      "metadata": {
        "colab": {
          "base_uri": "https://localhost:8080/"
        },
        "id": "C9K7y4mD2UK2",
        "outputId": "e458634d-ca1b-4134-9995-56d6677bc787"
      },
      "outputs": [
        {
          "data": {
            "text/plain": [
              "['what',\n",
              " 'is',\n",
              " 'the',\n",
              " 'step',\n",
              " 'by',\n",
              " 'step',\n",
              " 'guide',\n",
              " 'to',\n",
              " 'invest',\n",
              " 'in',\n",
              " 'share',\n",
              " 'market',\n",
              " 'in',\n",
              " 'india',\n",
              " '?']"
            ]
          },
          "execution_count": 3,
          "metadata": {},
          "output_type": "execute_result"
        }
      ],
      "source": [
        "tokenized_texts[0]"
      ]
    },
    {
      "cell_type": "markdown",
      "metadata": {
        "id": "QYoj91iDDDfT"
      },
      "source": [
        "2. Collect the indices of the words:"
      ]
    },
    {
      "cell_type": "code",
      "execution_count": 4,
      "metadata": {
        "colab": {
          "base_uri": "https://localhost:8080/"
        },
        "id": "5PL471pGjuVN",
        "outputId": "18c910a8-de85-4fec-a19e-63158cb4e89c"
      },
      "outputs": [
        {
          "name": "stdout",
          "output_type": "stream",
          "text": [
            "Vocabulary size: 7226\n",
            "Tokens count: 623563\n",
            "Unknown tokens appeared: 35607\n",
            "Most freq words: ['?', 'the', 'what', 'is', 'how', 'i', 'a', 'to', 'in', 'do', 'of', 'are', 'and', 'can', 'for', ',', 'you', 'why', 'it', 'best']\n"
          ]
        }
      ],
      "source": [
        "from collections import Counter\n",
        "\n",
        "MIN_COUNT = 5\n",
        "\n",
        "words_counter = Counter(token for tokens in tokenized_texts for token in tokens)\n",
        "word2index = {\n",
        "    '<unk>': 0\n",
        "}\n",
        "\n",
        "for word, count in words_counter.most_common():\n",
        "    if count < MIN_COUNT:\n",
        "        break\n",
        "\n",
        "    word2index[word] = len(word2index)\n",
        "\n",
        "index2word = [word for word, _ in sorted(word2index.items(), key=lambda x: x[1])]\n",
        "\n",
        "print('Vocabulary size:', len(word2index))\n",
        "print('Tokens count:', sum(len(tokens) for tokens in tokenized_texts))\n",
        "print('Unknown tokens appeared:', sum(1 for tokens in tokenized_texts for token in tokens if token not in word2index))\n",
        "print('Most freq words:', index2word[1:21])"
      ]
    },
    {
      "cell_type": "markdown",
      "metadata": {
        "id": "jHEQOelqQwqP"
      },
      "source": [
        "3. collect the context words\n",
        "\n",
        "First of all, we need to collect all the contexts from our corpus."
      ]
    },
    {
      "cell_type": "code",
      "execution_count": 5,
      "metadata": {
        "id": "ocrsXgaynYPG"
      },
      "outputs": [],
      "source": [
        "def build_contexts(tokenized_texts, window_size):\n",
        "    contexts = []\n",
        "    for tokens in tokenized_texts:\n",
        "        for i in range(len(tokens)):\n",
        "            central_word = tokens[i]\n",
        "            context = [tokens[i + delta] for delta in range(-window_size, window_size + 1)\n",
        "                       if delta != 0 and i + delta >= 0 and i + delta < len(tokens)]\n",
        "\n",
        "            contexts.append((central_word, context))\n",
        "\n",
        "    return contexts\n",
        "\n",
        "contexts = build_contexts(tokenized_texts, window_size=2)"
      ]
    },
    {
      "cell_type": "markdown",
      "metadata": {
        "id": "8o_ePiZ7wfpT"
      },
      "source": [
        "Check, what you got:"
      ]
    },
    {
      "cell_type": "code",
      "execution_count": 6,
      "metadata": {
        "colab": {
          "base_uri": "https://localhost:8080/"
        },
        "id": "KyQNK-9SBdb9",
        "outputId": "ba920d40-3c44-423c-dc7e-db2532390e33"
      },
      "outputs": [
        {
          "data": {
            "text/plain": [
              "[('what', ['is', 'the']),\n",
              " ('is', ['what', 'the', 'step']),\n",
              " ('the', ['what', 'is', 'step', 'by']),\n",
              " ('step', ['is', 'the', 'by', 'step']),\n",
              " ('by', ['the', 'step', 'step', 'guide'])]"
            ]
          },
          "execution_count": 6,
          "metadata": {},
          "output_type": "execute_result"
        }
      ],
      "source": [
        "contexts[:5]"
      ]
    },
    {
      "cell_type": "markdown",
      "metadata": {
        "id": "pbQKln_6yC4l"
      },
      "source": [
        "4. Convert to indices\n",
        "\n",
        "Let's convert words to indices:"
      ]
    },
    {
      "cell_type": "code",
      "execution_count": 7,
      "metadata": {
        "id": "hOPRlKlLvUBA"
      },
      "outputs": [],
      "source": [
        "contexts = [(word2index.get(central_word, 0), [word2index.get(word, 0) for word in context])\n",
        "            for central_word, context in contexts]"
      ]
    },
    {
      "cell_type": "markdown",
      "metadata": {
        "id": "DF5mYpCsE9Uh"
      },
      "source": [
        "### **1.2 Skip-Gram Word2vec**"
      ]
    },
    {
      "cell_type": "markdown",
      "metadata": {
        "id": "om1IG5XEMGRa"
      },
      "source": [
        "Word2vec is actually a set of models used to build word embeddings.\n",
        "\n",
        "We are going to start with the *skip-gram model*.\n",
        "\n",
        "It's a very simple neural network with just two layers. It aims to build word vectors that encode information about the co-occurring words:  \n",
        "![](https://i.ibb.co/nL0LLD2/Word2vec-Example.jpg)  \n",
        "\n",
        "More precisely, it models the probabilities $\\{P(w_{c+j}|w_c):  j = c-k, ..., c+k, j \\neq c\\}$, where $k$ is the context window size, $c$ is index of the central word (which embedding we are trying to optimize).\n",
        "\n",
        "The learnable parameters of the model are following: matrix $U$ (embeddings' matrix that is used in all downstream tasks. In gensim it's called `syn0`) and matrix $V$ - output layer of the model (in gensim it's called `syn1`).\n",
        "\n",
        "Two vectors correspond to each word: a row in $U$ and a column in $V$. That is $U \\in \\mathbb{R}^{|V|, d}$ and $V \\in \\mathbb{R}^{d, |V|}$, where $d$ is embedding size and $|V|$ is the vocabulary size.\n",
        "\n",
        "As a result, the neural network looks this way:  \n",
        "![skip-gram](https://i.ibb.co/F54XzDC/SkipGram.png)\n",
        "\n",
        "What's going on and how it is connected to probability and word context?\n",
        "\n",
        "Well, the word is mapped to its embedding $u_c$. Then this embedding is multiplied to matrix $V$.\n",
        "\n",
        "As a result, we obtain the set of scores $\\{v_j^T u_c : j \\in {0, \\ldots, |V|}\\}$. Each corresponds to the similarity between the word $w_j$ vector and our word vector. It's very similar to the cosine similarity we calculated in the previous lesson, but without normalization.\n",
        "\n",
        "This similarities show how likely $w_j$ can be in context of word $w_c$. That means, that they can be converted to probability using the softmax function:\n",
        "$$P(w_j | w_c) = \\frac{\\exp(v_{j}^T u_c)}{\\sum_{i=1}^{|V|} \\exp(v_i^T u_c)}.$$\n",
        "\n",
        "So for each word we calculate such probability distribution over our vocabulary. It's shown in using blue bars in the picture above. More likely word - bluer is the corresponding cell.\n",
        "\n",
        "The model learns to distribute the probabilities between the co-occuring words for the given one. We'll use cross-entropy loss for it:\n",
        "$$-\\sum_{-k \\leq j \\leq k, j \\neq 0} \\log \\frac{\\exp(v_{c+j}^T u_c)}{\\sum_{i=1}^{|V|} \\exp(v_i^T u_c)} \\to \\min_{U, V}.$$\n",
        "\n",
        "For instance, for the sample from the picture model will be penalized if it outputs a low probability of word `over`.\n",
        "\n",
        "Please, notice that we calculate the similarity between vectors from different vector spaces. $u_c$ is the vector from the input embeddings and $v_j$ is the vector from the output embeddings. A high similarity between them means that they co-occur frequently, not that they are similar in the syntactic role or their semantics.\n",
        "\n",
        "On the other hand, the similarity between $u_k$ and $u_m$ means that their output distributions are similar. And that means exactly that the similarity of the count vectors we discussed before and also most probably means their syntactic or semantic similarity.\n",
        "\n",
        "Check this demo to understand what's going on in more depth: [https://ronxin.github.io/wevi/](https://ronxin.github.io/wevi/).\n",
        "\n",
        "Let's implement it now!"
      ]
    },
    {
      "cell_type": "markdown",
      "metadata": {
        "id": "GYmrAi9gyIe-"
      },
      "source": [
        "1. **Batches Generations**\n",
        "\n",
        "Neural networks are optimized using stochastic gradient descent methods. This requires a batch generator, a function that produces samples for optimizing the neural network.\n",
        "\n",
        "**Implementation of a Batch Generator:**"
      ]
    },
    {
      "cell_type": "code",
      "execution_count": 8,
      "metadata": {
        "id": "wC9SifFU5iQP"
      },
      "outputs": [],
      "source": [
        "import random\n",
        "\n",
        "def make_skip_gram_batches_iter(contexts, window_size, num_skips, batch_size):\n",
        "\n",
        "    '''\n",
        "    params 含义\n",
        "    - contexts: 原始数据，假设为 (central_word<str>, context_words<tuple>) 的列表\n",
        "    - window_size: 上下文窗口半径（总窗口大小为 2 * window_size）\n",
        "    - num_skips: 每个中心词sample的上下文词的数量（每个中心词生成 num_skips 个样本）,2, 每个中心词在2*window_size的范围内随机采样num_skips个上下文词，因此你可以在最后生成的batch中观察到，tokens总是重复num_skips遍\n",
        "    - batch_size: 每个批次的总样本数, 32\n",
        "\n",
        "    assert 检查\n",
        "    - batch_size 必须是 num_skips 的倍数，保证每个中心词生成的样本能均匀分配到批次中。\n",
        "    - num_skips 不能超过总上下文词数量（2 * window_size）。\n",
        "\n",
        "    '''\n",
        "    assert batch_size % num_skips == 0\n",
        "    assert num_skips <= 2 * window_size\n",
        "\n",
        "    central_words = [word for word, context in contexts if len(context) == 2 * window_size and word != 0]\n",
        "    contexts = [context for word, context in contexts if len(context) == 2 * window_size and word != 0]\n",
        "\n",
        "    batch_size = int(batch_size / num_skips)\n",
        "    batches_count = int(math.ceil(len(contexts) / batch_size))\n",
        "\n",
        "    print('Initializing batches generator with {} batches per epoch'.format(batches_count))\n",
        "\n",
        "    indices = np.arange(len(contexts))\n",
        "    np.random.shuffle(indices)\n",
        "\n",
        "    for i in range(batches_count):\n",
        "        batch_begin, batch_end = i * batch_size, min((i + 1) * batch_size, len(contexts))\n",
        "        batch_indices = indices[batch_begin: batch_end]\n",
        "\n",
        "        batch_data, batch_labels = [], []\n",
        "\n",
        "        for data_ind in batch_indices:\n",
        "            central_word, context = central_words[data_ind], contexts[data_ind]\n",
        "\n",
        "            words_to_use = random.sample(context, num_skips)\n",
        "            batch_data.extend([central_word] * num_skips)\n",
        "            batch_labels.extend(words_to_use)\n",
        "        yield {\n",
        "            'tokens': torch.LongTensor(batch_data),\n",
        "            'labels': torch.LongTensor(batch_labels)\n",
        "        }"
      ]
    },
    {
      "cell_type": "markdown",
      "metadata": {
        "id": "rmRGZ-vG5iQR"
      },
      "source": [
        "Check it:"
      ]
    },
    {
      "cell_type": "code",
      "execution_count": 11,
      "metadata": {
        "colab": {
          "base_uri": "https://localhost:8080/"
        },
        "id": "L_Yeowx15iQS",
        "outputId": "84f7c5aa-fa49-4135-ed2c-c2d14f824903"
      },
      "outputs": [
        {
          "name": "stdout",
          "output_type": "stream",
          "text": [
            "Initializing batches generator with 24760 batches per epoch\n"
          ]
        },
        {
          "data": {
            "text/plain": [
              "{'tokens': tensor([ 592,  592,    3,    3,    6,    6,   24,   24, 2061, 2061,    9,    9,\n",
              "          773,  773,  528,  528,   21,   21,   66,   66,    8,    8,   70,   70,\n",
              "           11,   11,    8,    8,    2,    2, 1847, 1847]),\n",
              " 'labels': tensor([  17,   28,  132,   16,  763,   62,    9,    1,    2,   11,    1,   39,\n",
              "           60,   15,   46, 1312, 3245, 1925,  478,  478,  574,  156,   10,   92,\n",
              "            2,   20,   86,   30,   35,   15,  169,  408])}"
            ]
          },
          "execution_count": 11,
          "metadata": {},
          "output_type": "execute_result"
        }
      ],
      "source": [
        "batch = next(make_skip_gram_batches_iter(contexts, window_size=2, num_skips=2, batch_size=32))\n",
        "\n",
        "batch['tokens'].shape#32\n",
        "batch"
      ]
    },
    {
      "cell_type": "markdown",
      "metadata": {
        "id": "6DXjZS3JyQZh"
      },
      "source": [
        "2. **Model**\n",
        "\n",
        "Here is the model implementation of skip-gram model, which has only two layers of neural networks."
      ]
    },
    {
      "cell_type": "code",
      "execution_count": 8,
      "metadata": {
        "id": "WRw9Z4G__46O"
      },
      "outputs": [],
      "source": [
        "class Skip_Gram_Model(nn.Module):\n",
        "    def __init__(self, vocab_size, embedding_dim):\n",
        "        super().__init__()\n",
        "        self.embeddings = nn.Embedding(vocab_size, embedding_dim)\n",
        "        self.out_layer = nn.Linear(embedding_dim, vocab_size)\n",
        "\n",
        "    def forward(self, inputs):\n",
        "        embedded = self.embeddings(inputs)\n",
        "        out = self.out_layer(embedded)\n",
        "        return out"
      ]
    },
    {
      "cell_type": "markdown",
      "metadata": {
        "id": "E2CD-lMsSIjC"
      },
      "source": [
        "3. **Training**"
      ]
    },
    {
      "cell_type": "code",
      "execution_count": 9,
      "metadata": {
        "colab": {
          "base_uri": "https://localhost:8080/"
        },
        "id": "I8HsUspVSHuD",
        "outputId": "e479339d-2444-48f4-b10f-980405f3a260"
      },
      "outputs": [
        {
          "name": "stdout",
          "output_type": "stream",
          "text": [
            "Initializing batches generator with 12380 batches per epoch\n",
            "Epoch = 0, Step = 2999, Avg Loss = 7.1937, Time = 4.35s\n",
            "Epoch = 0, Step = 5999, Avg Loss = 6.2948, Time = 3.53s\n",
            "Epoch = 0, Step = 8999, Avg Loss = 6.1401, Time = 3.78s\n",
            "Epoch = 0, Step = 11999, Avg Loss = 6.0557, Time = 3.66s\n",
            "Initializing batches generator with 12380 batches per epoch\n",
            "Epoch = 1, Step = 2619, Avg Loss = 5.9658, Time = 3.62s\n",
            "Epoch = 1, Step = 5619, Avg Loss = 5.9406, Time = 3.64s\n",
            "Epoch = 1, Step = 8619, Avg Loss = 5.9266, Time = 3.82s\n",
            "Epoch = 1, Step = 11619, Avg Loss = 5.9030, Time = 3.54s\n",
            "Initializing batches generator with 12380 batches per epoch\n",
            "Epoch = 2, Step = 2239, Avg Loss = 5.8492, Time = 3.79s\n",
            "Epoch = 2, Step = 5239, Avg Loss = 5.8443, Time = 3.94s\n",
            "Epoch = 2, Step = 8239, Avg Loss = 5.8428, Time = 3.56s\n",
            "Epoch = 2, Step = 11239, Avg Loss = 5.8351, Time = 3.54s\n",
            "Initializing batches generator with 12380 batches per epoch\n",
            "Epoch = 3, Step = 1859, Avg Loss = 5.8010, Time = 5.17s\n",
            "Epoch = 3, Step = 4859, Avg Loss = 5.7856, Time = 3.58s\n",
            "Epoch = 3, Step = 7859, Avg Loss = 5.7832, Time = 3.51s\n",
            "Epoch = 3, Step = 10859, Avg Loss = 5.7908, Time = 3.90s\n"
          ]
        }
      ],
      "source": [
        "# Here are the hyperparameters you can adjust\n",
        "embedding_dim = 32\n",
        "learning_rate = 0.001\n",
        "epoch_num = 4\n",
        "batch_size = 128\n",
        "\n",
        "# Initialization Model\n",
        "model = Skip_Gram_Model(len(word2index),embedding_dim)\n",
        "# Getting model to GPU\n",
        "model.cuda()\n",
        "# Define the loss function\n",
        "criterion = nn.CrossEntropyLoss()\n",
        "# use Adam optimizer\n",
        "optimizer = optim.Adam(model.parameters(), lr=learning_rate)\n",
        "\n",
        "\n",
        "loss_every_nsteps = 3000\n",
        "total_loss = 0\n",
        "start_time = time.time()\n",
        "global_step = 0\n",
        "\n",
        "for ep in range(epoch_num):\n",
        "  for step, batch in enumerate(make_skip_gram_batches_iter(contexts, window_size=2, num_skips=4, batch_size=batch_size)):\n",
        "      global_step += 1\n",
        "\n",
        "      # Getting data to the GPU.\n",
        "      tokens, labels = batch['tokens'].cuda(), batch['labels'].cuda()\n",
        "\n",
        "      # make forward pass\n",
        "      logits = model(tokens)\n",
        "\n",
        "      # make backward pass\n",
        "      loss = criterion(logits, labels)\n",
        "      loss.backward()\n",
        "\n",
        "      # apply optimizer\n",
        "      optimizer.step()\n",
        "\n",
        "      # zero grads\n",
        "      optimizer.zero_grad()\n",
        "\n",
        "      total_loss += loss.item()\n",
        "\n",
        "      if global_step != 0 and global_step % loss_every_nsteps == 0:\n",
        "          print(\"Epoch = {}, Step = {}, Avg Loss = {:.4f}, Time = {:.2f}s\".format(ep, step, total_loss / loss_every_nsteps,\n",
        "                                                                      time.time() - start_time))\n",
        "          total_loss = 0\n",
        "          start_time = time.time()"
      ]
    },
    {
      "cell_type": "markdown",
      "metadata": {
        "id": "4fvE2za248_A"
      },
      "source": [
        "**Obtaining word embeddings**\n",
        "\n",
        "Word embeddings are contained within the embeddings layer of the model. We just need to move them from the GPU to the CPU and convert them to a numpy array."
      ]
    },
    {
      "cell_type": "code",
      "execution_count": 10,
      "metadata": {
        "id": "uWsYkNn-Hnl_"
      },
      "outputs": [],
      "source": [
        "embeddings_skipgram = model.embeddings.weight.data.cpu().numpy()"
      ]
    },
    {
      "cell_type": "markdown",
      "metadata": {
        "id": "EZtxY2D01RB6"
      },
      "source": [
        "**Implementing a word similarity search algorithm**\n",
        "\n",
        "Let's check how adequate are similarities that the model learnt."
      ]
    },
    {
      "cell_type": "code",
      "execution_count": 11,
      "metadata": {
        "colab": {
          "base_uri": "https://localhost:8080/"
        },
        "id": "bhDwuhDSHEDm",
        "outputId": "1b2431d3-7b28-43ea-fe00-fbf196160940"
      },
      "outputs": [
        {
          "data": {
            "text/plain": [
              "['my',\n",
              " 'forever',\n",
              " 'your',\n",
              " 'instagram',\n",
              " 'them',\n",
              " 'her',\n",
              " 'spain',\n",
              " 'their',\n",
              " 'focus',\n",
              " 'password']"
            ]
          },
          "execution_count": 11,
          "metadata": {},
          "output_type": "execute_result"
        }
      ],
      "source": [
        "from sklearn.metrics.pairwise import cosine_similarity\n",
        "\n",
        "def most_similar(embeddings, index2word, word2index, word):\n",
        "    word_emb = embeddings[word2index[word]]\n",
        "\n",
        "    similarities = cosine_similarity([word_emb], embeddings)[0]\n",
        "    top10 = np.argsort(similarities)[-10:]\n",
        "\n",
        "    return [index2word[index] for index in reversed(top10)]\n",
        "\n",
        "most_similar(embeddings_skipgram, index2word, word2index, 'my')"
      ]
    },
    {
      "cell_type": "markdown",
      "metadata": {
        "id": "0VS1x-mO1WKS"
      },
      "source": [
        "**Visualization of word embeddings**"
      ]
    },
    {
      "cell_type": "code",
      "execution_count": 12,
      "metadata": {
        "colab": {
          "base_uri": "https://localhost:8080/",
          "height": 602
        },
        "id": "yuXv2HxsAecb",
        "outputId": "fa54cd07-363f-4d9f-fc89-e8dd93591ab8"
      },
      "outputs": [
        {
          "name": "stdout",
          "output_type": "stream",
          "text": [
            "[t-SNE] Computing 91 nearest neighbors...\n",
            "[t-SNE] Indexed 100 samples in 0.000s...\n",
            "[t-SNE] Computed neighbors for 100 samples in 0.042s...\n",
            "[t-SNE] Computed conditional probabilities for sample 100 / 100\n",
            "[t-SNE] Mean sigma: 3.058792\n",
            "[t-SNE] KL divergence after 250 iterations with early exaggeration: 60.527149\n",
            "[t-SNE] KL divergence after 950 iterations: 0.617247\n"
          ]
        },
        {
          "name": "stderr",
          "output_type": "stream",
          "text": [
            "/usr/local/lib/python3.11/dist-packages/sklearn/preprocessing/_data.py:258: UserWarning: Numerical issues were encountered when centering the data and might not be solved. Dataset may contain too large values. You may need to prescale your features.\n",
            "  warnings.warn(\n"
          ]
        },
        {
          "data": {
            "application/javascript": "(function(root) {\n  function now() {\n    return new Date();\n  }\n\n  const force = true;\n\n  if (typeof root._bokeh_onload_callbacks === \"undefined\" || force === true) {\n    root._bokeh_onload_callbacks = [];\n    root._bokeh_is_loading = undefined;\n  }\n\nconst JS_MIME_TYPE = 'application/javascript';\n  const HTML_MIME_TYPE = 'text/html';\n  const EXEC_MIME_TYPE = 'application/vnd.bokehjs_exec.v0+json';\n  const CLASS_NAME = 'output_bokeh rendered_html';\n\n  /**\n   * Render data to the DOM node\n   */\n  function render(props, node) {\n    const script = document.createElement(\"script\");\n    node.appendChild(script);\n  }\n\n  /**\n   * Handle when an output is cleared or removed\n   */\n  function handleClearOutput(event, handle) {\n    const cell = handle.cell;\n\n    const id = cell.output_area._bokeh_element_id;\n    const server_id = cell.output_area._bokeh_server_id;\n    // Clean up Bokeh references\n    if (id != null && id in Bokeh.index) {\n      Bokeh.index[id].model.document.clear();\n      delete Bokeh.index[id];\n    }\n\n    if (server_id !== undefined) {\n      // Clean up Bokeh references\n      const cmd_clean = \"from bokeh.io.state import curstate; print(curstate().uuid_to_server['\" + server_id + \"'].get_sessions()[0].document.roots[0]._id)\";\n      cell.notebook.kernel.execute(cmd_clean, {\n        iopub: {\n          output: function(msg) {\n            const id = msg.content.text.trim();\n            if (id in Bokeh.index) {\n              Bokeh.index[id].model.document.clear();\n              delete Bokeh.index[id];\n            }\n          }\n        }\n      });\n      // Destroy server and session\n      const cmd_destroy = \"import bokeh.io.notebook as ion; ion.destroy_server('\" + server_id + \"')\";\n      cell.notebook.kernel.execute(cmd_destroy);\n    }\n  }\n\n  /**\n   * Handle when a new output is added\n   */\n  function handleAddOutput(event, handle) {\n    const output_area = handle.output_area;\n    const output = handle.output;\n\n    // limit handleAddOutput to display_data with EXEC_MIME_TYPE content only\n    if ((output.output_type != \"display_data\") || (!Object.prototype.hasOwnProperty.call(output.data, EXEC_MIME_TYPE))) {\n      return\n    }\n\n    const toinsert = output_area.element.find(\".\" + CLASS_NAME.split(' ')[0]);\n\n    if (output.metadata[EXEC_MIME_TYPE][\"id\"] !== undefined) {\n      toinsert[toinsert.length - 1].firstChild.textContent = output.data[JS_MIME_TYPE];\n      // store reference to embed id on output_area\n      output_area._bokeh_element_id = output.metadata[EXEC_MIME_TYPE][\"id\"];\n    }\n    if (output.metadata[EXEC_MIME_TYPE][\"server_id\"] !== undefined) {\n      const bk_div = document.createElement(\"div\");\n      bk_div.innerHTML = output.data[HTML_MIME_TYPE];\n      const script_attrs = bk_div.children[0].attributes;\n      for (let i = 0; i < script_attrs.length; i++) {\n        toinsert[toinsert.length - 1].firstChild.setAttribute(script_attrs[i].name, script_attrs[i].value);\n        toinsert[toinsert.length - 1].firstChild.textContent = bk_div.children[0].textContent\n      }\n      // store reference to server id on output_area\n      output_area._bokeh_server_id = output.metadata[EXEC_MIME_TYPE][\"server_id\"];\n    }\n  }\n\n  function register_renderer(events, OutputArea) {\n\n    function append_mime(data, metadata, element) {\n      // create a DOM node to render to\n      const toinsert = this.create_output_subarea(\n        metadata,\n        CLASS_NAME,\n        EXEC_MIME_TYPE\n      );\n      this.keyboard_manager.register_events(toinsert);\n      // Render to node\n      const props = {data: data, metadata: metadata[EXEC_MIME_TYPE]};\n      render(props, toinsert[toinsert.length - 1]);\n      element.append(toinsert);\n      return toinsert\n    }\n\n    /* Handle when an output is cleared or removed */\n    events.on('clear_output.CodeCell', handleClearOutput);\n    events.on('delete.Cell', handleClearOutput);\n\n    /* Handle when a new output is added */\n    events.on('output_added.OutputArea', handleAddOutput);\n\n    /**\n     * Register the mime type and append_mime function with output_area\n     */\n    OutputArea.prototype.register_mime_type(EXEC_MIME_TYPE, append_mime, {\n      /* Is output safe? */\n      safe: true,\n      /* Index of renderer in `output_area.display_order` */\n      index: 0\n    });\n  }\n\n  // register the mime type if in Jupyter Notebook environment and previously unregistered\n  if (root.Jupyter !== undefined) {\n    const events = require('base/js/events');\n    const OutputArea = require('notebook/js/outputarea').OutputArea;\n\n    if (OutputArea.prototype.mime_types().indexOf(EXEC_MIME_TYPE) == -1) {\n      register_renderer(events, OutputArea);\n    }\n  }\n  if (typeof (root._bokeh_timeout) === \"undefined\" || force === true) {\n    root._bokeh_timeout = Date.now() + 5000;\n    root._bokeh_failed_load = false;\n  }\n\n  const NB_LOAD_WARNING = {'data': {'text/html':\n     \"<div style='background-color: #fdd'>\\n\"+\n     \"<p>\\n\"+\n     \"BokehJS does not appear to have successfully loaded. If loading BokehJS from CDN, this \\n\"+\n     \"may be due to a slow or bad network connection. Possible fixes:\\n\"+\n     \"</p>\\n\"+\n     \"<ul>\\n\"+\n     \"<li>re-rerun `output_notebook()` to attempt to load from CDN again, or</li>\\n\"+\n     \"<li>use INLINE resources instead, as so:</li>\\n\"+\n     \"</ul>\\n\"+\n     \"<code>\\n\"+\n     \"from bokeh.resources import INLINE\\n\"+\n     \"output_notebook(resources=INLINE)\\n\"+\n     \"</code>\\n\"+\n     \"</div>\"}};\n\n  function display_loaded() {\n    const el = document.getElementById(null);\n    if (el != null) {\n      el.textContent = \"BokehJS is loading...\";\n    }\n    if (root.Bokeh !== undefined) {\n      if (el != null) {\n        el.textContent = \"BokehJS \" + root.Bokeh.version + \" successfully loaded.\";\n      }\n    } else if (Date.now() < root._bokeh_timeout) {\n      setTimeout(display_loaded, 100)\n    }\n  }\n\n  function run_callbacks() {\n    try {\n      root._bokeh_onload_callbacks.forEach(function(callback) {\n        if (callback != null)\n          callback();\n      });\n    } finally {\n      delete root._bokeh_onload_callbacks\n    }\n    console.debug(\"Bokeh: all callbacks have finished\");\n  }\n\n  function load_libs(css_urls, js_urls, callback) {\n    if (css_urls == null) css_urls = [];\n    if (js_urls == null) js_urls = [];\n\n    root._bokeh_onload_callbacks.push(callback);\n    if (root._bokeh_is_loading > 0) {\n      console.debug(\"Bokeh: BokehJS is being loaded, scheduling callback at\", now());\n      return null;\n    }\n    if (js_urls == null || js_urls.length === 0) {\n      run_callbacks();\n      return null;\n    }\n    console.debug(\"Bokeh: BokehJS not loaded, scheduling load and callback at\", now());\n    root._bokeh_is_loading = css_urls.length + js_urls.length;\n\n    function on_load() {\n      root._bokeh_is_loading--;\n      if (root._bokeh_is_loading === 0) {\n        console.debug(\"Bokeh: all BokehJS libraries/stylesheets loaded\");\n        run_callbacks()\n      }\n    }\n\n    function on_error(url) {\n      console.error(\"failed to load \" + url);\n    }\n\n    for (let i = 0; i < css_urls.length; i++) {\n      const url = css_urls[i];\n      const element = document.createElement(\"link\");\n      element.onload = on_load;\n      element.onerror = on_error.bind(null, url);\n      element.rel = \"stylesheet\";\n      element.type = \"text/css\";\n      element.href = url;\n      console.debug(\"Bokeh: injecting link tag for BokehJS stylesheet: \", url);\n      document.body.appendChild(element);\n    }\n\n    for (let i = 0; i < js_urls.length; i++) {\n      const url = js_urls[i];\n      const element = document.createElement('script');\n      element.onload = on_load;\n      element.onerror = on_error.bind(null, url);\n      element.async = false;\n      element.src = url;\n      console.debug(\"Bokeh: injecting script tag for BokehJS library: \", url);\n      document.head.appendChild(element);\n    }\n  };\n\n  function inject_raw_css(css) {\n    const element = document.createElement(\"style\");\n    element.appendChild(document.createTextNode(css));\n    document.body.appendChild(element);\n  }\n\n  const js_urls = [\"https://cdn.bokeh.org/bokeh/release/bokeh-3.2.0.min.js\", \"https://cdn.bokeh.org/bokeh/release/bokeh-gl-3.2.0.min.js\", \"https://cdn.bokeh.org/bokeh/release/bokeh-widgets-3.2.0.min.js\", \"https://cdn.bokeh.org/bokeh/release/bokeh-tables-3.2.0.min.js\", \"https://cdn.bokeh.org/bokeh/release/bokeh-mathjax-3.2.0.min.js\"];\n  const css_urls = [];\n\n  const inline_js = [    function(Bokeh) {\n      Bokeh.set_log_level(\"info\");\n    },\nfunction(Bokeh) {\n    }\n  ];\n\n  function run_inline_js() {\n    if (root.Bokeh !== undefined || force === true) {\n          for (let i = 0; i < inline_js.length; i++) {\n      inline_js[i].call(root, root.Bokeh);\n    }\n} else if (Date.now() < root._bokeh_timeout) {\n      setTimeout(run_inline_js, 100);\n    } else if (!root._bokeh_failed_load) {\n      console.log(\"Bokeh: BokehJS failed to load within specified timeout.\");\n      root._bokeh_failed_load = true;\n    } else if (force !== true) {\n      const cell = $(document.getElementById(null)).parents('.cell').data().cell;\n      cell.output_area.append_execute_result(NB_LOAD_WARNING)\n    }\n  }\n\n  if (root._bokeh_is_loading === 0) {\n    console.debug(\"Bokeh: BokehJS loaded, going straight to plotting\");\n    run_inline_js();\n  } else {\n    load_libs(css_urls, js_urls, function() {\n      console.debug(\"Bokeh: BokehJS plotting callback run at\", now());\n      run_inline_js();\n    });\n  }\n}(window));",
            "application/vnd.bokehjs_load.v0+json": ""
          },
          "metadata": {},
          "output_type": "display_data"
        },
        {
          "data": {
            "text/html": [
              "\n",
              "  <div id=\"d3320185-aad1-437c-9dd9-b5b02e50aa2a\" data-root-id=\"p1004\" style=\"display: contents;\"></div>\n"
            ]
          },
          "metadata": {},
          "output_type": "display_data"
        },
        {
          "data": {
            "application/javascript": "(function(root) {\n  function embed_document(root) {\n  const docs_json = {\"1c937d0e-0f47-4ab0-bba9-fda54fd173d6\":{\"version\":\"3.2.0\",\"title\":\"Bokeh Application\",\"roots\":[{\"type\":\"object\",\"name\":\"Figure\",\"id\":\"p1004\",\"attributes\":{\"height\":400,\"x_range\":{\"type\":\"object\",\"name\":\"DataRange1d\",\"id\":\"p1005\"},\"y_range\":{\"type\":\"object\",\"name\":\"DataRange1d\",\"id\":\"p1006\"},\"x_scale\":{\"type\":\"object\",\"name\":\"LinearScale\",\"id\":\"p1013\"},\"y_scale\":{\"type\":\"object\",\"name\":\"LinearScale\",\"id\":\"p1014\"},\"title\":{\"type\":\"object\",\"name\":\"Title\",\"id\":\"p1011\"},\"renderers\":[{\"type\":\"object\",\"name\":\"GlyphRenderer\",\"id\":\"p1038\",\"attributes\":{\"data_source\":{\"type\":\"object\",\"name\":\"ColumnDataSource\",\"id\":\"p1001\",\"attributes\":{\"selected\":{\"type\":\"object\",\"name\":\"Selection\",\"id\":\"p1002\",\"attributes\":{\"indices\":[],\"line_indices\":[]}},\"selection_policy\":{\"type\":\"object\",\"name\":\"UnionRenderers\",\"id\":\"p1003\"},\"data\":{\"type\":\"map\",\"entries\":[[\"x\",{\"type\":\"ndarray\",\"array\":{\"type\":\"bytes\",\"data\":\"cgwWP9AaQD+jnqw/c3yjv7XqrD/r1P2/OWyLP9ovZb6aesm+msxrv8VnQL/sl+C/PfGAPX0RYb9vgKK9iEvfPpHq+r+O17u/kvc+PxMUoz6Rgdc/VFGdv2e7tr60BFa9k9d2P1EDjj9+ta0+MB6/PjKhDr6VEN2/XFZRv2bnhT8InyY/KFR5v+u4VT+Lkok/unyYvgi63D8AQg4/Xjm+Prgegz4HTYk/i8+HP2R6dzzmofi+E+3nv3DdR7/7+7I/2uM8v3A0Dr+YHRi/Eyb4PA8OAL+pPuI/PFJSv2TTST9fdAfA0fiKPpLMbb+3BUy+1ZH2v5wzXT+LJ42/ov+mP1ewhz2pKCQ/IMJ0PARVXr4ea5q+sv3Mv5gA6T82Mk89eHIKP7fzSb8wZqY/aAEsP6Zhir83k4Y/R0+wP0BLO71I46G/sWMUP5JblL+qC36/I52uP5w8YL2/JhC/FQ+DvwbN9z91xSg/7bBHPxNjzD5dtje+HTkyP4EJjb+vO4s+0W82v/3jpz+Yl1e/QmxFuw==\"},\"shape\":[100],\"dtype\":\"float32\",\"order\":\"little\"}],[\"y\",{\"type\":\"ndarray\",\"array\":{\"type\":\"bytes\",\"data\":\"asqNvuKznz/9thm/lxBMvxqXJL/4vIQ/35+5Pw+YRD4bp9++kkyuPxLSB78eZy6/ojHHvtOlvz+zAoO/L5DAvp0gfz+Iz76/g91bP2IXEMDs7qA/hAqWP+Nup76zAei+6v7cvjNriD6kdP8++QZYv71DNL+ZxOi9Ej8lv3teijz1prG+9CbXPwkQrb+JAr4/8tOTvkmjpz85yz0/9MQEPrZiwDt2Ij8+goJ8PvdaqL97tW2/vackP16emT+Ij1K+hoepP45BxT4mEsa/j0ISv6IZL77xwYE9b5edvxFzNT1/3dQ+8xWEP+8ckj+TRwnAjLJ1P5Op6b6qZzy/f/bfP9692r1g14i/XKq/P1etGD/Lbla/9uYiP2qTXj+w1Fw/p5lIvnyY+7+MTyw/3V6WP33vQ789CeK/76uqvyaEOz+Y/b08VGd3vzC9GD/xshQ/ZWAsP+ZEiT97UfA/J+YhvfJwBb8kjde/Ql2fv7OGGj8aX2y/yy6Iv31Bo77J5QJA2/iUPjTqrL9g8iI/l7/Jvw==\"},\"shape\":[100],\"dtype\":\"float32\",\"order\":\"little\"}],[\"color\",[\"blue\",\"blue\",\"blue\",\"blue\",\"blue\",\"blue\",\"blue\",\"blue\",\"blue\",\"blue\",\"blue\",\"blue\",\"blue\",\"blue\",\"blue\",\"blue\",\"blue\",\"blue\",\"blue\",\"blue\",\"blue\",\"blue\",\"blue\",\"blue\",\"blue\",\"blue\",\"blue\",\"blue\",\"blue\",\"blue\",\"blue\",\"blue\",\"blue\",\"blue\",\"blue\",\"blue\",\"blue\",\"blue\",\"blue\",\"blue\",\"blue\",\"blue\",\"blue\",\"blue\",\"blue\",\"blue\",\"blue\",\"blue\",\"blue\",\"blue\",\"blue\",\"blue\",\"blue\",\"blue\",\"blue\",\"blue\",\"blue\",\"blue\",\"blue\",\"blue\",\"blue\",\"blue\",\"blue\",\"blue\",\"blue\",\"blue\",\"blue\",\"blue\",\"blue\",\"blue\",\"blue\",\"blue\",\"blue\",\"blue\",\"blue\",\"blue\",\"blue\",\"blue\",\"blue\",\"blue\",\"blue\",\"blue\",\"blue\",\"blue\",\"blue\",\"blue\",\"blue\",\"blue\",\"blue\",\"blue\",\"blue\",\"blue\",\"blue\",\"blue\",\"blue\",\"blue\",\"blue\",\"blue\",\"blue\",\"blue\"]],[\"token\",[\"?\",\"the\",\"what\",\"is\",\"how\",\"i\",\"a\",\"to\",\"in\",\"do\",\"of\",\"are\",\"and\",\"can\",\"for\",\",\",\"you\",\"why\",\"it\",\"best\",\"my\",\"does\",\"on\",\"or\",\"which\",\"if\",\"be\",\"have\",\"with\",\"some\",\"'s\",\"that\",\".\",\"should\",\"get\",\"an\",\"from\",\"your\",\"india\",\")\",\"(\",\"who\",\"when\",\"like\",\"at\",\"people\",\"will\",\"good\",\"would\",\"there\",\"between\",\"as\",\"about\",\"``\",\"''\",\"not\",\"n't\",\"one\",\"did\",\"most\",\"we\",\"where\",\"was\",\"any\",\"by\",\"make\",\"way\",\"so\",\"after\",\"they\",\"quora\",\"life\",\":\",\"difference\",\"me\",\"this\",\"has\",\"know\",\"learn\",\"time\",\"their\",\"use\",\"many\",\"much\",\"someone\",\"money\",\"am\",\"all\",\"new\",\"think\",\"find\",\"work\",\"without\",\"become\",\"indian\",\"ever\",\"than\",\"start\",\"more\",\"better\"]]]}}},\"view\":{\"type\":\"object\",\"name\":\"CDSView\",\"id\":\"p1039\",\"attributes\":{\"filter\":{\"type\":\"object\",\"name\":\"AllIndices\",\"id\":\"p1040\"}}},\"glyph\":{\"type\":\"object\",\"name\":\"Scatter\",\"id\":\"p1035\",\"attributes\":{\"x\":{\"type\":\"field\",\"field\":\"x\"},\"y\":{\"type\":\"field\",\"field\":\"y\"},\"size\":{\"type\":\"value\",\"value\":10},\"line_color\":{\"type\":\"field\",\"field\":\"color\"},\"line_alpha\":{\"type\":\"value\",\"value\":0.25},\"fill_color\":{\"type\":\"field\",\"field\":\"color\"},\"fill_alpha\":{\"type\":\"value\",\"value\":0.25},\"hatch_color\":{\"type\":\"field\",\"field\":\"color\"},\"hatch_alpha\":{\"type\":\"value\",\"value\":0.25}}},\"nonselection_glyph\":{\"type\":\"object\",\"name\":\"Scatter\",\"id\":\"p1036\",\"attributes\":{\"x\":{\"type\":\"field\",\"field\":\"x\"},\"y\":{\"type\":\"field\",\"field\":\"y\"},\"size\":{\"type\":\"value\",\"value\":10},\"line_color\":{\"type\":\"field\",\"field\":\"color\"},\"line_alpha\":{\"type\":\"value\",\"value\":0.1},\"fill_color\":{\"type\":\"field\",\"field\":\"color\"},\"fill_alpha\":{\"type\":\"value\",\"value\":0.1},\"hatch_color\":{\"type\":\"field\",\"field\":\"color\"},\"hatch_alpha\":{\"type\":\"value\",\"value\":0.1}}},\"muted_glyph\":{\"type\":\"object\",\"name\":\"Scatter\",\"id\":\"p1037\",\"attributes\":{\"x\":{\"type\":\"field\",\"field\":\"x\"},\"y\":{\"type\":\"field\",\"field\":\"y\"},\"size\":{\"type\":\"value\",\"value\":10},\"line_color\":{\"type\":\"field\",\"field\":\"color\"},\"line_alpha\":{\"type\":\"value\",\"value\":0.2},\"fill_color\":{\"type\":\"field\",\"field\":\"color\"},\"fill_alpha\":{\"type\":\"value\",\"value\":0.2},\"hatch_color\":{\"type\":\"field\",\"field\":\"color\"},\"hatch_alpha\":{\"type\":\"value\",\"value\":0.2}}}}}],\"toolbar\":{\"type\":\"object\",\"name\":\"Toolbar\",\"id\":\"p1012\",\"attributes\":{\"tools\":[{\"type\":\"object\",\"name\":\"PanTool\",\"id\":\"p1025\"},{\"type\":\"object\",\"name\":\"WheelZoomTool\",\"id\":\"p1026\"},{\"type\":\"object\",\"name\":\"BoxZoomTool\",\"id\":\"p1027\",\"attributes\":{\"overlay\":{\"type\":\"object\",\"name\":\"BoxAnnotation\",\"id\":\"p1028\",\"attributes\":{\"syncable\":false,\"level\":\"overlay\",\"visible\":false,\"left_units\":\"canvas\",\"right_units\":\"canvas\",\"bottom_units\":\"canvas\",\"top_units\":\"canvas\",\"line_color\":\"black\",\"line_alpha\":1.0,\"line_width\":2,\"line_dash\":[4,4],\"fill_color\":\"lightgrey\",\"fill_alpha\":0.5}}}},{\"type\":\"object\",\"name\":\"SaveTool\",\"id\":\"p1029\"},{\"type\":\"object\",\"name\":\"ResetTool\",\"id\":\"p1030\"},{\"type\":\"object\",\"name\":\"HelpTool\",\"id\":\"p1031\"},{\"type\":\"object\",\"name\":\"HoverTool\",\"id\":\"p1041\",\"attributes\":{\"renderers\":\"auto\",\"tooltips\":[[\"token\",\"@token\"]]}}],\"active_scroll\":{\"id\":\"p1026\"}}},\"left\":[{\"type\":\"object\",\"name\":\"LinearAxis\",\"id\":\"p1020\",\"attributes\":{\"ticker\":{\"type\":\"object\",\"name\":\"BasicTicker\",\"id\":\"p1021\",\"attributes\":{\"mantissas\":[1,2,5]}},\"formatter\":{\"type\":\"object\",\"name\":\"BasicTickFormatter\",\"id\":\"p1022\"},\"major_label_policy\":{\"type\":\"object\",\"name\":\"AllLabels\",\"id\":\"p1023\"}}}],\"below\":[{\"type\":\"object\",\"name\":\"LinearAxis\",\"id\":\"p1015\",\"attributes\":{\"ticker\":{\"type\":\"object\",\"name\":\"BasicTicker\",\"id\":\"p1016\",\"attributes\":{\"mantissas\":[1,2,5]}},\"formatter\":{\"type\":\"object\",\"name\":\"BasicTickFormatter\",\"id\":\"p1017\"},\"major_label_policy\":{\"type\":\"object\",\"name\":\"AllLabels\",\"id\":\"p1018\"}}}],\"center\":[{\"type\":\"object\",\"name\":\"Grid\",\"id\":\"p1019\",\"attributes\":{\"axis\":{\"id\":\"p1015\"}}},{\"type\":\"object\",\"name\":\"Grid\",\"id\":\"p1024\",\"attributes\":{\"dimension\":1,\"axis\":{\"id\":\"p1020\"}}}]}}]}};\n  const render_items = [{\"docid\":\"1c937d0e-0f47-4ab0-bba9-fda54fd173d6\",\"roots\":{\"p1004\":\"d3320185-aad1-437c-9dd9-b5b02e50aa2a\"},\"root_ids\":[\"p1004\"]}];\n  root.Bokeh.embed.embed_items_notebook(docs_json, render_items);\n  }\n  if (root.Bokeh !== undefined) {\n    embed_document(root);\n  } else {\n    let attempts = 0;\n    const timer = setInterval(function(root) {\n      if (root.Bokeh !== undefined) {\n        clearInterval(timer);\n        embed_document(root);\n      } else {\n        attempts++;\n        if (attempts > 100) {\n          clearInterval(timer);\n          console.log(\"Bokeh: ERROR: Unable to run BokehJS code because BokehJS library is missing\");\n        }\n      }\n    }, 10, root)\n  }\n})(window);",
            "application/vnd.bokehjs_exec.v0+json": ""
          },
          "metadata": {
            "application/vnd.bokehjs_exec.v0+json": {
              "id": "p1004"
            }
          },
          "output_type": "display_data"
        }
      ],
      "source": [
        "import bokeh.models as bm, bokeh.plotting as pl\n",
        "from bokeh.io import output_notebook\n",
        "\n",
        "from sklearn.manifold import TSNE\n",
        "from sklearn.preprocessing import scale\n",
        "\n",
        "\n",
        "def draw_vectors(x, y, radius=10, alpha=0.25, color='blue',\n",
        "                 width=600, height=400, show=True, **kwargs):\n",
        "    \"\"\" draws an interactive plot for data points with auxilirary info on hover \"\"\"\n",
        "    output_notebook()\n",
        "\n",
        "    if isinstance(color, str):\n",
        "        color = [color] * len(x)\n",
        "    data_source = bm.ColumnDataSource({ 'x' : x, 'y' : y, 'color': color, **kwargs })\n",
        "\n",
        "    fig = pl.figure(active_scroll='wheel_zoom', width=width, height=height)\n",
        "    fig.scatter('x', 'y', size=radius, color='color', alpha=alpha, source=data_source)\n",
        "\n",
        "    fig.add_tools(bm.HoverTool(tooltips=[(key, \"@\" + key) for key in kwargs.keys()]))\n",
        "    if show:\n",
        "        pl.show(fig)\n",
        "    return fig\n",
        "\n",
        "\n",
        "def get_tsne_projection(word_vectors):\n",
        "    tsne = TSNE(n_components=2, verbose=1)\n",
        "    return scale(tsne.fit_transform(word_vectors))\n",
        "\n",
        "\n",
        "def visualize_embeddings(embeddings, index2word, word_count):\n",
        "    word_vectors = embeddings[1: word_count + 1]\n",
        "    words = index2word[1: word_count + 1]\n",
        "\n",
        "    word_tsne = get_tsne_projection(word_vectors)\n",
        "    draw_vectors(word_tsne[:, 0], word_tsne[:, 1], color='blue', token=words)\n",
        "\n",
        "\n",
        "visualize_embeddings(embeddings_skipgram, index2word, 100)"
      ]
    },
    {
      "cell_type": "markdown",
      "metadata": {
        "id": "5RahLdp1XwcU"
      },
      "source": [
        "**Advantages**:\n",
        "\n",
        "- Captures semantic relationships effectively.\n",
        "- Efficient for large datasets.\n",
        "- Provides meaningful word representations.\n",
        "\n",
        "**Disadvantages**:\n",
        "\n",
        "- May struggle with rare words.\n",
        "- Ignores word order."
      ]
    },
    {
      "cell_type": "markdown",
      "metadata": {
        "id": "VG2_gjejhG7c"
      },
      "source": [
        "## 1.3 GloVe (Global Vectors for Word Representation)\n",
        "\n",
        "Global Vectors for Word Representation (GloVe) is a powerful word embedding technique that captures the semantic relationships between words by considering their co-occurrence probabilities within a corpus. The key to GloVe’s effectiveness lies in the construction of a word-context matrix and the subsequent factorization process."
      ]
    },
    {
      "cell_type": "markdown",
      "metadata": {
        "id": "BVM37bOwhfLz"
      },
      "source": [
        "Let’s consider a simplified example. Assume we have the following sentences in our corpus:\n",
        "\n",
        "    “Word embeddings capture semantic meanings.”\n",
        "    “GloVe is an impactful word embedding model.”\n",
        "\n",
        "The word-context matrix might look like this:\n",
        "\n",
        "![](https://miro.medium.com/v2/resize:fit:1354/format:webp/1*JZ4w_OxwGkt_W-814LB9Xw.png)\n",
        "\n",
        "Here, each row and column corresponds to a unique word in the corpus, and the values in the cells represent how often these words appear together within a certain context window.\n",
        "\n",
        "**Advantages**:\n",
        "\n",
        "- Efficiently captures global statistics of the corpus.\n",
        "- Good at representing both semantic and syntactic relationships.\n",
        "- Effective in capturing word analogies.\n",
        "\n",
        "**Disadvantages**:\n",
        "\n",
        "- Requires more memory for storing co-occurrence matrices.\n",
        "- Less effective with very small corpora."
      ]
    },
    {
      "cell_type": "code",
      "execution_count": 16,
      "metadata": {
        "colab": {
          "base_uri": "https://localhost:8080/"
        },
        "id": "pgRx-ptcv6-m",
        "outputId": "cacb4906-de16-4018-b3a9-21e7dac300c2"
      },
      "outputs": [
        {
          "name": "stdout",
          "output_type": "stream",
          "text": [
            "[==================================================] 100.0% 376.1/376.1MB downloaded\n"
          ]
        }
      ],
      "source": [
        "import gensim.downloader as api\n",
        "#GloVe\n",
        "glove_model = api.load(\"glove-wiki-gigaword-300\")"
      ]
    },
    {
      "cell_type": "markdown",
      "metadata": {
        "id": "yr1TgLwCh25E"
      },
      "source": [
        "## 1.4 FastText\n",
        "\n",
        "FastText is an advanced word embedding technique developed by Facebook AI Research (FAIR) that extends the Word2Vec model. Unlike Word2Vec, FastText not only considers whole words but also **incorporates subword information** — parts of words like n-grams. This approach enables the handling of morphologically rich languages and captures information about word structure more effectively.\n"
      ]
    },
    {
      "cell_type": "markdown",
      "metadata": {
        "id": "LyIxZ96NiSlt"
      },
      "source": [
        "FastText represents each word as a bag of character n-grams in addition to the whole word itself. This means that the word “apple” is represented by the word itself and its constituent n-grams like “ap”, “pp”, “pl”, “le”, etc. This approach helps capture the meanings of shorter words and affords a better understanding of suffixes and prefixes."
      ]
    },
    {
      "cell_type": "code",
      "execution_count": 20,
      "metadata": {
        "colab": {
          "base_uri": "https://localhost:8080/"
        },
        "id": "EeIbMAGPwGhH",
        "outputId": "d24d80dc-57e7-4e16-99e6-367763d92417"
      },
      "outputs": [
        {
          "name": "stdout",
          "output_type": "stream",
          "text": [
            "[==================================================] 100.0% 958.5/958.4MB downloaded\n"
          ]
        }
      ],
      "source": [
        "# FastText\n",
        "fasttext_model = api.load(\"fasttext-wiki-news-subwords-300\")"
      ]
    },
    {
      "cell_type": "markdown",
      "metadata": {
        "id": "gk9Bmp1diXAB"
      },
      "source": [
        "**Advantages**:\n",
        "\n",
        "- Better representation of rare words.\n",
        "- Capable of handling out-of-vocabulary words.\n",
        "- Richer word representations due to subword information.\n",
        "\n",
        "**Disadvantages**:\n",
        "\n",
        "- Increased model size due to n-gram information.\n",
        "- Longer training times compared to Word2Vec."
      ]
    },
    {
      "cell_type": "markdown",
      "metadata": {
        "id": "hs3q_3svqiT9"
      },
      "source": [
        "## 1.5 The comparison between Word2Vec,GloVe and FastText."
      ]
    },
    {
      "cell_type": "code",
      "execution_count": 21,
      "metadata": {
        "id": "884_eYPK3j2U"
      },
      "outputs": [],
      "source": [
        "import numpy as np\n",
        "import gensim.downloader as api\n",
        "from sklearn.metrics.pairwise import cosine_similarity\n",
        "import torch"
      ]
    },
    {
      "cell_type": "markdown",
      "metadata": {
        "id": "mgNMJvZRWgt1"
      },
      "source": [
        "This text includes:\n",
        "- Common words (such as “quick”, “king”)\n",
        "- Low-frequency words (such as “serendipity”)\n",
        "- Out-of-vocabulary words (assuming “serendipity” has not appeared in the model before)\n",
        "- Polysemous words (such as “king”, which can refer to a monarch or a chess piece)"
      ]
    },
    {
      "cell_type": "code",
      "execution_count": 22,
      "metadata": {
        "id": "7SfYfdDvRH6O"
      },
      "outputs": [],
      "source": [
        "# Example text\n",
        "text = \"The quick brown fox jumps over the lazy dog. The king rules the kingdom with wisdom. The word 'serendipity' is hard to spell.\"\n",
        "words = [\"quick\", \"king\", \"serendipity\", \"rules\", \"wisdom\"]"
      ]
    },
    {
      "cell_type": "code",
      "execution_count": 25,
      "metadata": {
        "id": "BWsWdNf2RLnk"
      },
      "outputs": [],
      "source": [
        "# Get the word embeddings dictionary for SkipGram model\n",
        "# Assuming embedding_skipgram is a torch tensor of shape (vocab_size, embedding_dim)\n",
        "# word2index is a dictionary {word: index}, we can use it to get the word embeddings\n",
        "skipgram_model = {word: embeddings_skipgram[idx] for word, idx in word2index.items()}"
      ]
    },
    {
      "cell_type": "code",
      "execution_count": 26,
      "metadata": {
        "id": "SR7DKIlGRSwj"
      },
      "outputs": [],
      "source": [
        "# Function to get word vectors\n",
        "def get_vectors(model, words, model_type=\"skipgram\"):\n",
        "    vectors = []\n",
        "    for word in words:\n",
        "        if model_type == \"skipgram\":\n",
        "            # For the SkipGram model, fetch the vector from the dictionary\n",
        "            vector = model.get(word, None)  # Returns None if the word is not in the model\n",
        "        else:\n",
        "            try:\n",
        "                vector = model[word]  # For GloVe and FastText\n",
        "            except KeyError:\n",
        "                vector = None  # Returns None if the word is not in the model\n",
        "        vectors.append(vector)\n",
        "    return vectors\n",
        "\n",
        "# Function to compare cosine similarity between two vectors\n",
        "def compare_similarity(vector1, vector2):\n",
        "    if vector1 is None or vector2 is None:\n",
        "        return None\n",
        "    return cosine_similarity([vector1], [vector2])[0][0]"
      ]
    },
    {
      "cell_type": "code",
      "execution_count": 27,
      "metadata": {
        "id": "n4W4bfW0RfgL"
      },
      "outputs": [],
      "source": [
        "# Get word vectors for SkipGram, GloVe, and FastText models\n",
        "skipgram_vectors = get_vectors(skipgram_model, words, model_type=\"skipgram\")\n",
        "glove_vectors = get_vectors(glove_model, words, model_type=\"glove\")\n",
        "fasttext_vectors = get_vectors(fasttext_model, words, model_type=\"fasttext\")"
      ]
    },
    {
      "cell_type": "markdown",
      "metadata": {
        "id": "be_nZFcAW2Wj"
      },
      "source": [
        "Skip-gram return None because they are unable to handle out-of-vocabulary (OOV) words.\n",
        "\n",
        "FastText, on the other hand,return a vector because it can handle OOV words by leveraging subword information."
      ]
    },
    {
      "cell_type": "code",
      "execution_count": 31,
      "metadata": {
        "colab": {
          "base_uri": "https://localhost:8080/"
        },
        "collapsed": true,
        "id": "bEt2rLtRRkV-",
        "outputId": "32222b30-b02b-462a-8026-249fd19ab285"
      },
      "outputs": [
        {
          "name": "stdout",
          "output_type": "stream",
          "text": [
            "Skip-gram (serendipity): None\n",
            "GloVe (serendipity): [ 0.18632   -0.34564    0.08389   -0.0088622  0.29216   -0.30842\n",
            "  0.1446    -0.28246   -0.3814     0.17972    0.56072   -0.061665\n",
            " -0.14916    0.5461    -0.18552    0.63468   -0.09079   -0.47448\n",
            " -0.090303   0.77264   -0.39216    0.21172   -0.64588   -0.35832\n",
            "  0.1424     0.68727    0.094841   0.10264   -0.20581    0.13369\n",
            "  0.1335    -0.32181   -0.18035    0.060461   0.22884    0.25557\n",
            " -0.34548    0.18665    0.41418   -0.31108    0.3044     0.046528\n",
            " -0.021619   0.029792  -0.1386     0.016738   0.76186    0.082857\n",
            " -0.52825   -0.088613   0.0039659 -0.16441    0.049685   0.32602\n",
            " -0.13568   -0.0074606  0.22342    0.0017904  0.26966   -0.056631\n",
            "  0.095477   0.15218    0.13187   -0.55669    0.55745    0.25169\n",
            "  0.33585   -0.38694   -0.44972    0.3091    -0.069153   0.14882\n",
            "  0.38556    0.1067    -0.31081    0.17787    0.23894    0.0087298\n",
            "  0.57065   -0.29811   -0.2857     0.38242    0.056624   0.35403\n",
            "  0.32367    0.23742    0.14528    0.29852   -0.0033725 -0.026211\n",
            " -0.17575   -0.29027    0.20888   -0.13644    0.44249   -0.0013981\n",
            " -0.11947   -0.097379  -0.17901    0.32461    0.85651   -0.16494\n",
            "  0.21082   -0.029599  -0.28011    0.11902   -0.2108    -0.29511\n",
            " -0.22094   -0.10521    0.10531    0.37363    0.18809   -0.26492\n",
            "  0.15593    0.14356   -0.17867   -0.41704   -0.31694    0.51266\n",
            " -0.23342    0.18465    0.26372   -0.0042298  0.15957   -0.10954\n",
            "  0.42556    0.47028   -0.24178    0.80037    0.22366    0.0012861\n",
            "  0.049398  -0.36584   -0.29655    0.14908    0.27978    0.55654\n",
            " -0.54622   -0.1923     0.060863   0.017136  -0.31743    0.36479\n",
            "  0.011946  -0.4183    -0.42232    0.30339   -0.23194   -0.039143\n",
            " -1.283     -0.043825   0.37935   -0.14484   -0.40778   -0.2479\n",
            "  0.44472    0.97023   -0.007969  -0.28284    0.1909    -0.29943\n",
            " -0.22702    0.29905    0.60438    0.27322    0.26682    0.33175\n",
            "  0.35046    0.023653  -0.23109    0.27642   -0.12867    0.14209\n",
            " -0.23383   -0.50974   -0.61034   -0.081647  -0.29914   -0.30302\n",
            "  0.67571   -0.075578  -0.18453   -0.32562   -0.071593   0.010142\n",
            "  0.093097  -0.34611    0.61285   -0.16049   -0.54084   -0.3363\n",
            "  0.53979   -0.4669     0.1916    -0.20776   -0.13912    0.048965\n",
            " -0.14741   -0.11732   -0.0094399 -0.25253    0.12036    0.33808\n",
            "  0.09632    0.28489    0.11688    0.043861   0.44266   -0.36999\n",
            " -0.42889    0.45218    0.32458    0.33865   -0.28339    0.096947\n",
            "  0.15864   -0.2372    -0.10074   -0.042115  -0.74153    0.46197\n",
            " -0.40608    0.55082   -0.32483   -0.47397   -0.014787  -0.20286\n",
            " -0.0070767  0.12768    0.19346   -0.038147  -0.18549   -0.3642\n",
            " -0.0040809  0.22498    0.39486    0.082756  -0.022859  -0.75962\n",
            "  0.48698    0.033705  -0.049857   0.058969  -0.3512    -0.77932\n",
            " -0.49243    0.49367   -0.022767   0.10698   -0.17816   -0.026324\n",
            "  0.32856   -0.30507   -0.4945    -0.1067     0.32769   -0.086502\n",
            "  0.34027    0.040302   0.26741   -0.32661    0.60733    0.093418\n",
            "  0.37058    0.0028669 -0.070005  -0.38477    0.35507   -0.39972\n",
            " -0.2046    -0.3511    -0.13235   -0.049713   0.18461    0.54833\n",
            "  0.94674   -0.44362   -0.17485   -0.15367   -0.56011    0.34371\n",
            "  0.21185    0.24543    0.19474   -0.56808   -0.4943    -0.77071\n",
            "  0.1845    -0.04606    0.21294   -0.13378   -0.0036589 -0.02757\n",
            "  0.02645   -0.10409   -0.16088    0.33948   -0.013567   0.24813  ]\n",
            "FastText (serendipity): [-2.9805e-02  2.6854e-02 -3.1424e-02  7.5323e-03 -1.1384e-01 -2.7078e-02\n",
            " -4.7518e-03 -6.6480e-02  3.4808e-02  9.1730e-04 -6.0305e-02  3.1930e-02\n",
            "  1.0609e-02 -1.0736e-02 -1.0970e-02  3.4149e-02  5.1842e-02  5.4079e-02\n",
            " -8.7730e-03  2.2972e-03 -2.0631e-02  7.7932e-02 -3.2296e-02  2.5283e-02\n",
            " -2.7547e-02 -3.4044e-02  2.4507e-02  4.0076e-02  4.2797e-02  2.0118e-02\n",
            "  3.7017e-02 -1.1477e-02  2.0691e-02 -3.1354e-02  1.2515e-02  9.5467e-03\n",
            " -6.2899e-03 -1.3610e-02  4.1874e-02  1.1588e-04 -1.8748e-02 -4.4494e-02\n",
            " -1.0173e-01  3.3002e-02  4.5566e-02 -4.5788e-03  7.3325e-02 -3.9758e-02\n",
            " -1.0988e-02 -8.0551e-03  1.8704e-02 -3.5747e-02  4.9400e-03 -3.4726e-02\n",
            "  8.6243e-03 -8.4493e-02  7.9489e-02  4.9694e-02 -4.1716e-02  2.1004e-03\n",
            " -2.1612e-03  4.6965e-03 -9.1081e-03 -1.3131e-02  4.2662e-02 -4.9487e-03\n",
            " -1.2876e-02 -1.0012e-03 -2.9265e-02  3.4636e-02  6.0778e-02  6.5794e-02\n",
            " -1.5603e-02 -2.8355e-02  6.6601e-02  1.1085e-02 -5.9065e-02 -3.1554e-02\n",
            "  2.2983e-02  6.7906e-03 -8.8510e-02 -1.7605e-02  4.4317e-02  8.4607e-02\n",
            "  3.5877e-02 -5.1026e-02  4.0443e-02  1.8851e-02  7.5502e-02 -4.3072e-03\n",
            "  1.6037e-02 -2.0483e-02 -7.2615e-02 -9.3846e-02 -8.7600e-03  2.6943e-02\n",
            "  4.2688e-02  3.6502e-02 -2.9784e-02  3.2130e-02  1.6471e-02  4.0318e-02\n",
            " -4.6387e-02 -1.4238e-02 -1.9918e-03 -1.7839e-02  1.9834e-02  5.4533e-02\n",
            "  5.9133e-02 -3.2239e-02 -1.6680e-02  6.6877e-02 -8.8362e-03  5.6069e-02\n",
            " -2.8538e-02  9.4626e-02 -7.0414e-05  3.2430e-02 -7.4438e-02  1.1245e-02\n",
            "  6.6492e-03 -5.6852e-02 -4.7480e-02 -3.7671e-04  5.1336e-02 -2.6837e-03\n",
            " -1.1159e-02 -4.1757e-02 -2.7279e-02  7.9218e-02  6.2733e-02 -4.2663e-02\n",
            " -4.7548e-02  6.1073e-06 -6.9286e-03 -1.5168e-04  5.2172e-02  3.4323e-02\n",
            "  1.0259e-02 -3.5228e-02  3.7493e-02 -2.4893e-02 -1.6201e-02  5.3851e-02\n",
            " -5.0565e-02 -1.2669e-02 -4.6908e-02 -2.3780e-02  1.6584e-03  1.8918e-02\n",
            "  3.3723e-02  1.3831e-02  4.2392e-02 -2.0058e-02  4.3174e-02  2.2994e-02\n",
            "  2.8830e-02  1.7093e-02 -6.4822e-03 -5.9819e-03  3.9156e-02  5.5234e-02\n",
            " -5.8772e-02 -3.1360e-02 -3.3978e-03  3.8582e-02  2.5142e-02 -2.9289e-02\n",
            "  9.6138e-03  2.7690e-02  6.5373e-02  3.6202e-02 -4.3323e-02 -8.5680e-03\n",
            " -3.0314e-03  3.9565e-02  1.7750e-03  4.3692e-02 -3.9007e-02 -8.9581e-03\n",
            " -2.0762e-02 -6.3132e-02 -1.8234e-02 -7.9662e-02 -7.5792e-02 -3.1938e-02\n",
            "  7.7712e-02  7.4359e-02 -1.6705e-02  1.0577e-02  7.7386e-03  1.0373e-02\n",
            " -3.8770e-02 -1.4657e-02 -8.5282e-02  3.0172e-02  9.8768e-03  3.7279e-02\n",
            " -8.7546e-03  6.1621e-02 -8.5347e-02  7.1000e-02  1.8729e-02  1.6303e-02\n",
            " -4.0717e-02  7.5443e-02 -5.3836e-02 -1.7919e-02 -1.1262e-03 -2.0924e-02\n",
            "  2.3430e-02  2.0931e-02  6.0641e-03 -6.1802e-03  1.0194e-01  7.0412e-03\n",
            " -3.5549e-02 -1.7181e-02  7.6885e-03 -3.9319e-02  2.2079e-02 -1.7141e-02\n",
            " -4.0551e-02  7.7523e-02  7.5541e-02  5.4512e-03  8.8621e-02  6.5679e-02\n",
            "  1.8234e-02 -2.1421e-02 -4.9822e-02 -1.0807e-01 -5.1674e-02  1.7589e-02\n",
            "  7.8029e-02  1.8037e-02 -1.9322e-02 -4.7413e-02 -3.1870e-02 -4.4834e-02\n",
            "  7.2774e-02 -6.6183e-03  2.9034e-02 -1.8229e-03 -5.7142e-02 -5.4412e-02\n",
            " -5.0543e-02 -5.3607e-02  1.7995e-02  2.2765e-02  3.2847e-02 -1.8328e-02\n",
            " -3.0570e-04 -4.5240e-02  1.4371e-02  2.3070e-02 -3.0135e-02  1.2707e-02\n",
            "  5.5695e-02  6.1089e-02  2.2758e-02 -1.0575e-02 -3.6754e-02  2.8981e-02\n",
            " -3.8409e-02 -3.8485e-02 -1.7823e-02  6.9334e-03  1.5735e-02  4.3667e-02\n",
            " -2.8411e-02  6.2190e-02 -8.0278e-02 -2.5576e-02  1.4574e-02 -7.5652e-02\n",
            "  1.4334e-02  8.1623e-04 -6.2756e-02 -2.1008e-02  1.6251e-02 -1.0859e-01\n",
            "  3.5296e-02 -2.7259e-02 -1.2488e-02 -4.4157e-02 -3.2562e-02  4.5759e-02\n",
            " -6.5838e-02 -7.5107e-03  1.8531e-02  3.0088e-02 -2.9809e-03  1.7422e-02\n",
            "  4.6868e-02  7.7602e-03  8.7317e-02 -4.0683e-02  8.7127e-03  6.0970e-02]\n"
          ]
        }
      ],
      "source": [
        "# Compare the handling of low-frequency and out-of-vocabulary words：serendipity\n",
        "serendipity_skipgram = skipgram_vectors[2]\n",
        "serendipity_glove = glove_vectors[2]\n",
        "serendipity_fasttext = fasttext_vectors[2]\n",
        "print(\"Skip-gram (serendipity):\", serendipity_skipgram)\n",
        "print(\"GloVe (serendipity):\", serendipity_glove)\n",
        "print(\"FastText (serendipity):\", serendipity_fasttext)"
      ]
    },
    {
      "cell_type": "code",
      "execution_count": 40,
      "metadata": {
        "colab": {
          "base_uri": "https://localhost:8080/"
        },
        "collapsed": true,
        "id": "zhNJALk-Ryh6",
        "outputId": "772224b9-4999-4974-eb0f-c8baba4e809b"
      },
      "outputs": [
        {
          "name": "stdout",
          "output_type": "stream",
          "text": [
            "Skip-gram (king): [ 0.31628785 -0.760931    0.8189545   0.91609496 -0.08077557 -1.026855\n",
            "  0.9565246  -1.5333086  -0.8491853   1.2783899  -0.20191586 -0.5709858\n",
            " -1.0252635  -0.07605202  1.5680606   0.7796275  -0.08226055  1.0603969\n",
            "  0.65367943 -0.618313    0.13778627  0.30875954 -1.1437807   1.0806786\n",
            "  0.3334001   1.6914557  -1.3188773   0.15517178 -0.4365917   1.0445077\n",
            " -0.49070135  0.6228756   0.          0.          0.          0.\n",
            "  0.          0.          0.          0.          0.          0.\n",
            "  0.          0.          0.          0.          0.          0.\n",
            "  0.          0.          0.          0.          0.          0.\n",
            "  0.          0.          0.          0.          0.          0.\n",
            "  0.          0.          0.          0.          0.          0.\n",
            "  0.          0.          0.          0.          0.          0.\n",
            "  0.          0.          0.          0.          0.          0.\n",
            "  0.          0.          0.          0.          0.          0.\n",
            "  0.          0.          0.          0.          0.          0.\n",
            "  0.          0.          0.          0.          0.          0.\n",
            "  0.          0.          0.          0.          0.          0.\n",
            "  0.          0.          0.          0.          0.          0.\n",
            "  0.          0.          0.          0.          0.          0.\n",
            "  0.          0.          0.          0.          0.          0.\n",
            "  0.          0.          0.          0.          0.          0.\n",
            "  0.          0.          0.          0.          0.          0.\n",
            "  0.          0.          0.          0.          0.          0.\n",
            "  0.          0.          0.          0.          0.          0.\n",
            "  0.          0.          0.          0.          0.          0.\n",
            "  0.          0.          0.          0.          0.          0.\n",
            "  0.          0.          0.          0.          0.          0.\n",
            "  0.          0.          0.          0.          0.          0.\n",
            "  0.          0.          0.          0.          0.          0.\n",
            "  0.          0.          0.          0.          0.          0.\n",
            "  0.          0.          0.          0.          0.          0.\n",
            "  0.          0.          0.          0.          0.          0.\n",
            "  0.          0.          0.          0.          0.          0.\n",
            "  0.          0.          0.          0.          0.          0.\n",
            "  0.          0.          0.          0.          0.          0.\n",
            "  0.          0.          0.          0.          0.          0.\n",
            "  0.          0.          0.          0.          0.          0.\n",
            "  0.          0.          0.          0.          0.          0.\n",
            "  0.          0.          0.          0.          0.          0.\n",
            "  0.          0.          0.          0.          0.          0.\n",
            "  0.          0.          0.          0.          0.          0.\n",
            "  0.          0.          0.          0.          0.          0.\n",
            "  0.          0.          0.          0.          0.          0.\n",
            "  0.          0.          0.          0.          0.          0.\n",
            "  0.          0.          0.          0.          0.          0.\n",
            "  0.          0.          0.          0.          0.          0.\n",
            "  0.          0.          0.          0.          0.          0.\n",
            "  0.          0.          0.          0.          0.          0.\n",
            "  0.          0.          0.          0.          0.          0.\n",
            "  0.          0.          0.          0.          0.          0.        ]\n",
            "GloVe (king): [-2.2184e-01  6.4884e-02 -8.6365e-02  5.1279e-01  3.2543e-01 -1.2934e-01\n",
            "  8.3160e-02  9.1629e-02 -3.0858e-01 -9.4149e-01 -8.8608e-02 -1.0847e-01\n",
            "  2.1129e-01  7.0052e-01  2.6751e-01 -4.0477e-02  1.7364e-01 -3.0757e-01\n",
            " -5.2120e-02 -1.7512e-01 -8.4090e-01  1.9205e-01 -1.3806e-01  3.8520e-01\n",
            "  2.7247e-01 -1.7401e-01 -4.6626e-01 -2.4944e-02  9.6500e-02  3.0107e-01\n",
            "  1.8020e-01 -6.8892e-02 -2.0452e-01  3.5746e-01 -2.8313e-01  2.8063e-01\n",
            " -1.1503e-02  1.0674e-01 -2.4369e-01 -1.7907e-01 -1.3202e-01 -1.7021e-01\n",
            " -5.9409e-01  9.5749e-01  2.0384e-01 -4.2887e-02  6.0685e-01 -6.8825e-02\n",
            "  5.2273e-01 -5.4755e-01 -5.4525e-01  4.3453e-01  4.4516e-01 -2.5659e-02\n",
            " -1.1531e-01 -1.8587e-01  3.6080e-01 -2.5104e-01  7.2084e-01 -5.8240e-02\n",
            "  3.4400e-01  4.7188e-01  2.0461e-01  6.9993e-01  4.8738e-01 -9.0267e-01\n",
            " -1.0382e-01  1.2704e-01 -4.1078e-01  4.0384e-01  9.6410e-02  3.3173e-01\n",
            "  7.0018e-02 -1.9735e-01  1.5903e-01  9.7236e-02  5.5790e-01 -5.4857e-01\n",
            "  9.1887e-02  2.3397e-01  3.9486e-01 -1.0993e-01  1.0648e-01 -2.5844e-01\n",
            "  5.5624e-01 -5.3970e-01  1.0160e-01 -3.3093e-02  1.0949e-01 -4.4593e-01\n",
            "  2.2759e-01 -4.2394e-01  7.9741e-02 -4.3659e-01 -2.0300e-01 -4.2155e-01\n",
            "  5.2501e-01 -1.3325e-01 -4.7647e-02 -5.5514e-01  2.7313e-01 -3.6058e-01\n",
            "  3.9217e-01  6.3712e-02  1.9537e-01  4.2702e-01  5.9883e-02  1.0991e-01\n",
            "  4.9734e-02  2.8878e-01  2.8826e-01  6.8495e-01  4.1031e-01 -2.5327e-01\n",
            "  5.9437e-02 -1.7610e-01  8.5954e-02  1.6996e-01 -8.3400e-02 -5.7049e-01\n",
            " -7.1907e-01  7.0347e-01 -3.7878e-01 -4.7651e-01 -9.7319e-02  1.4046e-01\n",
            " -1.8743e-02 -1.4805e-01  4.8686e-01  4.4781e-01  5.7390e-01  5.4020e-01\n",
            " -1.3905e-01 -1.4129e-01  1.9411e-01 -8.7851e-03 -2.3293e-01  5.1349e-02\n",
            " -4.2881e-01  5.8398e-01  2.0918e-01  7.5124e-01 -6.6115e-01 -1.5127e-01\n",
            "  2.0170e-01 -5.4020e-01  4.1303e-01  3.6115e-01 -3.8199e-01 -3.8997e-01\n",
            "  1.5415e-01 -2.1134e-01 -5.6198e-01  5.1930e-01  2.2430e-01  5.5390e-01\n",
            "  5.7824e-02 -4.3428e-01  8.7064e-02 -5.5141e-01  5.8216e-01  8.2845e-01\n",
            "  5.0565e-01  1.4649e-01 -3.6045e-01  8.2490e-01 -2.5254e-01  6.6615e-01\n",
            "  3.2949e-01  3.8154e-01 -5.1031e-01  9.0783e-01 -6.7226e-02 -6.2108e-01\n",
            " -2.2863e-01  3.0936e-01 -2.1678e-01 -8.6860e-02 -2.7449e-01  2.1552e-01\n",
            " -1.7032e-01  3.6406e-01  3.9852e-01 -1.6566e-01  4.3411e-01 -4.0548e-01\n",
            " -1.9907e-01  5.3835e-01 -3.2752e-01 -7.6328e-01 -4.2558e-01 -1.0101e-01\n",
            " -3.4878e-01 -7.1560e-01 -5.3603e-02  5.1620e-01  5.3542e-02 -5.1026e-01\n",
            " -1.8184e-01 -3.6726e-01  1.8552e+00 -5.6669e-01 -2.9214e-01  2.7065e-01\n",
            "  5.1873e-01 -6.2641e-01  4.3802e-01  4.2792e-02  3.2292e-01 -1.9796e-01\n",
            " -1.5116e-01 -1.2337e-01  1.6066e-01 -2.7202e-01 -1.2558e-01 -2.0355e-01\n",
            " -1.3273e-02 -9.0037e-01 -3.6197e-02 -4.4949e-01  5.0578e-02 -2.2396e-01\n",
            "  2.8727e-01  4.4153e-01 -8.0729e-01  1.0861e-01 -8.0332e-04  6.4491e-02\n",
            "  1.1235e-02  5.3375e-01 -5.8540e-01  3.4119e-01 -6.8075e-02  1.0167e-01\n",
            "  4.0207e-02  3.3076e-01  1.0610e-01  3.8180e-01 -3.2353e-02  6.5516e-02\n",
            " -3.2452e-01  5.8150e-01  4.7800e-01  2.6177e-01 -2.2771e-01  4.5153e-01\n",
            " -4.2122e-01 -5.9730e-01  2.8305e-01  4.7875e-01 -1.9059e-01  1.5642e-01\n",
            "  2.2882e-01 -3.1700e-01  6.0575e-01 -4.3283e-01  3.3706e-01 -1.7907e-01\n",
            "  5.0241e-01 -7.7599e-01  8.3968e-02 -6.0968e-01  9.5526e-02  7.2448e-01\n",
            " -1.7796e-01  5.6241e-02 -2.9491e-01 -6.9536e-01  4.9126e-01  5.1395e-02\n",
            "  5.1029e-01 -4.2161e-01  4.2673e-01 -2.8271e-01  1.0129e-02  1.7145e-01\n",
            " -9.2244e-01 -3.1237e-01  2.4198e-01 -2.3070e-01  1.6144e-01  3.6125e-01\n",
            " -1.4644e-01 -2.0540e-01 -8.6869e-01  2.2820e-01 -2.9150e-01  5.0015e-01\n",
            " -1.5411e-01 -3.3083e-01  6.9766e-01 -2.8740e-01 -5.0032e-01  1.1975e-01\n",
            " -1.7529e-01 -3.1923e-01  1.9985e-01  2.5230e-01  1.7340e-01  6.3594e-01]\n",
            "FastText (king): [-0.064354   -0.016745    0.0055719   0.046697   -0.0034301  -0.0086722\n",
            "  0.066335   -0.096579    0.11012     0.070567    0.078118    0.0059208\n",
            "  0.031092    0.052525    0.001381    0.11743     0.10011    -0.043335\n",
            "  0.021653    0.02551    -0.053522    0.0019187   0.011458    0.049964\n",
            "  0.12089    -0.0091803   0.028716    0.069817    0.079304   -0.0032881\n",
            " -0.021254   -0.089495   -0.098984    0.048199   -0.033486    0.0016479\n",
            "  0.037872   -0.0037018  -0.021568    0.046374    0.024542   -0.12828\n",
            " -0.078246   -0.049814    0.019691    0.062418   -0.038425    0.0031981\n",
            " -0.037104    0.021476    0.063358   -0.052323    0.0053256  -0.038504\n",
            " -0.035866   -0.15581     0.0027045   0.063519   -0.118      -0.044584\n",
            " -0.048999   -0.066992    0.11157     0.013788   -0.025527    0.06349\n",
            "  0.018855    0.018128    0.047115   -0.077935   -0.023266   -0.0068285\n",
            "  0.080091   -0.050579    0.038512    0.096753   -0.010271    0.0078194\n",
            " -0.036165    0.059298    0.00605     0.066124   -0.0080974   0.070428\n",
            " -0.05337     0.01108     0.070306   -0.0093833   0.0017168  -0.068062\n",
            " -0.071284    0.0078358  -0.12763    -0.073157    0.018425    0.13801\n",
            "  0.013699    0.027085   -0.033374   -0.029158    0.034787    0.10511\n",
            "  0.11568    -0.0022213  -0.035202   -0.17562     0.059214   -0.02914\n",
            "  0.0087891   0.034826   -0.01584     0.12517     0.083622   -0.040665\n",
            "  0.018205    0.017028    0.065247   -0.0056508  -0.03463     0.044365\n",
            " -0.014538    0.08961    -0.088897   -0.03658     0.060486    0.034857\n",
            "  0.08935    -0.13605     0.060718    0.089091   -0.059207    0.030643\n",
            " -0.0049577  -0.047999   -0.030065   -0.03409    -0.1078      0.070311\n",
            "  0.0010633  -0.041182    0.043224   -0.037505    0.12257    -0.051172\n",
            "  0.017692    0.030407    0.053986   -0.04404    -0.0067477  -0.058847\n",
            "  0.02837     0.026377    0.040541   -0.049575   -0.026702   -0.082932\n",
            " -0.021553   -0.0012923  -0.075805   -0.019277    0.048822    0.042775\n",
            " -0.065193   -0.027282   -0.002586    0.020858   -0.069937    0.028012\n",
            " -0.078569    0.045672   -0.022797   -0.043843   -0.061746   -0.11441\n",
            "  0.049394    0.071756    0.037812    0.036399   -0.02265     0.091399\n",
            "  0.11145     0.031704   -0.073673   -0.074267   -0.056644   -0.071307\n",
            " -0.14645     0.098115    0.018139    0.0060759   0.074047    0.092537\n",
            " -0.083081   -0.018948   -0.078365    0.0015728  -0.027083   -0.012031\n",
            " -0.029616    0.037799   -0.17496     0.049496    0.014582    0.065903\n",
            " -0.030257    0.11635    -0.02985    -0.15554     0.0048894  -0.069523\n",
            "  0.12866    -0.060992   -0.0061457   0.18691    -0.026988    0.053818\n",
            "  0.013805    0.055493    0.077983    0.013257    0.02838     0.00085946\n",
            " -0.070623    0.12906     0.017967   -0.095485    0.087297    0.091118\n",
            " -0.027876   -0.022267   -0.016351   -0.03496    -0.075196   -0.046603\n",
            "  0.037658    0.021273   -0.0022044  -0.052356    0.10417    -0.075925\n",
            "  0.082034   -0.076912   -0.099421    0.039247    0.021771    0.078131\n",
            "  0.064974    0.030119    0.039035    0.03629     0.12099     0.01488\n",
            "  0.0052522   0.027201    0.093773    0.12111    -0.063275    0.043794\n",
            "  0.14759    -0.047878   -0.067855    0.10981     0.05618     0.016496\n",
            "  0.084143   -0.012887   -0.11952     0.059024   -0.06076    -0.024439\n",
            " -0.0049257   0.10149    -0.12833     0.0048073   0.035974   -0.054663\n",
            " -0.018673   -0.11643    -0.057776    0.027306    0.065554   -0.0049041\n",
            "  0.097843   -0.035342   -0.013509    0.14074     0.0058156  -0.072961\n",
            " -0.01491     0.058424   -0.055633    0.0002608  -0.062154   -0.051738\n",
            " -0.043163    0.0062134  -0.0028704   0.07313     0.062217    0.097829  ]\n"
          ]
        }
      ],
      "source": [
        "# Compare the representation of polysemy (e.g., \"king\")\n",
        "king_skipgram = skipgram_vectors[1]\n",
        "king_glove = glove_vectors[1]\n",
        "king_fasttext = fasttext_vectors[1]\n",
        "\n",
        "print(\"Skip-gram (king):\", king_skipgram)\n",
        "print(\"GloVe (king):\", king_glove)\n",
        "print(\"FastText (king):\", king_fasttext)"
      ]
    },
    {
      "cell_type": "code",
      "execution_count": 33,
      "metadata": {
        "colab": {
          "base_uri": "https://localhost:8080/"
        },
        "id": "f2Xep49gR66C",
        "outputId": "4db71232-c7c3-49b3-ec8d-4fc0a49171c4"
      },
      "outputs": [
        {
          "name": "stdout",
          "output_type": "stream",
          "text": [
            "Skip-gram (king vs queen): 0.08476952\n",
            "GloVe (king vs queen): 0.63364697\n",
            "FastText (king vs queen): 0.7704246\n"
          ]
        }
      ],
      "source": [
        "# Compare the ability to capture contextual relationships\n",
        "queen_skipgram = skipgram_model.get(\"queen\", None)\n",
        "queen_glove = glove_model[\"queen\"]\n",
        "queen_fasttext = fasttext_model[\"queen\"]\n",
        "\n",
        "king_queen_skipgram = compare_similarity(king_skipgram, queen_skipgram)\n",
        "king_queen_glove = compare_similarity(king_glove, queen_glove)\n",
        "king_queen_fasttext = compare_similarity(king_fasttext, queen_fasttext)\n",
        "\n",
        "print(\"Skip-gram (king vs queen):\", king_queen_skipgram)\n",
        "print(\"GloVe (king vs queen):\", king_queen_glove)\n",
        "print(\"FastText (king vs queen):\", king_queen_fasttext)\n",
        "\n",
        "from sklearn.metrics.pairwise import cosine_similarity\n"
      ]
    },
    {
      "cell_type": "code",
      "execution_count": 39,
      "metadata": {
        "colab": {
          "base_uri": "https://localhost:8080/",
          "height": 699
        },
        "id": "2TCIW8rrTXPw",
        "outputId": "ec90a26c-c314-4bb4-b30c-2f2cd2516f81"
      },
      "outputs": [
        {
          "data": {
            "image/png": "[encoded data removed]",
            "text/plain": [
              "<Figure size 1000x800 with 1 Axes>"
            ]
          },
          "metadata": {},
          "output_type": "display_data"
        }
      ],
      "source": [
        "import numpy as np\n",
        "import matplotlib.pyplot as plt\n",
        "from sklearn.decomposition import PCA\n",
        "\n",
        "# List of words to analyze\n",
        "words = ['king', 'queen', 'man', 'woman', 'prince', 'princess']\n",
        "\n",
        "# Get word vectors from GloVe model\n",
        "glove_vectors = [glove_model[word] for word in words]\n",
        "\n",
        "# Get word vectors from FastText model\n",
        "fasttext_vectors = [fasttext_model[word] for word in words]\n",
        "\n",
        "# Get word vectors from Skip-gram model, skipping words not found in the model\n",
        "skipgram_vectors = []\n",
        "for word in words:\n",
        "    if word in skipgram_model:\n",
        "        skipgram_vectors.append(skipgram_model[word])\n",
        "    else:\n",
        "        skipgram_vectors.append(np.zeros(300))  # Use a zero vector if word not found\n",
        "\n",
        "# Normalize all vectors to the same size for PCA (e.g., by truncating or padding)\n",
        "max_len = max([len(vec) for vec in glove_vectors + fasttext_vectors + skipgram_vectors])\n",
        "glove_vectors = [np.pad(vec, (0, max_len - len(vec))) for vec in glove_vectors]\n",
        "fasttext_vectors = [np.pad(vec, (0, max_len - len(vec))) for vec in fasttext_vectors]\n",
        "skipgram_vectors = [np.pad(vec, (0, max_len - len(vec))) for vec in skipgram_vectors]\n",
        "\n",
        "# Reduce the dimensionality of word vectors to 2D using PCA\n",
        "pca = PCA(n_components=2)\n",
        "glove_pca = pca.fit_transform(glove_vectors)\n",
        "fasttext_pca = pca.fit_transform(fasttext_vectors)\n",
        "skipgram_pca = pca.fit_transform(skipgram_vectors)\n",
        "\n",
        "# Visualize the word embeddings\n",
        "plt.figure(figsize=(10, 8))\n",
        "\n",
        "# Plot GloVe word vectors\n",
        "plt.scatter(glove_pca[:, 0], glove_pca[:, 1], label='GloVe', color='blue')\n",
        "for i, word in enumerate(words):\n",
        "    plt.text(glove_pca[i, 0], glove_pca[i, 1], word, color='blue', fontsize=12)\n",
        "\n",
        "# Plot FastText word vectors\n",
        "plt.scatter(fasttext_pca[:, 0], fasttext_pca[:, 1], label='FastText', color='green')\n",
        "for i, word in enumerate(words):\n",
        "    plt.text(fasttext_pca[i, 0], fasttext_pca[i, 1], word, color='green', fontsize=12)\n",
        "\n",
        "# Plot Skip-gram word vectors\n",
        "plt.scatter(skipgram_pca[:, 0], skipgram_pca[:, 1], label='Skip-gram', color='red')\n",
        "for i, word in enumerate(words):\n",
        "    plt.text(skipgram_pca[i, 0], skipgram_pca[i, 1], word, color='red', fontsize=12)\n",
        "\n",
        "# Set plot attributes\n",
        "plt.legend()\n",
        "plt.title('Word Embeddings Comparison (GloVe, FastText, Skip-gram)')\n",
        "plt.grid(True)\n",
        "plt.show()"
      ]
    },
    {
      "cell_type": "markdown",
      "metadata": {
        "id": "3bwra7UGV4Eb"
      },
      "source": [
        "\n",
        "**GloVe (in blue)**:\n",
        "The word vectors from the GloVe model are more dispersed in the diagram but still show some semantic relevance. For instance, \"man\" and \"woman\" are relatively close in space, indicating a semantic relationship based on gender.\n",
        "\"King\" and \"queen\" as well as \"prince\" and \"princess\" also show proximity, suggesting their semantic relatedness.\n",
        "\n",
        "**FastText (in green)**:\n",
        "The word vectors from the FastText model are clustered more tightly together in the diagram, demonstrating closer semantic relationships. For example, \"man\" and \"woman\" as well as \"king\" and \"queen\" are much closer in distance, indicating stronger semantic proximity.\n",
        "This tight clustering may suggest that FastText performs better at capturing subtle differences between words since it considers subword information.\n",
        "\n",
        "**Skip-gram (in red)**:\n",
        "The word vectors from the Skip-gram model are more dispersed but still exhibit some semantic relevance. \"Man\" and \"woman\" as well as \"king\" and \"queen\" are relatively close in space.\n",
        "Compared to GloVe and FastText, the distribution of Skip-gram's word vectors might rely more on contextual information, and thus, it might not perform as well as the other models in capturing semantic relationships in some cases.\n",
        "\n",
        "Overall, all three models have the capability to capture semantic relationships between words, but they differ in the distribution and clustering of word vectors. GloVe and Skip-gram have more dispersed word vector distributions, while FastText's vectors are more tightly clustered, showing stronger semantic relevance. These differences may be related to the training methods and the way word vectors are generated by each model."
      ]
    },
    {
      "cell_type": "markdown",
      "metadata": {
        "id": "j7Uo6Wi9kkjW"
      },
      "source": [
        "## 1.6 Comparison of Memory and Computational Overheads: Word2Vec, GloVe, and FastText\n",
        "\n",
        "---\n",
        "\n",
        "### **1. Memory Overhead**\n",
        "\n",
        "### **(1) Word2Vec (Skip-Gram)**\n",
        "- **Parameters**: Only the embedding matrix.  \n",
        "  $\\text{Memory} = V \\times d$  \n",
        "  - $V$: Vocabulary size, $d$: Embedding dimension.\n",
        "\n",
        "### **(2) GloVe**\n",
        "- **Parameters**: Embeddings + biases + co-occurrence matrix (preprocessing).  \n",
        "  $\\text{Memory} = 2 \\times V \\times d + 2 \\times V + \\text{Co-occurrence Matrix}$  \n",
        "  - Co-occurrence matrix uses sparse storage (e.g., hash tables).\n",
        "\n",
        "### **(3) FastText**\n",
        "- **Parameters**: Subword embeddings + word embeddings.  \n",
        "  $\\text{Memory} = (V + S) \\times d$  \n",
        "  - $S$: Number of subwords (e.g., 3-6 character n-grams).\n",
        "\n",
        "---\n",
        "\n",
        "### **2. Computational Overhead**\n",
        "\n",
        "### **(1) Word2Vec (Skip-Gram)**\n",
        "- **Complexity**:  \n",
        "  $O(T \\times (C + K) \\times d)$  \n",
        "  - $T$: Total tokens, $C$: Window size, $K$: Negative samples.\n",
        "\n",
        "### **(2) GloVe**\n",
        "- **Complexity**:  \n",
        "  $O(N \\times d)$  \n",
        "  - $N$: Non-zero co-occurrence pairs.\n",
        "\n",
        "### **(3) FastText**\n",
        "- **Complexity**:  \n",
        "  $O(T \\times (B + C) \\times d)$  \n",
        "  - $B$: Subwords per word (typically 3-6).\n",
        "\n",
        "---\n",
        "\n",
        "### **3. Example with Parameters**\n",
        "Assume:  \n",
        "- $V = 10^4$, $d = 300$, $T = 10^6$, $C = 5$, $K = 5$, $S = 10^5$, $N = 10^7$.\n",
        "\n",
        "### **Memory Overhead**\n",
        "| Model      | Calculation                      | Memory (float32) |\n",
        "|------------|-----------------------------------|------------------|\n",
        "| Word2Vec   | $10^4 \\times 300$                 | 11.4 MB          |\n",
        "| GloVe      | $2 \\times 10^4 \\times 300 + 2 \\times 10^4 + 10^7$ | 23.6 MB |\n",
        "| FastText   | $(10^4 + 10^5) \\times 300$       | 125.8 MB         |\n",
        "\n",
        "### **Computational Overhead**\n",
        "| Model      | Calculation                      | Operations       |\n",
        "|------------|-----------------------------------|------------------|\n",
        "| Word2Vec   | $10^6 \\times (5 + 5) \\times 300$  | $3 \\times 10^9$  |\n",
        "| GloVe      | $10^7 \\times 300$                 | $3 \\times 10^9$  |\n",
        "| FastText   | $10^6 \\times (5 + 5) \\times 300$  | $3 \\times 10^9$  |\n",
        "\n",
        "---\n",
        "\n",
        "### **4. Summary**\n",
        "| Metric          | Word2Vec         | GloVe            | FastText         |\n",
        "|-----------------|------------------|------------------|------------------|\n",
        "| **Memory**      | Lowest (11.4 MB) | Moderate (23.6 MB)| Highest (125.8 MB)|\n",
        "| **Computation** | Moderate         | Moderate         | Highest          |\n",
        "| **Use Case**    | General semantics| Co-occurrence    | Morphology-rich languages |\n",
        "\n",
        "- **Memory-sensitive**: Prefer Word2Vec or GloVe.  \n",
        "- **Morphology-rich languages**: FastText excels.  \n",
        "- **Balanced choice**: GloVe for stable performance."
      ]
    }
  ],
  "metadata": {
    "accelerator": "GPU",
    "colab": {
      "gpuType": "T4",
      "provenance": [],
      "toc_visible": true
    },
    "kernelspec": {
      "display_name": "Python 3",
      "name": "python3"
    },
    "language_info": {
      "codemirror_mode": {
        "name": "ipython",
        "version": 3
      },
      "file_extension": ".py",
      "mimetype": "text/x-python",
      "name": "python",
      "nbconvert_exporter": "python",
      "pygments_lexer": "ipython3",
      "version": "3.12.3"
    }
  },
  "nbformat": 4,
  "nbformat_minor": 0
}
